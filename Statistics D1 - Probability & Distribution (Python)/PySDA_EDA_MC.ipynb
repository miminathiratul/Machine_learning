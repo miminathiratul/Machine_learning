{
 "cells": [
  {
   "cell_type": "markdown",
   "metadata": {},
   "source": [
    "<img src=\"../images/cads-logo.png\" style=\"height: 100px;\" align=left> \n",
    "<img src=\"../images/python-logo.png\" style=\"height: 100px;\" align=right>"
   ]
  },
  {
   "cell_type": "markdown",
   "metadata": {
    "slideshow": {
     "slide_type": "slide"
    }
   },
   "source": [
    "# Statistical Data Analysis \n",
    "Day 1.1"
   ]
  },
  {
   "cell_type": "markdown",
   "metadata": {
    "slideshow": {
     "slide_type": "subslide"
    }
   },
   "source": [
    "# Content Outline\n",
    "1. [**Introduction**](#introduction)\n",
    "    * [A. Course Scope and Layout](#scope)\n",
    "\n",
    "\n",
    "2. [**Data Exploration: Examining Distributions**](#data_exploration)\n",
    "    * [A. One Categorical Variable](#onecat): Frequency Distributions (counts, frequency table, and percentages), Bar Charts, Pie Charts\n",
    "    * [B. One Numerical Variable](#one_numeric)\n",
    "        * [Measures of Central Tendency](#central_tendency): \n",
    "            Median, Mean, Mode\n",
    "        * [Measures of Dispersion/Variability](#dispersion): \n",
    "            Range, Quantiles (quartiles, percentiles, and Inter-quartile Range), Outliers, Variance and Standard Deviation, Histograms, Boxplots\n",
    "\n",
    "\n",
    "3. [**Data Exploration: Examining Relationships**](#data_relationship)\n",
    "    * [A. Categorical Explanatory and Response Variables](#ctoc): \n",
    "        Two-way Tables (Cross-tabulation), Conditional Percentage Tables, Multibar Charts\n",
    "    * [B. Quantitative Explanatory and Categorical Response Variables](#ctoq): Numerical Summaries, Side-by-Side Boxplots\n",
    "    * [C. Quantitative Explanatory and Quantitative Response Variables](#qtoq): Scatterplots, Linear Relationships and Pearson's Correlation Coefficient"
   ]
  },
  {
   "cell_type": "code",
   "execution_count": 1,
   "metadata": {},
   "outputs": [],
   "source": [
    "import numpy as np \n",
    "import pandas as pd \n",
    "import math \n",
    "\n",
    "import seaborn as sns \n",
    "import matplotlib.pyplot as plt\n",
    "\n",
    "from statistics import mode\n",
    "from scipy.special import binom\n",
    "from scipy.stats import iqr"
   ]
  },
  {
   "cell_type": "code",
   "execution_count": 2,
   "metadata": {},
   "outputs": [
    {
     "data": {
      "text/plain": [
       "True"
      ]
     },
     "execution_count": 2,
     "metadata": {},
     "output_type": "execute_result"
    }
   ],
   "source": [
    "sns.__version__ >= '0.9.0'\n",
    "np.__version__ >= '1.15.4'\n",
    "pd.__version__ >= '0.23.4'"
   ]
  },
  {
   "cell_type": "code",
   "execution_count": 3,
   "metadata": {},
   "outputs": [],
   "source": [
    "sns.set()"
   ]
  },
  {
   "cell_type": "markdown",
   "metadata": {
    "slideshow": {
     "slide_type": "slide"
    }
   },
   "source": [
    "# 1. Introduction <a name=\"introduction\"></a>\n",
    "Statistics is the science of **collecting**, **organizing**, **analyzing**, **interpreting**, and **presenting** data. It helps us convert measurements we gather from the world around us into knowledge in a **systematic** manner to ensure both **consistency** and **reproducibility** of results.\n",
    "\n",
    "![](../images/statistics.png)\n",
    "\n",
    "Our journey begins with the simplest of questions - *\"What would we like to know about a certain group of objects?\"* The objects here can refer to people, animals, buildings, household items, etc. - basically anything that is of interest to us. The grouping of said objects is referred to as a **population**, and our aim is to generalize any results we derive from our investigations to this entire group. Populations are usually defined to encompass the largest possible collection of objects that are of interest in a given study."
   ]
  },
  {
   "cell_type": "markdown",
   "metadata": {},
   "source": [
    "<div class = \"alert alert-block alert-info\">\n",
    "<b>Example</b>\n",
    "<p>\n",
    "1. A researcher wishes to study the happiness levels among students currently undergoing tertiary education. The population defined here would be the set of all university students in Malaysia.\n",
    "<p>\n",
    "2. The Kuala Lumpur City Council (DBKL) is interested in identifying the average household expenditure of families in the Bottom 40% (B40) category under its purview. The population defined here would be the set of all families with household income RM3,000 and below.\n",
    "</div>"
   ]
  },
  {
   "cell_type": "markdown",
   "metadata": {},
   "source": [
    "In most cases, the population is so large that collecting data from the entire group becomes **infeasible** (sometimes impossible). For example, suppose that we are interested in the average price of all the 2-bedroom apartments in KL - this population is so large that we cannot study all of it without expending significant effort. In situations such as these, we **collect** data only from a **subgroup** of the population, which we call a **sample**. Ideally, a sample should represent the population well. For instance, a sample of 2-bedroom apartment prices in KL should include apartments from various municipalities to ensure no one part of the city is **under/over-represented**. Further details on populations and samples will be discussed later in this course.\n",
    "\n",
    "Having gathered some data on a problem of interest, our data can then be **organized** easily with the use of spreadsheets or databases. In this course, we will operate on the assumption that the data has been cleaned and organized on flat files (CSV, XLS, etc.) as we wish to *focus on the analysis* of our data and not the logistics behind how we store it.\n",
    "\n",
    "The first step of **analyzing** data is to **explore** it - this involves examining the type of data we've collected, how it behaves, and summarize our findings. This process is called **exploratory data analysis (EDA)**, and is one of the most crucial steps to understanding our data.\n",
    "\n",
    "Using said findings, we can employ probability and estimation to make generalizations about the population based on our sample. This process is called **inference**, and it represents the culmination of the analysis stage. Inference allows us to use the data collected via a sample to model the behavior of the entire population, e.g. using customer product reviews to determine what product features are in demand.\n",
    "\n",
    "Last but not least, we **interpret** and **present** our data with appropriate visual aids. Interpretation often calls for domain-specific knowledge, which is subject to the context of our study. As always, it is best to let the data do the talking and that's precisely where **visualization** comes in.\n",
    "\n",
    "The diagram below gives an overview of what is commonly known as **the big picture** of statistics. It represents the 3 core processes, which are producing/procuring data, exploratory analysis, and inference. Used well, statistics forms a powerful tool which can reap benefits for business decision making.\n",
    "\n",
    "![](../images/BigPic.png)"
   ]
  },
  {
   "cell_type": "markdown",
   "metadata": {
    "slideshow": {
     "slide_type": "slide"
    }
   },
   "source": [
    "### A. Course Scope and Layout <a name='scope'></a>\n",
    "\n",
    "1. **Day 1**: We will first explore the idea of **descriptive statistics**, where the statistics can be computed for all your existing data. To do so, we will do some data exploration. Then, we will get to the **basics of probability** and its connection to statistics.  \n",
    "2. **Day 2**: Some typical and exemplary **probability distributions** will be introduced. **Normal distribution** and **Central Limit Theorem** will be the main focus of the second day.\n",
    "3. **Day 3**: Finally, we end the course with some **inferential statistics** and **hypothesis testing**."
   ]
  },
  {
   "cell_type": "markdown",
   "metadata": {
    "slideshow": {
     "slide_type": "slide"
    }
   },
   "source": [
    "# 2. Data Exploration: Examining Distributions <a name='data_exploration'></a>\n",
    "We will begin by describing some typical datasets a data practitioner (such as yourself) will encounter. \n",
    "\n",
    "Let us look at the *iris* open data set ([read more](https://archive.ics.uci.edu/ml/datasets/iris)). This data set contains information about the length of various features of irises and their corresponding species."
   ]
  },
  {
   "cell_type": "code",
   "execution_count": 4,
   "metadata": {},
   "outputs": [
    {
     "data": {
      "text/html": [
       "<div>\n",
       "<style scoped>\n",
       "    .dataframe tbody tr th:only-of-type {\n",
       "        vertical-align: middle;\n",
       "    }\n",
       "\n",
       "    .dataframe tbody tr th {\n",
       "        vertical-align: top;\n",
       "    }\n",
       "\n",
       "    .dataframe thead th {\n",
       "        text-align: right;\n",
       "    }\n",
       "</style>\n",
       "<table border=\"1\" class=\"dataframe\">\n",
       "  <thead>\n",
       "    <tr style=\"text-align: right;\">\n",
       "      <th></th>\n",
       "      <th>Sepal.Length</th>\n",
       "      <th>Sepal.Width</th>\n",
       "      <th>Petal.Length</th>\n",
       "      <th>Petal.Width</th>\n",
       "      <th>Species</th>\n",
       "    </tr>\n",
       "  </thead>\n",
       "  <tbody>\n",
       "    <tr>\n",
       "      <th>0</th>\n",
       "      <td>5.1</td>\n",
       "      <td>3.5</td>\n",
       "      <td>1.4</td>\n",
       "      <td>0.2</td>\n",
       "      <td>setosa</td>\n",
       "    </tr>\n",
       "    <tr>\n",
       "      <th>1</th>\n",
       "      <td>4.9</td>\n",
       "      <td>3.0</td>\n",
       "      <td>1.4</td>\n",
       "      <td>0.2</td>\n",
       "      <td>setosa</td>\n",
       "    </tr>\n",
       "    <tr>\n",
       "      <th>2</th>\n",
       "      <td>4.7</td>\n",
       "      <td>3.2</td>\n",
       "      <td>1.3</td>\n",
       "      <td>0.2</td>\n",
       "      <td>setosa</td>\n",
       "    </tr>\n",
       "    <tr>\n",
       "      <th>3</th>\n",
       "      <td>4.6</td>\n",
       "      <td>3.1</td>\n",
       "      <td>1.5</td>\n",
       "      <td>0.2</td>\n",
       "      <td>setosa</td>\n",
       "    </tr>\n",
       "    <tr>\n",
       "      <th>4</th>\n",
       "      <td>5.0</td>\n",
       "      <td>3.6</td>\n",
       "      <td>1.4</td>\n",
       "      <td>0.2</td>\n",
       "      <td>setosa</td>\n",
       "    </tr>\n",
       "  </tbody>\n",
       "</table>\n",
       "</div>"
      ],
      "text/plain": [
       "   Sepal.Length  Sepal.Width  Petal.Length  Petal.Width Species\n",
       "0           5.1          3.5           1.4          0.2  setosa\n",
       "1           4.9          3.0           1.4          0.2  setosa\n",
       "2           4.7          3.2           1.3          0.2  setosa\n",
       "3           4.6          3.1           1.5          0.2  setosa\n",
       "4           5.0          3.6           1.4          0.2  setosa"
      ]
     },
     "execution_count": 4,
     "metadata": {},
     "output_type": "execute_result"
    }
   ],
   "source": [
    "iris = pd.read_csv(\"../data/iris.csv\")\n",
    "iris.head()"
   ]
  },
  {
   "cell_type": "markdown",
   "metadata": {
    "slideshow": {
     "slide_type": "subslide"
    }
   },
   "source": [
    "![](../images/Iris.png)\n",
    "\n",
    "As you can see, the data is a table consisting of rows and columns. Each column represents a characteristic (or 'feature') of a flower, whereas each row corresponds to an individual flower (or 'observation').\n",
    "\n",
    "Each column has restrictions on what values the fields can hold. The values of these fields can either be quantitative (as in `Sepal.Width`) or categorical (as in `Species`).\n",
    "\n",
    "Categorical data can be either **nominal** or **ordinal**. There is no implicit ordering in the categories of nominal data. We can think of gender as a nominal value - it would not make sense to 'rank' women above men, or vice versa. In the *iris* dataset, the column `Species` has nominal values. For ordinal data, there is an implicit ordering defined for the categories. For instance, the size of a cup measured as \"small\", \"medium\", and \"big\" is ordinal.\n",
    "\n",
    "Quantitative data on the other hand can be either **interval** or **ratio**. Interval data refers to data with an arbirtrary 0 such as time in A.D. and temperature in Celcius. On the contrary, ratio data refers to data with an absolute 0, such as physical measurements like length and weight."
   ]
  },
  {
   "cell_type": "markdown",
   "metadata": {
    "slideshow": {
     "slide_type": "subslide"
    }
   },
   "source": [
    "In Python, the `pd.DataFrame.info()` method returns the type of each column (variable)."
   ]
  },
  {
   "cell_type": "code",
   "execution_count": 5,
   "metadata": {
    "slideshow": {
     "slide_type": "fragment"
    }
   },
   "outputs": [
    {
     "name": "stdout",
     "output_type": "stream",
     "text": [
      "<class 'pandas.core.frame.DataFrame'>\n",
      "RangeIndex: 150 entries, 0 to 149\n",
      "Data columns (total 5 columns):\n",
      "Sepal.Length    150 non-null float64\n",
      "Sepal.Width     150 non-null float64\n",
      "Petal.Length    150 non-null float64\n",
      "Petal.Width     150 non-null float64\n",
      "Species         150 non-null object\n",
      "dtypes: float64(4), object(1)\n",
      "memory usage: 5.9+ KB\n"
     ]
    }
   ],
   "source": [
    "iris.info()"
   ]
  },
  {
   "cell_type": "code",
   "execution_count": 6,
   "metadata": {},
   "outputs": [],
   "source": [
    "iris.Species=iris.Species.astype('category')"
   ]
  },
  {
   "cell_type": "code",
   "execution_count": 7,
   "metadata": {},
   "outputs": [
    {
     "name": "stdout",
     "output_type": "stream",
     "text": [
      "<class 'pandas.core.frame.DataFrame'>\n",
      "RangeIndex: 150 entries, 0 to 149\n",
      "Data columns (total 5 columns):\n",
      "Sepal.Length    150 non-null float64\n",
      "Sepal.Width     150 non-null float64\n",
      "Petal.Length    150 non-null float64\n",
      "Petal.Width     150 non-null float64\n",
      "Species         150 non-null category\n",
      "dtypes: category(1), float64(4)\n",
      "memory usage: 5.0 KB\n"
     ]
    }
   ],
   "source": [
    "iris.info()"
   ]
  },
  {
   "cell_type": "code",
   "execution_count": 8,
   "metadata": {},
   "outputs": [
    {
     "data": {
      "text/html": [
       "<div>\n",
       "<style scoped>\n",
       "    .dataframe tbody tr th:only-of-type {\n",
       "        vertical-align: middle;\n",
       "    }\n",
       "\n",
       "    .dataframe tbody tr th {\n",
       "        vertical-align: top;\n",
       "    }\n",
       "\n",
       "    .dataframe thead th {\n",
       "        text-align: right;\n",
       "    }\n",
       "</style>\n",
       "<table border=\"1\" class=\"dataframe\">\n",
       "  <thead>\n",
       "    <tr style=\"text-align: right;\">\n",
       "      <th></th>\n",
       "      <th>Sepal.Length</th>\n",
       "      <th>Sepal.Width</th>\n",
       "      <th>Petal.Length</th>\n",
       "      <th>Petal.Width</th>\n",
       "    </tr>\n",
       "  </thead>\n",
       "  <tbody>\n",
       "    <tr>\n",
       "      <th>count</th>\n",
       "      <td>150.000000</td>\n",
       "      <td>150.000000</td>\n",
       "      <td>150.000000</td>\n",
       "      <td>150.000000</td>\n",
       "    </tr>\n",
       "    <tr>\n",
       "      <th>mean</th>\n",
       "      <td>5.843333</td>\n",
       "      <td>3.057333</td>\n",
       "      <td>3.758000</td>\n",
       "      <td>1.199333</td>\n",
       "    </tr>\n",
       "    <tr>\n",
       "      <th>std</th>\n",
       "      <td>0.828066</td>\n",
       "      <td>0.435866</td>\n",
       "      <td>1.765298</td>\n",
       "      <td>0.762238</td>\n",
       "    </tr>\n",
       "    <tr>\n",
       "      <th>min</th>\n",
       "      <td>4.300000</td>\n",
       "      <td>2.000000</td>\n",
       "      <td>1.000000</td>\n",
       "      <td>0.100000</td>\n",
       "    </tr>\n",
       "    <tr>\n",
       "      <th>25%</th>\n",
       "      <td>5.100000</td>\n",
       "      <td>2.800000</td>\n",
       "      <td>1.600000</td>\n",
       "      <td>0.300000</td>\n",
       "    </tr>\n",
       "    <tr>\n",
       "      <th>50%</th>\n",
       "      <td>5.800000</td>\n",
       "      <td>3.000000</td>\n",
       "      <td>4.350000</td>\n",
       "      <td>1.300000</td>\n",
       "    </tr>\n",
       "    <tr>\n",
       "      <th>75%</th>\n",
       "      <td>6.400000</td>\n",
       "      <td>3.300000</td>\n",
       "      <td>5.100000</td>\n",
       "      <td>1.800000</td>\n",
       "    </tr>\n",
       "    <tr>\n",
       "      <th>max</th>\n",
       "      <td>7.900000</td>\n",
       "      <td>4.400000</td>\n",
       "      <td>6.900000</td>\n",
       "      <td>2.500000</td>\n",
       "    </tr>\n",
       "  </tbody>\n",
       "</table>\n",
       "</div>"
      ],
      "text/plain": [
       "       Sepal.Length  Sepal.Width  Petal.Length  Petal.Width\n",
       "count    150.000000   150.000000    150.000000   150.000000\n",
       "mean       5.843333     3.057333      3.758000     1.199333\n",
       "std        0.828066     0.435866      1.765298     0.762238\n",
       "min        4.300000     2.000000      1.000000     0.100000\n",
       "25%        5.100000     2.800000      1.600000     0.300000\n",
       "50%        5.800000     3.000000      4.350000     1.300000\n",
       "75%        6.400000     3.300000      5.100000     1.800000\n",
       "max        7.900000     4.400000      6.900000     2.500000"
      ]
     },
     "execution_count": 8,
     "metadata": {},
     "output_type": "execute_result"
    }
   ],
   "source": [
    "iris.describe()"
   ]
  },
  {
   "cell_type": "code",
   "execution_count": 9,
   "metadata": {},
   "outputs": [
    {
     "data": {
      "text/html": [
       "<div>\n",
       "<style scoped>\n",
       "    .dataframe tbody tr th:only-of-type {\n",
       "        vertical-align: middle;\n",
       "    }\n",
       "\n",
       "    .dataframe tbody tr th {\n",
       "        vertical-align: top;\n",
       "    }\n",
       "\n",
       "    .dataframe thead th {\n",
       "        text-align: right;\n",
       "    }\n",
       "</style>\n",
       "<table border=\"1\" class=\"dataframe\">\n",
       "  <thead>\n",
       "    <tr style=\"text-align: right;\">\n",
       "      <th></th>\n",
       "      <th>Species</th>\n",
       "    </tr>\n",
       "  </thead>\n",
       "  <tbody>\n",
       "    <tr>\n",
       "      <th>count</th>\n",
       "      <td>150</td>\n",
       "    </tr>\n",
       "    <tr>\n",
       "      <th>unique</th>\n",
       "      <td>3</td>\n",
       "    </tr>\n",
       "    <tr>\n",
       "      <th>top</th>\n",
       "      <td>virginica</td>\n",
       "    </tr>\n",
       "    <tr>\n",
       "      <th>freq</th>\n",
       "      <td>50</td>\n",
       "    </tr>\n",
       "  </tbody>\n",
       "</table>\n",
       "</div>"
      ],
      "text/plain": [
       "          Species\n",
       "count         150\n",
       "unique          3\n",
       "top     virginica\n",
       "freq           50"
      ]
     },
     "execution_count": 9,
     "metadata": {},
     "output_type": "execute_result"
    }
   ],
   "source": [
    "iris.describe(include='category')"
   ]
  },
  {
   "cell_type": "code",
   "execution_count": 10,
   "metadata": {},
   "outputs": [
    {
     "data": {
      "text/html": [
       "<div>\n",
       "<style scoped>\n",
       "    .dataframe tbody tr th:only-of-type {\n",
       "        vertical-align: middle;\n",
       "    }\n",
       "\n",
       "    .dataframe tbody tr th {\n",
       "        vertical-align: top;\n",
       "    }\n",
       "\n",
       "    .dataframe thead th {\n",
       "        text-align: right;\n",
       "    }\n",
       "</style>\n",
       "<table border=\"1\" class=\"dataframe\">\n",
       "  <thead>\n",
       "    <tr style=\"text-align: right;\">\n",
       "      <th></th>\n",
       "      <th>Sepal.Length</th>\n",
       "      <th>Sepal.Width</th>\n",
       "      <th>Petal.Length</th>\n",
       "      <th>Petal.Width</th>\n",
       "      <th>Species</th>\n",
       "    </tr>\n",
       "  </thead>\n",
       "  <tbody>\n",
       "    <tr>\n",
       "      <th>count</th>\n",
       "      <td>150.000000</td>\n",
       "      <td>150.000000</td>\n",
       "      <td>150.000000</td>\n",
       "      <td>150.000000</td>\n",
       "      <td>150</td>\n",
       "    </tr>\n",
       "    <tr>\n",
       "      <th>unique</th>\n",
       "      <td>NaN</td>\n",
       "      <td>NaN</td>\n",
       "      <td>NaN</td>\n",
       "      <td>NaN</td>\n",
       "      <td>3</td>\n",
       "    </tr>\n",
       "    <tr>\n",
       "      <th>top</th>\n",
       "      <td>NaN</td>\n",
       "      <td>NaN</td>\n",
       "      <td>NaN</td>\n",
       "      <td>NaN</td>\n",
       "      <td>virginica</td>\n",
       "    </tr>\n",
       "    <tr>\n",
       "      <th>freq</th>\n",
       "      <td>NaN</td>\n",
       "      <td>NaN</td>\n",
       "      <td>NaN</td>\n",
       "      <td>NaN</td>\n",
       "      <td>50</td>\n",
       "    </tr>\n",
       "    <tr>\n",
       "      <th>mean</th>\n",
       "      <td>5.843333</td>\n",
       "      <td>3.057333</td>\n",
       "      <td>3.758000</td>\n",
       "      <td>1.199333</td>\n",
       "      <td>NaN</td>\n",
       "    </tr>\n",
       "    <tr>\n",
       "      <th>std</th>\n",
       "      <td>0.828066</td>\n",
       "      <td>0.435866</td>\n",
       "      <td>1.765298</td>\n",
       "      <td>0.762238</td>\n",
       "      <td>NaN</td>\n",
       "    </tr>\n",
       "    <tr>\n",
       "      <th>min</th>\n",
       "      <td>4.300000</td>\n",
       "      <td>2.000000</td>\n",
       "      <td>1.000000</td>\n",
       "      <td>0.100000</td>\n",
       "      <td>NaN</td>\n",
       "    </tr>\n",
       "    <tr>\n",
       "      <th>25%</th>\n",
       "      <td>5.100000</td>\n",
       "      <td>2.800000</td>\n",
       "      <td>1.600000</td>\n",
       "      <td>0.300000</td>\n",
       "      <td>NaN</td>\n",
       "    </tr>\n",
       "    <tr>\n",
       "      <th>50%</th>\n",
       "      <td>5.800000</td>\n",
       "      <td>3.000000</td>\n",
       "      <td>4.350000</td>\n",
       "      <td>1.300000</td>\n",
       "      <td>NaN</td>\n",
       "    </tr>\n",
       "    <tr>\n",
       "      <th>75%</th>\n",
       "      <td>6.400000</td>\n",
       "      <td>3.300000</td>\n",
       "      <td>5.100000</td>\n",
       "      <td>1.800000</td>\n",
       "      <td>NaN</td>\n",
       "    </tr>\n",
       "    <tr>\n",
       "      <th>max</th>\n",
       "      <td>7.900000</td>\n",
       "      <td>4.400000</td>\n",
       "      <td>6.900000</td>\n",
       "      <td>2.500000</td>\n",
       "      <td>NaN</td>\n",
       "    </tr>\n",
       "  </tbody>\n",
       "</table>\n",
       "</div>"
      ],
      "text/plain": [
       "        Sepal.Length  Sepal.Width  Petal.Length  Petal.Width    Species\n",
       "count     150.000000   150.000000    150.000000   150.000000        150\n",
       "unique           NaN          NaN           NaN          NaN          3\n",
       "top              NaN          NaN           NaN          NaN  virginica\n",
       "freq             NaN          NaN           NaN          NaN         50\n",
       "mean        5.843333     3.057333      3.758000     1.199333        NaN\n",
       "std         0.828066     0.435866      1.765298     0.762238        NaN\n",
       "min         4.300000     2.000000      1.000000     0.100000        NaN\n",
       "25%         5.100000     2.800000      1.600000     0.300000        NaN\n",
       "50%         5.800000     3.000000      4.350000     1.300000        NaN\n",
       "75%         6.400000     3.300000      5.100000     1.800000        NaN\n",
       "max         7.900000     4.400000      6.900000     2.500000        NaN"
      ]
     },
     "execution_count": 10,
     "metadata": {},
     "output_type": "execute_result"
    }
   ],
   "source": [
    "iris.describe(include=['float','category'])"
   ]
  },
  {
   "cell_type": "markdown",
   "metadata": {
    "slideshow": {
     "slide_type": "fragment"
    }
   },
   "source": [
    "Let's explore this data. Each variable or column in the data is a long list, which is not very informative. To convert this raw data into meaningful information, we need to summarize and examine its **distribution**. The distribution of a variable shows *what values the variable takes* and *how often the variable takes those values*."
   ]
  },
  {
   "cell_type": "markdown",
   "metadata": {
    "slideshow": {
     "slide_type": "slide"
    }
   },
   "source": [
    "## A. One Categorical Variable <a name=\"onecat\"></a>\n",
    "For data that consists of one categorical variable, we are often interested in demographic information. For example, we may ask:\n",
    "1. *How many different species of irises do we have in this sample?*\n",
    "2. *What is the percentage breakdown of species in the sampled flowers?*\n",
    "\n",
    "The unique categories of species are:"
   ]
  },
  {
   "cell_type": "code",
   "execution_count": 11,
   "metadata": {},
   "outputs": [
    {
     "name": "stdout",
     "output_type": "stream",
     "text": [
      "The unique categories of species are:\n"
     ]
    },
    {
     "data": {
      "text/plain": [
       "[setosa, versicolor, virginica]\n",
       "Categories (3, object): [setosa, versicolor, virginica]"
      ]
     },
     "execution_count": 11,
     "metadata": {},
     "output_type": "execute_result"
    }
   ],
   "source": [
    "print(\"The unique categories of species are:\")\n",
    "iris.Species.unique()"
   ]
  },
  {
   "cell_type": "markdown",
   "metadata": {},
   "source": [
    "Below is a frequency table that shows us how many observations are available of each species in our data set:"
   ]
  },
  {
   "cell_type": "code",
   "execution_count": 12,
   "metadata": {},
   "outputs": [
    {
     "name": "stdout",
     "output_type": "stream",
     "text": [
      "The frequency table of species are:\n",
      "\n"
     ]
    },
    {
     "data": {
      "text/plain": [
       "virginica     50\n",
       "versicolor    50\n",
       "setosa        50\n",
       "Name: Species, dtype: int64"
      ]
     },
     "execution_count": 12,
     "metadata": {},
     "output_type": "execute_result"
    }
   ],
   "source": [
    "print(\"The frequency table of species are:\\n\")\n",
    "iris.Species.value_counts()"
   ]
  },
  {
   "cell_type": "markdown",
   "metadata": {},
   "source": [
    "We can further modify the frequency table to give us the breakdown of species in percentages with the `normalize` argument:"
   ]
  },
  {
   "cell_type": "code",
   "execution_count": 13,
   "metadata": {},
   "outputs": [
    {
     "name": "stdout",
     "output_type": "stream",
     "text": [
      "The percentages for each category of species are:\n",
      "\n"
     ]
    },
    {
     "data": {
      "text/plain": [
       "virginica     33.333333\n",
       "versicolor    33.333333\n",
       "setosa        33.333333\n",
       "Name: Species, dtype: float64"
      ]
     },
     "execution_count": 13,
     "metadata": {},
     "output_type": "execute_result"
    }
   ],
   "source": [
    "print(\"The percentages for each category of species are:\\n\")\n",
    "iris.Species.value_counts(normalize = True) * 100"
   ]
  },
  {
   "cell_type": "code",
   "execution_count": 14,
   "metadata": {
    "scrolled": true
   },
   "outputs": [
    {
     "data": {
      "image/png": "[encoded data removed]",
      "text/plain": [
       "<Figure size 432x288 with 1 Axes>"
      ]
     },
     "metadata": {},
     "output_type": "display_data"
    }
   ],
   "source": [
    "iris.Species.value_counts().plot.pie(autopct='%1.1f%%',title = \"Pie Chart of Species in iris Data\")\n",
    "plt.axis('equal')\n",
    "plt.show()"
   ]
  },
  {
   "cell_type": "code",
   "execution_count": 15,
   "metadata": {},
   "outputs": [
    {
     "data": {
      "text/plain": [
       "<matplotlib.axes._subplots.AxesSubplot at 0x1a1d9c8ac8>"
      ]
     },
     "execution_count": 15,
     "metadata": {},
     "output_type": "execute_result"
    },
    {
     "data": {
      "image/png": "[encoded data removed]",
      "text/plain": [
       "<Figure size 432x288 with 1 Axes>"
      ]
     },
     "metadata": {},
     "output_type": "display_data"
    }
   ],
   "source": [
    "iris.Species.value_counts().plot.bar(title = \"Bar Chart of Species in iris Data\")"
   ]
  },
  {
   "cell_type": "markdown",
   "metadata": {
    "slideshow": {
     "slide_type": "subslide"
    }
   },
   "source": [
    "<div class = \"alert alert-block alert-danger\">\n",
    "<b>Exercise</b>\n",
    "<p>\n",
    "A survey asked 1,200 college students the following question: \"With whom do you find it easiest to make friends?\" (opposite sex, same sex or no difference).\n",
    "<p>\n",
    "1. Print the frequency table and table of percentages.\n",
    "<p>\n",
    "2. Draw a pie chart and bar chart for the data.\n",
    "</div>"
   ]
  },
  {
   "cell_type": "code",
   "execution_count": 16,
   "metadata": {},
   "outputs": [
    {
     "data": {
      "text/html": [
       "<div>\n",
       "<style scoped>\n",
       "    .dataframe tbody tr th:only-of-type {\n",
       "        vertical-align: middle;\n",
       "    }\n",
       "\n",
       "    .dataframe tbody tr th {\n",
       "        vertical-align: top;\n",
       "    }\n",
       "\n",
       "    .dataframe thead th {\n",
       "        text-align: right;\n",
       "    }\n",
       "</style>\n",
       "<table border=\"1\" class=\"dataframe\">\n",
       "  <thead>\n",
       "    <tr style=\"text-align: right;\">\n",
       "      <th></th>\n",
       "      <th>Friends</th>\n",
       "    </tr>\n",
       "  </thead>\n",
       "  <tbody>\n",
       "    <tr>\n",
       "      <th>0</th>\n",
       "      <td>No difference</td>\n",
       "    </tr>\n",
       "    <tr>\n",
       "      <th>1</th>\n",
       "      <td>No difference</td>\n",
       "    </tr>\n",
       "    <tr>\n",
       "      <th>2</th>\n",
       "      <td>No difference</td>\n",
       "    </tr>\n",
       "    <tr>\n",
       "      <th>3</th>\n",
       "      <td>No difference</td>\n",
       "    </tr>\n",
       "    <tr>\n",
       "      <th>4</th>\n",
       "      <td>No difference</td>\n",
       "    </tr>\n",
       "  </tbody>\n",
       "</table>\n",
       "</div>"
      ],
      "text/plain": [
       "         Friends\n",
       "0  No difference\n",
       "1  No difference\n",
       "2  No difference\n",
       "3  No difference\n",
       "4  No difference"
      ]
     },
     "execution_count": 16,
     "metadata": {},
     "output_type": "execute_result"
    }
   ],
   "source": [
    "friends = pd.read_csv(\"../data/friends.csv\")\n",
    "friends.head()"
   ]
  },
  {
   "cell_type": "code",
   "execution_count": 17,
   "metadata": {},
   "outputs": [
    {
     "name": "stdout",
     "output_type": "stream",
     "text": [
      "The unique categories of friends are:\n"
     ]
    },
    {
     "data": {
      "text/plain": [
       "array(['No difference', 'Opposite sex', 'Same sex'], dtype=object)"
      ]
     },
     "execution_count": 17,
     "metadata": {},
     "output_type": "execute_result"
    }
   ],
   "source": [
    "# MC \n",
    "print(\"The unique categories of friends are:\") \n",
    "friends.Friends.unique()"
   ]
  },
  {
   "cell_type": "code",
   "execution_count": 18,
   "metadata": {},
   "outputs": [
    {
     "name": "stdout",
     "output_type": "stream",
     "text": [
      "The frequency table of friends are:\n"
     ]
    },
    {
     "data": {
      "text/plain": [
       "No difference    602\n",
       "Opposite sex     434\n",
       "Same sex         164\n",
       "Name: Friends, dtype: int64"
      ]
     },
     "execution_count": 18,
     "metadata": {},
     "output_type": "execute_result"
    }
   ],
   "source": [
    "# MC\n",
    "print(\"The frequency table of friends are:\")\n",
    "friends_tab = friends.Friends.value_counts()\n",
    "friends_tab"
   ]
  },
  {
   "cell_type": "code",
   "execution_count": 19,
   "metadata": {
    "slideshow": {
     "slide_type": "subslide"
    }
   },
   "outputs": [
    {
     "name": "stdout",
     "output_type": "stream",
     "text": [
      "The percentages for each category of friends are:\n"
     ]
    },
    {
     "data": {
      "text/plain": [
       "No difference    50.166667\n",
       "Opposite sex     36.166667\n",
       "Same sex         13.666667\n",
       "Name: Friends, dtype: float64"
      ]
     },
     "execution_count": 19,
     "metadata": {},
     "output_type": "execute_result"
    }
   ],
   "source": [
    "# MC \n",
    "print(\"The percentages for each category of friends are:\")\n",
    "friends.Friends.value_counts(normalize=True)* 100"
   ]
  },
  {
   "cell_type": "code",
   "execution_count": 20,
   "metadata": {},
   "outputs": [
    {
     "data": {
      "text/plain": [
       "<matplotlib.axes._subplots.AxesSubplot at 0x1a1daa6208>"
      ]
     },
     "execution_count": 20,
     "metadata": {},
     "output_type": "execute_result"
    },
    {
     "data": {
      "image/png": "[encoded data removed]",
      "text/plain": [
       "<Figure size 432x288 with 1 Axes>"
      ]
     },
     "metadata": {},
     "output_type": "display_data"
    }
   ],
   "source": [
    "# MC \n",
    "friends_tab.plot.pie(autopct='%1.1f%%',title = \"Pie Chart of friends\")"
   ]
  },
  {
   "cell_type": "code",
   "execution_count": 21,
   "metadata": {},
   "outputs": [
    {
     "data": {
      "text/plain": [
       "<matplotlib.axes._subplots.AxesSubplot at 0x1a1db858d0>"
      ]
     },
     "execution_count": 21,
     "metadata": {},
     "output_type": "execute_result"
    },
    {
     "data": {
      "image/png": "[encoded data removed]",
      "text/plain": [
       "<Figure size 432x288 with 1 Axes>"
      ]
     },
     "metadata": {},
     "output_type": "display_data"
    }
   ],
   "source": [
    "# MC\n",
    "friends_tab.plot.bar(title = \"Bar Chart of friends\")"
   ]
  },
  {
   "cell_type": "markdown",
   "metadata": {
    "slideshow": {
     "slide_type": "slide"
    }
   },
   "source": [
    "## B. One Numerical Variable <a name='one_numeric'></a>\n",
    "For data that consists of one numerical variable, we can use numerical measures to represent the data. There are two main types of numerical measures - **measures of central tendency**, and **measures of dispersion/variability**."
   ]
  },
  {
   "cell_type": "markdown",
   "metadata": {},
   "source": [
    "### Measures of Central Tendency <a name='central_tendency'></a>\n",
    "Measures of central tendency are used to describe the 'body' of a distribution by providing a reference point to its center. There are 3 measures of central tendency, namely the mean, median, and mode.\n",
    "\n",
    "Let's begin by generating a random list of 20 integers from a uniform distribution with integers ranging from 0 to 8."
   ]
  },
  {
   "cell_type": "code",
   "execution_count": 22,
   "metadata": {},
   "outputs": [],
   "source": [
    "np.random.seed(42)"
   ]
  },
  {
   "cell_type": "code",
   "execution_count": 23,
   "metadata": {},
   "outputs": [
    {
     "data": {
      "text/plain": [
       "array([6, 3, 7, 4, 6, 2, 6, 7, 4, 3, 7, 7, 2, 5, 4, 1, 7, 5, 1, 4])"
      ]
     },
     "execution_count": 23,
     "metadata": {},
     "output_type": "execute_result"
    }
   ],
   "source": [
    "array_1 = np.random.choice(np.arange(0, 9), size = 20)\n",
    "array_1"
   ]
  },
  {
   "cell_type": "markdown",
   "metadata": {
    "slideshow": {
     "slide_type": "subslide"
    }
   },
   "source": [
    "#### Mean\n",
    "The **mean** for a set of numerical data is given by the formula:\n",
    "\n",
    "$$\\bar{x} = \\frac{\\sum{x}}{n}$$\n",
    "\n",
    "where $\\bar{x}$ is the mean, $n$ is the number of elements/data points, and $\\Sigma$ denotes summation. It represents the center of a data set in the sense that the weight of the numbers to the left and right of the mean are equal."
   ]
  },
  {
   "cell_type": "markdown",
   "metadata": {},
   "source": [
    "`pandas` objects have a `mean` method: "
   ]
  },
  {
   "cell_type": "code",
   "execution_count": 24,
   "metadata": {},
   "outputs": [
    {
     "data": {
      "text/plain": [
       "'The mean of array_1 calculated using the pandas method is 4.55'"
      ]
     },
     "execution_count": 24,
     "metadata": {},
     "output_type": "execute_result"
    }
   ],
   "source": [
    "built_mean_pd = pd.Series(array_1).mean()\n",
    "f\"The mean of array_1 calculated using the pandas method is {built_mean_pd}\""
   ]
  },
  {
   "cell_type": "markdown",
   "metadata": {},
   "source": [
    "`numpy` provides a function `mean()` that calculates the mean. "
   ]
  },
  {
   "cell_type": "code",
   "execution_count": 25,
   "metadata": {},
   "outputs": [
    {
     "data": {
      "text/plain": [
       "'The mean of array_1 calculated using the numpy function is 4.55'"
      ]
     },
     "execution_count": 25,
     "metadata": {},
     "output_type": "execute_result"
    }
   ],
   "source": [
    "built_mean_np = np.mean(array_1)\n",
    "f\"The mean of array_1 calculated using the numpy function is {built_mean_np}\""
   ]
  },
  {
   "cell_type": "markdown",
   "metadata": {},
   "source": [
    "Let's compute the mean of `array_1` using the formula and show that the built-in function yields the same output."
   ]
  },
  {
   "cell_type": "code",
   "execution_count": 26,
   "metadata": {},
   "outputs": [
    {
     "data": {
      "text/plain": [
       "'The mean of array_1 by manual computation is 4.55'"
      ]
     },
     "execution_count": 26,
     "metadata": {},
     "output_type": "execute_result"
    }
   ],
   "source": [
    "manual_mean = np.sum(array_1)/len(array_1)\n",
    "manual_mean\n",
    "f\"The mean of array_1 by manual computation is {manual_mean}\""
   ]
  },
  {
   "cell_type": "code",
   "execution_count": 27,
   "metadata": {},
   "outputs": [
    {
     "data": {
      "text/plain": [
       "'Is built_median = manual_median? True'"
      ]
     },
     "execution_count": 27,
     "metadata": {},
     "output_type": "execute_result"
    }
   ],
   "source": [
    "# Finally, we'll check if these values align\n",
    "f\"Is built_median = manual_median? {built_mean_np == manual_mean}\""
   ]
  },
  {
   "cell_type": "markdown",
   "metadata": {
    "slideshow": {
     "slide_type": "subslide"
    }
   },
   "source": [
    "<div class = \"alert alert-block alert-success\">\n",
    "<p>\n",
    "<b>Pros:</b>\n",
    "<p>\n",
    "1. Low computational cost.\n",
    "<p>\n",
    "2. Gives a good representation of the 'center' as the sum of data points to the left and right of the mean are balanced.\n",
    "<p>\n",
    "<b>Cons:</b>\n",
    "<p>\n",
    "1. Easily influenced by outliers, i.e. values that are abnormally large/small compared to the rest of the set.\n",
    "</div>"
   ]
  },
  {
   "cell_type": "markdown",
   "metadata": {},
   "source": [
    "Let's examine the impact of an outlier on our set `array_1`. We'll simulate this by adding a large number to the set as below:"
   ]
  },
  {
   "cell_type": "code",
   "execution_count": 28,
   "metadata": {},
   "outputs": [
    {
     "data": {
      "text/plain": [
       "array([  6,   3,   7,   4,   6,   2,   6,   7,   4,   3,   7,   7,   2,\n",
       "         5,   4,   1,   7,   5,   1,   4, 100])"
      ]
     },
     "execution_count": 28,
     "metadata": {},
     "output_type": "execute_result"
    }
   ],
   "source": [
    "array_2 = np.append(array_1, 100)\n",
    "array_2 "
   ]
  },
  {
   "cell_type": "markdown",
   "metadata": {},
   "source": [
    "Now let's compute the mean of the new set:"
   ]
  },
  {
   "cell_type": "code",
   "execution_count": 29,
   "metadata": {},
   "outputs": [
    {
     "data": {
      "text/plain": [
       "9.095238095238095"
      ]
     },
     "execution_count": 29,
     "metadata": {},
     "output_type": "execute_result"
    }
   ],
   "source": [
    "np.mean(array_2)"
   ]
  },
  {
   "cell_type": "markdown",
   "metadata": {},
   "source": [
    "As we can see, there is a large swing in the mean (from 5.1 to ~9.62) due to the large value (100) that was added to the set. Here we say the mean is **sensitive** to outliers. As such, we should be careful about when we use the mean to describe a data set."
   ]
  },
  {
   "cell_type": "markdown",
   "metadata": {},
   "source": [
    "<div class = \"alert alert-block alert-info\">\n",
    "<b>Example</b>\n",
    "<p>\n",
    "1. The manager of a call center computes the mean number of calls attended to by an employee in an hour as a reference value to benchmark employee performance. We can safely use the mean in this scenario as we do not expect a sudden jump in the number of calls attended from employee to employee.\n",
    "<p>\n",
    "2. An analyst computes the mean salary of managers in a Fortune 500 company. Here the decision to use the mean is unwise as we expect that there may be a large gap in pay between senior and junior managers, which in turn may impact the value of the mean. \n",
    "</div>"
   ]
  },
  {
   "cell_type": "markdown",
   "metadata": {
    "slideshow": {
     "slide_type": "subslide"
    }
   },
   "source": [
    "#### Median \n",
    "The median of a numerical data set is the **center-most** number when your data is sorted in **ascending** order, i.e. from the smallest to largest. It can be computed in two ways:\n",
    "1. If the data set has an **odd** number of observations, the median is the element in the **middle** that equally bisects the set such that the number of elements to the left and right are identical.\n",
    "2. If the data set has an **even** number of observations, the median is the **mean** of the **middle** two elements when sorted in ascending order.\n",
    "\n",
    "Unlike the mean, the median is **immune** to outliers. This behavior does come at a cost though - the median gives the physical center of a data set, i.e. it takes into account the location of a number in ascending order as compared to the rest of the data set, but ignores the weight of each value.\n",
    "\n",
    "Take note that compared to the mean, the median is more computationally expensive as it requires us to sort the data set in ascending order first. As in the case for mean, we will show that the result from the built-in function is identical to that if we compute the median manually.\n",
    "\n",
    "Let us begin by computing the median. As before, `pandas` objects have a method for computing the median: "
   ]
  },
  {
   "cell_type": "code",
   "execution_count": 30,
   "metadata": {},
   "outputs": [
    {
     "data": {
      "text/plain": [
       "'The median of array_1 calculated using the pandas method is 4.5'"
      ]
     },
     "execution_count": 30,
     "metadata": {},
     "output_type": "execute_result"
    }
   ],
   "source": [
    "built_median_pd = pd.Series(array_1).median()\n",
    "f\"The median of array_1 calculated using the pandas method is {built_median_pd}\""
   ]
  },
  {
   "cell_type": "markdown",
   "metadata": {},
   "source": [
    "Using `numpy`, we can compute the median using the function `median()`. "
   ]
  },
  {
   "cell_type": "code",
   "execution_count": 31,
   "metadata": {
    "slideshow": {
     "slide_type": "fragment"
    }
   },
   "outputs": [
    {
     "data": {
      "text/plain": [
       "'The median of array_1 calculated using the numpy function is 4.5'"
      ]
     },
     "execution_count": 31,
     "metadata": {},
     "output_type": "execute_result"
    }
   ],
   "source": [
    "# We can find the median of this same list using the median () function\n",
    "built_median_np = np.median(array_1)\n",
    "f\"The median of array_1 calculated using the numpy function is {built_median_np}\""
   ]
  },
  {
   "cell_type": "markdown",
   "metadata": {},
   "source": [
    "To compute the median manually, we must first determine the length of our data set (in this case `array_1`) so we can pick the appropriate method:"
   ]
  },
  {
   "cell_type": "code",
   "execution_count": 32,
   "metadata": {
    "slideshow": {
     "slide_type": "fragment"
    }
   },
   "outputs": [
    {
     "data": {
      "text/plain": [
       "'The length of array_1 is 20'"
      ]
     },
     "execution_count": 32,
     "metadata": {},
     "output_type": "execute_result"
    }
   ],
   "source": [
    "# How long is array_1? We need to know if it is odd or even to determine which strategy to follow\n",
    "f\"The length of array_1 is {len(array_1)}\" "
   ]
  },
  {
   "cell_type": "markdown",
   "metadata": {},
   "source": [
    "As the list contains an even number of elements (20), we should take the mean of the two middle (10th & 11th, or index 9 and 10) elements once sorted in ascending order."
   ]
  },
  {
   "cell_type": "code",
   "execution_count": 33,
   "metadata": {
    "slideshow": {
     "slide_type": "fragment"
    }
   },
   "outputs": [
    {
     "data": {
      "text/plain": [
       "'The median of array_1 by manual computation is 4.5'"
      ]
     },
     "execution_count": 33,
     "metadata": {},
     "output_type": "execute_result"
    }
   ],
   "source": [
    "array_1 = np.sort(array_1)\n",
    "manual_median = (array_1[9] + array_1[10]) / 2\n",
    "f\"The median of array_1 by manual computation is {manual_median}\""
   ]
  },
  {
   "cell_type": "code",
   "execution_count": 34,
   "metadata": {
    "slideshow": {
     "slide_type": "fragment"
    }
   },
   "outputs": [
    {
     "data": {
      "text/plain": [
       "'Is built_median = manual_median? True'"
      ]
     },
     "execution_count": 34,
     "metadata": {},
     "output_type": "execute_result"
    }
   ],
   "source": [
    "manual_eq_built = manual_median == built_median_pd \n",
    "f\"Is built_median = manual_median? {manual_eq_built}\""
   ]
  },
  {
   "cell_type": "markdown",
   "metadata": {},
   "source": [
    "Now suppose that the data set has an *odd* number of elements, e.g. `array_2`. Once again, we can compute the median manually by selecting the **center-most** element in the set when sorted in ascending order:"
   ]
  },
  {
   "cell_type": "code",
   "execution_count": 35,
   "metadata": {},
   "outputs": [
    {
     "data": {
      "text/plain": [
       "'The median of array_2 by manual computation is 5'"
      ]
     },
     "execution_count": 35,
     "metadata": {},
     "output_type": "execute_result"
    }
   ],
   "source": [
    "array_2 = np.sort(array_2)\n",
    "manual_median_2 = array_2[math.floor(len(array_2)/2)]   # This indexes the 10th element \n",
    "\n",
    "f\"The median of array_2 by manual computation is {manual_median_2}\""
   ]
  },
  {
   "cell_type": "code",
   "execution_count": 36,
   "metadata": {},
   "outputs": [
    {
     "data": {
      "text/plain": [
       "'Is built_median_2 = manual_median_2? True'"
      ]
     },
     "execution_count": 36,
     "metadata": {},
     "output_type": "execute_result"
    }
   ],
   "source": [
    "f\"Is built_median_2 = manual_median_2? {np.median(array_2) == manual_median_2}\""
   ]
  },
  {
   "cell_type": "markdown",
   "metadata": {
    "slideshow": {
     "slide_type": "subslide"
    }
   },
   "source": [
    "<div class = \"alert alert-block alert-success\">\n",
    "<p>\n",
    "<b>Pros:</b>\n",
    "<p>\n",
    "1. Immune to outliers. Abnormally small/large values will not affect the median as it gives the physical 'center' of the data set.\n",
    "<p>\n",
    "<b>Cons:</b>\n",
    "<p>\n",
    "1. Does not take into account the weights of each element in the data set.\n",
    "<p>\n",
    "2. Computationally expensive compared to the mean. This becomes apparent when dealing with large data sets.\n",
    "</div>"
   ]
  },
  {
   "cell_type": "markdown",
   "metadata": {},
   "source": [
    "To illustrate the increase in computational complexity associated with calculating the median, vary the value of `N` in the following chuck of code by factors of `10` to see the increase in time taken to perform the calculations:"
   ]
  },
  {
   "cell_type": "code",
   "execution_count": 37,
   "metadata": {},
   "outputs": [
    {
     "name": "stdout",
     "output_type": "stream",
     "text": [
      "CPU times: user 16.1 ms, sys: 1.5 ms, total: 17.6 ms\n",
      "Wall time: 10.1 ms\n",
      "CPU times: user 1.46 ms, sys: 80 µs, total: 1.54 ms\n",
      "Wall time: 1.1 ms\n"
     ]
    },
    {
     "data": {
      "text/plain": [
       "499.477958"
      ]
     },
     "execution_count": 37,
     "metadata": {},
     "output_type": "execute_result"
    }
   ],
   "source": [
    "N = 1000000\n",
    "\n",
    "large_array = np.random.choice(np.arange(1000), size = N)\n",
    "\n",
    "%time np.median(large_array)\n",
    "%time np.mean(large_array)"
   ]
  },
  {
   "cell_type": "markdown",
   "metadata": {},
   "source": [
    "As we can see, the time taken to compute the median goes up significantly in comparison to the mean as the data set grows larger. This behavior is worth noting if you are working on large data sets and plan to integrate the median in your analyses. We would however like to point out that although beyond the scope of this course, there is a formal method for assessing the computational complexity of an algorithm ([read more](https://en.wikipedia.org/wiki/Computational_complexity)).\n",
    "\n",
    "Due to its immunity against outliers, the median is the measure of choice when dealing with data sets that contain large gaps in the value of its elements. For example, consider `array_2` which is graphed below:"
   ]
  },
  {
   "cell_type": "code",
   "execution_count": 38,
   "metadata": {},
   "outputs": [
    {
     "data": {
      "text/plain": [
       "<matplotlib.axes._subplots.AxesSubplot at 0x1a1dcb6470>"
      ]
     },
     "execution_count": 38,
     "metadata": {},
     "output_type": "execute_result"
    },
    {
     "data": {
      "image/png": "[encoded data removed]",
      "text/plain": [
       "<Figure size 432x288 with 1 Axes>"
      ]
     },
     "metadata": {},
     "output_type": "display_data"
    }
   ],
   "source": [
    "pd.Series(array_2).plot.hist(bins = 100)"
   ]
  },
  {
   "cell_type": "code",
   "execution_count": 39,
   "metadata": {},
   "outputs": [
    {
     "data": {
      "text/plain": [
       "<matplotlib.axes._subplots.AxesSubplot at 0x1a1ed33470>"
      ]
     },
     "execution_count": 39,
     "metadata": {},
     "output_type": "execute_result"
    },
    {
     "data": {
      "image/png": "[encoded data removed]",
      "text/plain": [
       "<Figure size 432x288 with 1 Axes>"
      ]
     },
     "metadata": {},
     "output_type": "display_data"
    }
   ],
   "source": [
    "pd.Series(array_1).plot.hist(bins = 100)"
   ]
  },
  {
   "cell_type": "code",
   "execution_count": 40,
   "metadata": {},
   "outputs": [
    {
     "name": "stdout",
     "output_type": "stream",
     "text": [
      "Median of array_2 is 5.0\n",
      "Median of array_1 is 4.5\n"
     ]
    }
   ],
   "source": [
    "print('Median of array_2 is', np.median(array_2))\n",
    "\n",
    "print('Median of array_1 is', np.median(array_1))"
   ]
  },
  {
   "cell_type": "markdown",
   "metadata": {},
   "source": [
    "The graph above is called a histogram, and is useful for examining numerical distributions (we'll learn how to construct these later in the course). As we can see from the histogram, the values in the data set go from 1 to 100, but the median ignores the distance between the numbers and focuses on the **physical location** instead. In other words, the **gaps** between values in our data set **do not affect** the median."
   ]
  },
  {
   "cell_type": "markdown",
   "metadata": {},
   "source": [
    "<div class = \"alert alert-block alert-info\">\n",
    "<b>Example</b>\n",
    "<p>\n",
    "Recall the example from the previous section where the analyst wanted to examine the distribution of salary of managers in a Fortune 500 company. Instead of using the mean, he would obtain a better representation of the 'center' of the salary data by using the median.\n",
    "</div>"
   ]
  },
  {
   "cell_type": "markdown",
   "metadata": {
    "slideshow": {
     "slide_type": "subslide"
    }
   },
   "source": [
    "#### Mode\n",
    "The mode of a numerical data set is the value that occurs **most often**. We can do this by selecting the element of the data set with highest **frequency**, i.e. rate of occurrence.\n",
    "\n",
    "Pandas objects have a `mode` method to compute the mode. Just as in the previous sections, we will illustrate the computation using both the pre-built package and by manual computation.\n"
   ]
  },
  {
   "cell_type": "code",
   "execution_count": 41,
   "metadata": {},
   "outputs": [
    {
     "name": "stdout",
     "output_type": "stream",
     "text": [
      "[1 1 2 2 3 3 4 4 4 4 5 5 6 6 6 7 7 7 7 7]\n"
     ]
    },
    {
     "data": {
      "text/plain": [
       "0    7\n",
       "dtype: int64"
      ]
     },
     "execution_count": 41,
     "metadata": {},
     "output_type": "execute_result"
    }
   ],
   "source": [
    "print(array_1)\n",
    "built_mode_pd = pd.Series(array_1).mode()\n",
    "built_mode_pd"
   ]
  },
  {
   "cell_type": "code",
   "execution_count": 42,
   "metadata": {},
   "outputs": [
    {
     "data": {
      "text/plain": [
       "0    1\n",
       "1    2\n",
       "2    3\n",
       "3    4\n",
       "4    5\n",
       "dtype: int64"
      ]
     },
     "execution_count": 42,
     "metadata": {},
     "output_type": "execute_result"
    }
   ],
   "source": [
    "array3 = pd.Series([1, 2, 3, 4, 5])\n",
    "pd.Series(array3).mode()"
   ]
  },
  {
   "cell_type": "markdown",
   "metadata": {},
   "source": [
    "We can also use the `mode` function from `statistics`:"
   ]
  },
  {
   "cell_type": "code",
   "execution_count": 43,
   "metadata": {},
   "outputs": [
    {
     "data": {
      "text/plain": [
       "7"
      ]
     },
     "execution_count": 43,
     "metadata": {},
     "output_type": "execute_result"
    }
   ],
   "source": [
    "# only returns the smallest number if more than one mode\n",
    "built_mode_stat = mode(array_1)\n",
    "built_mode_stat"
   ]
  },
  {
   "cell_type": "markdown",
   "metadata": {},
   "source": [
    "Alternately, use the `most_common()` function of the `Counter` class: "
   ]
  },
  {
   "cell_type": "code",
   "execution_count": 44,
   "metadata": {},
   "outputs": [
    {
     "data": {
      "text/plain": [
       "[(7, 5), (4, 4), (6, 3)]"
      ]
     },
     "execution_count": 44,
     "metadata": {},
     "output_type": "execute_result"
    }
   ],
   "source": [
    "from collections import Counter\n",
    "Counter(array_1).most_common(3)"
   ]
  },
  {
   "cell_type": "markdown",
   "metadata": {
    "slideshow": {
     "slide_type": "subslide"
    }
   },
   "source": [
    "<div class = \"alert alert-block alert-success\">\n",
    "<p>\n",
    "<b>Pros:</b>\n",
    "<p>\n",
    "1. The mode is easy to interpret as it represents the element with the highest frequency. In a business context this can be the best selling product, staff member with the most positive reviews, etc.\n",
    "<p>\n",
    "2. Can also be used for categorical data - the mode is the category with the highest frequency.\n",
    "<p>\n",
    "<b>Cons:</b>\n",
    "<p>\n",
    "1. Does not take into account the weights nor physical location of each element in the data set.\n",
    "</div>"
   ]
  },
  {
   "cell_type": "markdown",
   "metadata": {},
   "source": [
    "If a data set has only **one** value for the mode, it is called **unimodality** or a **unimodal distribution**.\n",
    "\n",
    "It is worth noting that a data set may contain **more than one** mode. As such, we **cannot assume** unimodality for a data set - this is reflected in the list comprehension used to compute `values`. Take for example the following **bimodal** distribution, which contains 2 modal elements:"
   ]
  },
  {
   "cell_type": "code",
   "execution_count": 45,
   "metadata": {},
   "outputs": [],
   "source": [
    "bimodal_dist = [binom(8,x) + binom(8, x-4) for x in np.arange(0, 12)]"
   ]
  },
  {
   "cell_type": "code",
   "execution_count": 46,
   "metadata": {},
   "outputs": [
    {
     "data": {
      "text/plain": [
       "<matplotlib.axes._subplots.AxesSubplot at 0x1a1eec8630>"
      ]
     },
     "execution_count": 46,
     "metadata": {},
     "output_type": "execute_result"
    },
    {
     "data": {
      "image/png": "[encoded data removed]",
      "text/plain": [
       "<Figure size 432x288 with 1 Axes>"
      ]
     },
     "metadata": {},
     "output_type": "display_data"
    }
   ],
   "source": [
    "pd.Series(bimodal_dist).plot.bar(colormap = \"viridis\", title = \"A bimodal distribution\")"
   ]
  },
  {
   "cell_type": "markdown",
   "metadata": {},
   "source": [
    "We can also have **trimodal** (3 modal elements) or **multi-modal** (4 or more modal elements) sets. Given below is `array_3`, an example of a trimodal set:"
   ]
  },
  {
   "cell_type": "code",
   "execution_count": 47,
   "metadata": {},
   "outputs": [
    {
     "ename": "StatisticsError",
     "evalue": "no unique mode; found 3 equally common values",
     "output_type": "error",
     "traceback": [
      "\u001b[0;31m---------------------------------------------------------------------------\u001b[0m",
      "\u001b[0;31mStatisticsError\u001b[0m                           Traceback (most recent call last)",
      "\u001b[0;32m<ipython-input-47-df636a7ae67c>\u001b[0m in \u001b[0;36m<module>\u001b[0;34m\u001b[0m\n\u001b[1;32m      3\u001b[0m \u001b[0marray_3\u001b[0m \u001b[0;34m=\u001b[0m \u001b[0;34m[\u001b[0m\u001b[0;36m1\u001b[0m\u001b[0;34m,\u001b[0m\u001b[0;36m1\u001b[0m\u001b[0;34m,\u001b[0m\u001b[0;36m1\u001b[0m\u001b[0;34m,\u001b[0m\u001b[0;36m1\u001b[0m\u001b[0;34m,\u001b[0m\u001b[0;36m1\u001b[0m\u001b[0;34m,\u001b[0m\u001b[0;36m2\u001b[0m\u001b[0;34m,\u001b[0m\u001b[0;36m2\u001b[0m\u001b[0;34m,\u001b[0m\u001b[0;36m2\u001b[0m\u001b[0;34m,\u001b[0m\u001b[0;36m2\u001b[0m\u001b[0;34m,\u001b[0m\u001b[0;36m2\u001b[0m\u001b[0;34m,\u001b[0m\u001b[0;36m3\u001b[0m\u001b[0;34m,\u001b[0m\u001b[0;36m3\u001b[0m\u001b[0;34m,\u001b[0m\u001b[0;36m3\u001b[0m\u001b[0;34m,\u001b[0m\u001b[0;36m3\u001b[0m\u001b[0;34m,\u001b[0m\u001b[0;36m3\u001b[0m\u001b[0;34m,\u001b[0m\u001b[0;36m4\u001b[0m\u001b[0;34m,\u001b[0m\u001b[0;36m4\u001b[0m\u001b[0;34m,\u001b[0m\u001b[0;36m5\u001b[0m\u001b[0;34m,\u001b[0m\u001b[0;36m5\u001b[0m\u001b[0;34m,\u001b[0m\u001b[0;36m6\u001b[0m\u001b[0;34m,\u001b[0m\u001b[0;36m7\u001b[0m\u001b[0;34m,\u001b[0m\u001b[0;36m8\u001b[0m\u001b[0;34m,\u001b[0m\u001b[0;36m8\u001b[0m\u001b[0;34m,\u001b[0m\u001b[0;36m9\u001b[0m\u001b[0;34m,\u001b[0m\u001b[0;36m9\u001b[0m\u001b[0;34m,\u001b[0m\u001b[0;36m9\u001b[0m\u001b[0;34m,\u001b[0m\u001b[0;36m100\u001b[0m\u001b[0;34m]\u001b[0m\u001b[0;34m\u001b[0m\u001b[0;34m\u001b[0m\u001b[0m\n\u001b[1;32m      4\u001b[0m \u001b[0;34m\u001b[0m\u001b[0m\n\u001b[0;32m----> 5\u001b[0;31m \u001b[0marray_3_mode\u001b[0m\u001b[0;34m,\u001b[0m \u001b[0m_\u001b[0m \u001b[0;34m=\u001b[0m \u001b[0mmode\u001b[0m\u001b[0;34m(\u001b[0m\u001b[0marray_3\u001b[0m\u001b[0;34m)\u001b[0m\u001b[0;34m\u001b[0m\u001b[0;34m\u001b[0m\u001b[0m\n\u001b[0m\u001b[1;32m      6\u001b[0m \u001b[0;34m\u001b[0m\u001b[0m\n\u001b[1;32m      7\u001b[0m \u001b[0;34mf\"The mode of list_3 is {array_3_mode}\"\u001b[0m\u001b[0;34m\u001b[0m\u001b[0;34m\u001b[0m\u001b[0m\n",
      "\u001b[0;32m/anaconda3/lib/python3.6/statistics.py\u001b[0m in \u001b[0;36mmode\u001b[0;34m(data)\u001b[0m\n\u001b[1;32m    505\u001b[0m     \u001b[0;32melif\u001b[0m \u001b[0mtable\u001b[0m\u001b[0;34m:\u001b[0m\u001b[0;34m\u001b[0m\u001b[0;34m\u001b[0m\u001b[0m\n\u001b[1;32m    506\u001b[0m         raise StatisticsError(\n\u001b[0;32m--> 507\u001b[0;31m                 \u001b[0;34m'no unique mode; found %d equally common values'\u001b[0m \u001b[0;34m%\u001b[0m \u001b[0mlen\u001b[0m\u001b[0;34m(\u001b[0m\u001b[0mtable\u001b[0m\u001b[0;34m)\u001b[0m\u001b[0;34m\u001b[0m\u001b[0;34m\u001b[0m\u001b[0m\n\u001b[0m\u001b[1;32m    508\u001b[0m                 )\n\u001b[1;32m    509\u001b[0m     \u001b[0;32melse\u001b[0m\u001b[0;34m:\u001b[0m\u001b[0;34m\u001b[0m\u001b[0;34m\u001b[0m\u001b[0m\n",
      "\u001b[0;31mStatisticsError\u001b[0m: no unique mode; found 3 equally common values"
     ]
    }
   ],
   "source": [
    "# mode() returns error in case of more than one mode\n",
    "\n",
    "array_3 = [1,1,1,1,1,2,2,2,2,2,3,3,3,3,3,4,4,5,5,6,7,8,8,9,9,9,100]\n",
    "\n",
    "array_3_mode, _ = mode(array_3)\n",
    "\n",
    "f\"The mode of list_3 is {array_3_mode}\""
   ]
  },
  {
   "cell_type": "code",
   "execution_count": 48,
   "metadata": {},
   "outputs": [
    {
     "data": {
      "text/plain": [
       "[(1, 5),\n",
       " (2, 5),\n",
       " (3, 5),\n",
       " (9, 3),\n",
       " (4, 2),\n",
       " (5, 2),\n",
       " (8, 2),\n",
       " (6, 1),\n",
       " (7, 1),\n",
       " (100, 1)]"
      ]
     },
     "execution_count": 48,
     "metadata": {},
     "output_type": "execute_result"
    }
   ],
   "source": [
    "#Solution1 for multimodal array:\n",
    "Counter(array_3).most_common()"
   ]
  },
  {
   "cell_type": "code",
   "execution_count": 49,
   "metadata": {},
   "outputs": [],
   "source": [
    "#Solution2 for multimodal array:\n",
    "\n",
    "def mode_man(my_list,):\n",
    "    x = list(my_list)\n",
    "    \n",
    "    # obtain unique values and their counts as a list of tuples\n",
    "    value_counts = [(i, x.count(i)) for i in list(set(x))]\n",
    "    \n",
    "    # calculate the maximum count\n",
    "    max_count = np.max([elem[1] for elem in value_counts])\n",
    "    \n",
    "    # return the values of each unique value that appears as frequently as max_count\n",
    "    values = [i[0] for i in value_counts if i[1] == max_count]\n",
    "    return values, max_count"
   ]
  },
  {
   "cell_type": "code",
   "execution_count": 50,
   "metadata": {},
   "outputs": [],
   "source": [
    "values, max_count = mode_man(array_3)"
   ]
  },
  {
   "cell_type": "code",
   "execution_count": 51,
   "metadata": {},
   "outputs": [
    {
     "data": {
      "text/plain": [
       "([1, 2, 3], 5)"
      ]
     },
     "execution_count": 51,
     "metadata": {},
     "output_type": "execute_result"
    }
   ],
   "source": [
    "values, max_count"
   ]
  },
  {
   "cell_type": "markdown",
   "metadata": {},
   "source": [
    "<div class = \"alert alert-block alert-info\">\n",
    "<b>Example</b>\n",
    "<p>\n",
    "1. The manager of a convenience store computes the mode of products he sells to identify his best-selling products.\n",
    "<p>\n",
    "2. The Road Transport Department tallies the number of fatal car accidents across various regions in Malaysia and computes the mode to identify which regions are the most dangerous.\n",
    "</div>"
   ]
  },
  {
   "cell_type": "markdown",
   "metadata": {
    "slideshow": {
     "slide_type": "subslide"
    }
   },
   "source": [
    "#### Choosing the Best Measure of Central Tendency\n",
    "Choosing the best measure of central tendency is subject to the context of the business problem and the type of data in hand, but the following considerations can serve as a general guideline:\n",
    "1. If there are no outliers in the data, the mean gives the best approximation as it takes into account *both* physical location and weights.\n",
    "2. If outliers are present in the data, the median serves as a good approximation as it is robust to outliers.\n",
    "3. If the data is categorical or the business problem involves identifying the data point with highest occurrence, the mode should be used.\n",
    "\n",
    "In the following example, we show how removing an outlier impacts the the measures of central tendency we have discussed."
   ]
  },
  {
   "cell_type": "code",
   "execution_count": 52,
   "metadata": {
    "slideshow": {
     "slide_type": "fragment"
    }
   },
   "outputs": [
    {
     "data": {
      "text/plain": [
       "'list_3: [1, 1, 1, 1, 1, 2, 2, 2, 2, 2, 3, 3, 3, 3, 3, 4, 4, 5, 5, 6, 7, 8, 8, 9, 9, 9, 100]'"
      ]
     },
     "execution_count": 52,
     "metadata": {},
     "output_type": "execute_result"
    }
   ],
   "source": [
    "f\"list_3: {array_3}\""
   ]
  },
  {
   "cell_type": "code",
   "execution_count": 53,
   "metadata": {},
   "outputs": [
    {
     "name": "stdout",
     "output_type": "stream",
     "text": [
      "\n",
      "median of array_3: 3.0 \n",
      "mean of array_3: 7.555555555555555 \n",
      "mode of array_3: [1, 2, 3]\n",
      "      \n"
     ]
    }
   ],
   "source": [
    "print(f\"\"\"\n",
    "median of array_3: {np.median(array_3)} \n",
    "mean of array_3: {np.mean(array_3)} \n",
    "mode of array_3: {mode_man(array_3)[0]}\n",
    "      \"\"\")"
   ]
  },
  {
   "cell_type": "markdown",
   "metadata": {},
   "source": [
    "The set `array_3` contains an abnormally large value (24) in comparison to the rest of the values in the set. We classify this as an outlier and intend to remove it from the set."
   ]
  },
  {
   "cell_type": "code",
   "execution_count": 54,
   "metadata": {},
   "outputs": [
    {
     "name": "stdout",
     "output_type": "stream",
     "text": [
      "\n",
      "median of array_3e: 3.0 \n",
      "mean of array_3e: 4.0 \n",
      "mode of array_3e: [1, 2, 3]\n",
      "\n"
     ]
    }
   ],
   "source": [
    "array_3e = array_3[:-1]\n",
    "array_3e\n",
    "\n",
    "print(f\"\"\"\n",
    "median of array_3e: {np.median(array_3e)} \n",
    "mean of array_3e: {np.mean(array_3e)} \n",
    "mode of array_3e: {mode_man(array_3e)[0]}\n",
    "\"\"\")"
   ]
  },
  {
   "cell_type": "markdown",
   "metadata": {},
   "source": [
    "Removing the outlier, we see that the mean of the set has moved closer to the median, whereas the median has remain unchanged. This indicates that the median is a better approximation for the true center of the data set. The mode remains unchanged as the most frequently occurring numbers stay the same for both sets."
   ]
  },
  {
   "cell_type": "markdown",
   "metadata": {},
   "source": [
    "<div class = \"alert alert-block alert-warning\">\n",
    "<b>Guided Exercise</b>\n",
    "<p>\n",
    "In each of these scenarios, how would you interpret the following measures:\n",
    "<p>\n",
    "1. The mean of rainfall in KL in 2017 was 250 mm.\n",
    "<p>\n",
    "2. The median population age in Malaysia is 27.7 years.\n",
    "<p>\n",
    "3. The modal income of individuals in Malaysia was $10,620 (USD) in 2017.\n",
    "</div>"
   ]
  },
  {
   "cell_type": "raw",
   "metadata": {},
   "source": [
    "1. If the amount of rainfall in KL was evenly spread across all the days in the year, it would amount to 250mm per day.\n",
    "\n",
    "2. Half the population in Malaysia is below 27.7 years of age, and the other half is above 27.7 years of age.\n",
    "\n",
    "3. Of the individuals sureveyed in Malaysia for the year 2017, the most common income was $10,620."
   ]
  },
  {
   "cell_type": "markdown",
   "metadata": {
    "slideshow": {
     "slide_type": "subslide"
    }
   },
   "source": [
    "<div class = \"alert alert-block alert-danger\">\n",
    "<b>Exercise</b>\n",
    "<p>\n",
    "Using the <code>iris</code> dataset, calculate the measures of central tendency for each variable (column) and interpret the results.\n",
    "</div>"
   ]
  },
  {
   "cell_type": "code",
   "execution_count": 55,
   "metadata": {},
   "outputs": [
    {
     "name": "stdout",
     "output_type": "stream",
     "text": [
      "<class 'pandas.core.frame.DataFrame'>\n",
      "RangeIndex: 150 entries, 0 to 149\n",
      "Data columns (total 5 columns):\n",
      "Sepal.Length    150 non-null float64\n",
      "Sepal.Width     150 non-null float64\n",
      "Petal.Length    150 non-null float64\n",
      "Petal.Width     150 non-null float64\n",
      "Species         150 non-null category\n",
      "dtypes: category(1), float64(4)\n",
      "memory usage: 5.0 KB\n"
     ]
    }
   ],
   "source": [
    "# MC \n",
    "iris.info()"
   ]
  },
  {
   "cell_type": "code",
   "execution_count": 56,
   "metadata": {},
   "outputs": [
    {
     "data": {
      "text/html": [
       "<div>\n",
       "<style scoped>\n",
       "    .dataframe tbody tr th:only-of-type {\n",
       "        vertical-align: middle;\n",
       "    }\n",
       "\n",
       "    .dataframe tbody tr th {\n",
       "        vertical-align: top;\n",
       "    }\n",
       "\n",
       "    .dataframe thead th {\n",
       "        text-align: right;\n",
       "    }\n",
       "</style>\n",
       "<table border=\"1\" class=\"dataframe\">\n",
       "  <thead>\n",
       "    <tr style=\"text-align: right;\">\n",
       "      <th></th>\n",
       "      <th>Sepal.Length</th>\n",
       "      <th>Sepal.Width</th>\n",
       "      <th>Petal.Length</th>\n",
       "      <th>Petal.Width</th>\n",
       "    </tr>\n",
       "  </thead>\n",
       "  <tbody>\n",
       "    <tr>\n",
       "      <th>count</th>\n",
       "      <td>150.000000</td>\n",
       "      <td>150.000000</td>\n",
       "      <td>150.000000</td>\n",
       "      <td>150.000000</td>\n",
       "    </tr>\n",
       "    <tr>\n",
       "      <th>mean</th>\n",
       "      <td>5.843333</td>\n",
       "      <td>3.057333</td>\n",
       "      <td>3.758000</td>\n",
       "      <td>1.199333</td>\n",
       "    </tr>\n",
       "    <tr>\n",
       "      <th>std</th>\n",
       "      <td>0.828066</td>\n",
       "      <td>0.435866</td>\n",
       "      <td>1.765298</td>\n",
       "      <td>0.762238</td>\n",
       "    </tr>\n",
       "    <tr>\n",
       "      <th>min</th>\n",
       "      <td>4.300000</td>\n",
       "      <td>2.000000</td>\n",
       "      <td>1.000000</td>\n",
       "      <td>0.100000</td>\n",
       "    </tr>\n",
       "    <tr>\n",
       "      <th>25%</th>\n",
       "      <td>5.100000</td>\n",
       "      <td>2.800000</td>\n",
       "      <td>1.600000</td>\n",
       "      <td>0.300000</td>\n",
       "    </tr>\n",
       "    <tr>\n",
       "      <th>50%</th>\n",
       "      <td>5.800000</td>\n",
       "      <td>3.000000</td>\n",
       "      <td>4.350000</td>\n",
       "      <td>1.300000</td>\n",
       "    </tr>\n",
       "    <tr>\n",
       "      <th>75%</th>\n",
       "      <td>6.400000</td>\n",
       "      <td>3.300000</td>\n",
       "      <td>5.100000</td>\n",
       "      <td>1.800000</td>\n",
       "    </tr>\n",
       "    <tr>\n",
       "      <th>max</th>\n",
       "      <td>7.900000</td>\n",
       "      <td>4.400000</td>\n",
       "      <td>6.900000</td>\n",
       "      <td>2.500000</td>\n",
       "    </tr>\n",
       "  </tbody>\n",
       "</table>\n",
       "</div>"
      ],
      "text/plain": [
       "       Sepal.Length  Sepal.Width  Petal.Length  Petal.Width\n",
       "count    150.000000   150.000000    150.000000   150.000000\n",
       "mean       5.843333     3.057333      3.758000     1.199333\n",
       "std        0.828066     0.435866      1.765298     0.762238\n",
       "min        4.300000     2.000000      1.000000     0.100000\n",
       "25%        5.100000     2.800000      1.600000     0.300000\n",
       "50%        5.800000     3.000000      4.350000     1.300000\n",
       "75%        6.400000     3.300000      5.100000     1.800000\n",
       "max        7.900000     4.400000      6.900000     2.500000"
      ]
     },
     "execution_count": 56,
     "metadata": {},
     "output_type": "execute_result"
    }
   ],
   "source": [
    "# MC \n",
    "iris.describe()"
   ]
  },
  {
   "cell_type": "code",
   "execution_count": 57,
   "metadata": {},
   "outputs": [
    {
     "data": {
      "text/plain": [
       "0        setosa\n",
       "1    versicolor\n",
       "2     virginica\n",
       "Name: Species, dtype: category\n",
       "Categories (3, object): [setosa, versicolor, virginica]"
      ]
     },
     "execution_count": 57,
     "metadata": {},
     "output_type": "execute_result"
    }
   ],
   "source": [
    "# MC \n",
    "iris.Species.mode()"
   ]
  },
  {
   "cell_type": "code",
   "execution_count": 58,
   "metadata": {},
   "outputs": [
    {
     "data": {
      "text/html": [
       "<div>\n",
       "<style scoped>\n",
       "    .dataframe tbody tr th:only-of-type {\n",
       "        vertical-align: middle;\n",
       "    }\n",
       "\n",
       "    .dataframe tbody tr th {\n",
       "        vertical-align: top;\n",
       "    }\n",
       "\n",
       "    .dataframe thead th {\n",
       "        text-align: right;\n",
       "    }\n",
       "</style>\n",
       "<table border=\"1\" class=\"dataframe\">\n",
       "  <thead>\n",
       "    <tr style=\"text-align: right;\">\n",
       "      <th></th>\n",
       "      <th>Sepal.Length</th>\n",
       "      <th>Sepal.Width</th>\n",
       "      <th>Petal.Length</th>\n",
       "      <th>Petal.Width</th>\n",
       "      <th>Species</th>\n",
       "    </tr>\n",
       "  </thead>\n",
       "  <tbody>\n",
       "    <tr>\n",
       "      <th>0</th>\n",
       "      <td>5.0</td>\n",
       "      <td>3.0</td>\n",
       "      <td>1.4</td>\n",
       "      <td>0.2</td>\n",
       "      <td>setosa</td>\n",
       "    </tr>\n",
       "    <tr>\n",
       "      <th>1</th>\n",
       "      <td>NaN</td>\n",
       "      <td>NaN</td>\n",
       "      <td>1.5</td>\n",
       "      <td>NaN</td>\n",
       "      <td>versicolor</td>\n",
       "    </tr>\n",
       "    <tr>\n",
       "      <th>2</th>\n",
       "      <td>NaN</td>\n",
       "      <td>NaN</td>\n",
       "      <td>NaN</td>\n",
       "      <td>NaN</td>\n",
       "      <td>virginica</td>\n",
       "    </tr>\n",
       "  </tbody>\n",
       "</table>\n",
       "</div>"
      ],
      "text/plain": [
       "   Sepal.Length  Sepal.Width  Petal.Length  Petal.Width     Species\n",
       "0           5.0          3.0           1.4          0.2      setosa\n",
       "1           NaN          NaN           1.5          NaN  versicolor\n",
       "2           NaN          NaN           NaN          NaN   virginica"
      ]
     },
     "execution_count": 58,
     "metadata": {},
     "output_type": "execute_result"
    }
   ],
   "source": [
    "# MC\n",
    "iris.mode()"
   ]
  },
  {
   "cell_type": "markdown",
   "metadata": {
    "slideshow": {
     "slide_type": "slide"
    }
   },
   "source": [
    "### Measures of Dispersion/Variability <a name='dispersion'></a>\n",
    "Though immensely useful, the center of a data set does not paint a clear enough picture to properly visualize the behavior of a data set. Consider the following comparison:"
   ]
  },
  {
   "cell_type": "markdown",
   "metadata": {
    "slideshow": {
     "slide_type": "subslide"
    }
   },
   "source": [
    "\n",
    "### Example:\n",
    "Do the following variables $v$ and $w$ have similar patterns?\n",
    "![Figure 3: Measures of central tendency are not enough](../images/CentTend.png)"
   ]
  },
  {
   "cell_type": "markdown",
   "metadata": {
    "slideshow": {
     "slide_type": "subslide"
    }
   },
   "source": [
    "As we see in the figure above, two sets of data can share the same measures of central tendency (mean & median in this case) yet still behave very differently. As such, we are also interested in examining how **spread out** the data is from the center. Numerical measures that measure this spread are known as **measures of dispersion** or **measures of variability**.\n",
    "\n",
    "In this section, we will discuss the following 3 measures of dispersion: \n",
    "1. Range\n",
    "2. Percentiles, Interquartile Range (IQR), Outliers, \n",
    "5. Variance & Standard Deviation"
   ]
  },
  {
   "cell_type": "markdown",
   "metadata": {
    "slideshow": {
     "slide_type": "subslide"
    }
   },
   "source": [
    "#### Range\n",
    "Range is the simplest measure of dispersion, and is defined as the difference between the smallest and largest values in a set of data:\n",
    "\n",
    "$$Range = x_{largest} - x_{smallest}$$\n",
    "\n",
    "Suppose we have the following data on the number of siblings of individuals from 25 families:"
   ]
  },
  {
   "cell_type": "code",
   "execution_count": 59,
   "metadata": {
    "slideshow": {
     "slide_type": "fragment"
    }
   },
   "outputs": [],
   "source": [
    "# Lets pretend we have collected data on the number of siblings \n",
    "# everyone in the classroom has. This is saved as no_siblings\n",
    "\n",
    "no_siblings = [1, 0, 2, 0, 3, 1, 2, 4, 2, \n",
    "              2, 0, 1, 2, 5, 2, 1, 2, 5, 7, 2, \n",
    "              3, 0, 0, 1, 3]"
   ]
  },
  {
   "cell_type": "markdown",
   "metadata": {},
   "source": [
    "As per the formula, we can compute the range of this data set by taking the difference between the largest and smallest values in the data set:"
   ]
  },
  {
   "cell_type": "code",
   "execution_count": 60,
   "metadata": {
    "slideshow": {
     "slide_type": "fragment"
    }
   },
   "outputs": [
    {
     "data": {
      "text/plain": [
       "7"
      ]
     },
     "execution_count": 60,
     "metadata": {},
     "output_type": "execute_result"
    }
   ],
   "source": [
    "np.max(no_siblings) - np.min(no_siblings) # maximum - minimum of our data"
   ]
  },
  {
   "cell_type": "markdown",
   "metadata": {},
   "source": [
    "Range is often the first measure of dispersion calculated because it relies on only the smallest and largest elements in the set, and gives a quick overall description of how spread out the data is. However, due to its dependence on these two values (minimum and maximum), the range can be impacted by the presence of an outlier. Consider the following case where we add an outlier to the set `no_siblings`:"
   ]
  },
  {
   "cell_type": "code",
   "execution_count": 61,
   "metadata": {},
   "outputs": [],
   "source": [
    "no_siblings.append(45)"
   ]
  },
  {
   "cell_type": "code",
   "execution_count": 62,
   "metadata": {},
   "outputs": [
    {
     "data": {
      "text/plain": [
       "'The range of no_siblings is 45'"
      ]
     },
     "execution_count": 62,
     "metadata": {},
     "output_type": "execute_result"
    }
   ],
   "source": [
    "f\"The range of no_siblings is {max(no_siblings) - min(no_siblings)}\""
   ]
  },
  {
   "cell_type": "markdown",
   "metadata": {},
   "source": [
    "As we can see, the range here has spiked due to the presence of the outlier. As such, any information gathered based on the range of a data set should be cross-checked with the presence of outliers in the set - if an outlier is to be excluded, recompute the range as necessary."
   ]
  },
  {
   "cell_type": "markdown",
   "metadata": {
    "slideshow": {
     "slide_type": "subslide"
    }
   },
   "source": [
    "<div class = \"alert alert-block alert-success\">\n",
    "<p>\n",
    "<b>Pros:</b>\n",
    "<p>\n",
    "1. Easy to calculate, only requires knowledge of the smallest (minimum) and largest (maximum) values in a data set.\n",
    "<p>\n",
    "2. Gives a good overview of how spread out the data is.\n",
    "<p>\n",
    "<b>Cons:</b>\n",
    "<p>\n",
    "1. Can be influenced by outliers.\n",
    "</div>"
   ]
  },
  {
   "cell_type": "markdown",
   "metadata": {},
   "source": [
    "<div class = \"alert alert-block alert-info\">\n",
    "<b>Example</b>\n",
    "<p>\n",
    "1. A project manager computes the range on the data set of previous project milestones to plan the working schedule for future iterations.\n",
    "<p>\n",
    "2. A HR manager computes the range of time spent by employees to complete a given task to determine if there is a need for training/upskilling.\n",
    "</div>"
   ]
  },
  {
   "cell_type": "markdown",
   "metadata": {
    "slideshow": {
     "slide_type": "subslide"
    }
   },
   "source": [
    "#### Quantiles\n",
    "Quantiles are cutoff points across the range of data that are evenly spaced. They are usually computed based on the data being sorted in ascending order and being split into equal portions. Two commonly used quantiles are **percentiles** and **quartiles**.\n",
    "\n",
    "A percentile is a value that is **greater than** a given **percentage** of observations. In other words, the data set is sorted in **ascending** order and split into 100 **equally-spaced** parts, with each percentile representing a cutoff point.\n",
    "\n",
    "Quantiles can be computed using the pandas object method `quantile` and the `numpy` functions `percentile` and `quantile`. Using the `no_siblings` set from the last example, let's calculate the 27th percentile."
   ]
  },
  {
   "cell_type": "code",
   "execution_count": 63,
   "metadata": {},
   "outputs": [
    {
     "data": {
      "text/plain": [
       "1.0"
      ]
     },
     "execution_count": 63,
     "metadata": {},
     "output_type": "execute_result"
    }
   ],
   "source": [
    "np.quantile(no_siblings, .27)"
   ]
  },
  {
   "cell_type": "code",
   "execution_count": 64,
   "metadata": {},
   "outputs": [
    {
     "data": {
      "text/plain": [
       "1.0"
      ]
     },
     "execution_count": 64,
     "metadata": {},
     "output_type": "execute_result"
    }
   ],
   "source": [
    "np.percentile(no_siblings, 27)"
   ]
  },
  {
   "cell_type": "markdown",
   "metadata": {},
   "source": [
    "Here we see that the value in the data set corresponding to the 27th percentile is 1. In other words, 27% of the data in this set has value 1 or lower.\n",
    "\n",
    "The `pandas` method `quantile` and the `np.quantile` function also supports computing multiple quantiles at once by passing through a vector argument. Suppose we are interested in finding the 30th, 55th, and 80th percentiles of our data:"
   ]
  },
  {
   "cell_type": "code",
   "execution_count": 65,
   "metadata": {},
   "outputs": [
    {
     "data": {
      "text/plain": [
       "0.30    1.0\n",
       "0.55    2.0\n",
       "0.80    3.0\n",
       "dtype: float64"
      ]
     },
     "execution_count": 65,
     "metadata": {},
     "output_type": "execute_result"
    }
   ],
   "source": [
    "pd.Series(no_siblings).quantile((.30, .55, .8))"
   ]
  },
  {
   "cell_type": "code",
   "execution_count": 66,
   "metadata": {},
   "outputs": [
    {
     "data": {
      "text/plain": [
       "array([1., 2., 3.])"
      ]
     },
     "execution_count": 66,
     "metadata": {},
     "output_type": "execute_result"
    }
   ],
   "source": [
    "np.quantile(no_siblings,[.30, .55, .8])"
   ]
  },
  {
   "cell_type": "code",
   "execution_count": 67,
   "metadata": {},
   "outputs": [
    {
     "data": {
      "text/plain": [
       "array([1., 2., 3.])"
      ]
     },
     "execution_count": 67,
     "metadata": {},
     "output_type": "execute_result"
    }
   ],
   "source": [
    "np.percentile(no_siblings, [30, 55, 80])"
   ]
  },
  {
   "cell_type": "markdown",
   "metadata": {},
   "source": [
    "Based on the resulting output, we can conclude that:\n",
    "1. Less than 30% of the individuals in the data set have less than 1 (no) sibling.\n",
    "2. Less than 55% of the individuals in the data set have less than 2 siblings.\n",
    "3. Less than 80% of the individuals in the data set have less than 3 siblings.\n",
    "\n",
    "**Quartiles** on the other hand are obtained when the data is split evenly across **4** portions across its entire range. The 4 quartiles are as follows:\n",
    "1. 1st Quartile, $Q_1$ - bottom 25% of oberservations, i.e. the *25th percentile*.\n",
    "2. 2nd Quartile, $Q_2$ - bottom 50% of oberservations, i.e. the *50th percentile*. The 2nd quartile also corresponds to the *median*.\n",
    "3. 3rd Quartile, $Q_3$ - bottom 75% of oberservations, i.e. the *75th percentile*.\n",
    "4. 4th Quartile, $Q_4$ - all oberservations, i.e. the *100th percentile*."
   ]
  },
  {
   "cell_type": "markdown",
   "metadata": {
    "slideshow": {
     "slide_type": "subslide"
    }
   },
   "source": [
    "<div class = \"alert alert-block alert-success\">\n",
    "<p>\n",
    "<b>Pros:</b>\n",
    "<p>\n",
    "1. Allows the data set to be segmented for more detailed analysis on the distribution of data.\n",
    "<p>\n",
    "<b>Cons:</b>\n",
    "<p>\n",
    "1. Quantiles can sometimes be difficult to interpret if the resulting value is non-integer.\n",
    "</div>"
   ]
  },
  {
   "cell_type": "markdown",
   "metadata": {},
   "source": [
    "The figure below summarizes the relationship between the percentiles and quartiles:\n",
    "\n",
    "![Figure 4: Quantiles](../images/Quantiles.png)"
   ]
  },
  {
   "cell_type": "markdown",
   "metadata": {},
   "source": [
    "Computation of the quartiles can also be done manually by taking the median twice in succession - this process is illustrated in the figure below:\n",
    "\n",
    "![Figure 5: Quantiles Example](../images/Q1Q3.png)\n",
    "\n",
    "Just like some of the previous functions, we can compute the quantiles manually by multiplying the number of elements in the set by the desired quantile and rounding up to the nearest index number. Selecting the element of that index from the ordered data set will yield the desired quantile. To illustrate this, we compute the 30th percentile manually as follows:"
   ]
  },
  {
   "cell_type": "code",
   "execution_count": 68,
   "metadata": {},
   "outputs": [
    {
     "data": {
      "text/plain": [
       "1"
      ]
     },
     "execution_count": 68,
     "metadata": {},
     "output_type": "execute_result"
    }
   ],
   "source": [
    "siblings_sorted = sorted(no_siblings)\n",
    "\n",
    "# check if this code is OK! \n",
    "p30 = np.floor(len(siblings_sorted) * .3) \n",
    "siblings_sorted[np.int64(p30)]"
   ]
  },
  {
   "cell_type": "markdown",
   "metadata": {},
   "source": [
    "<div class = \"alert alert-block alert-info\">\n",
    "<b>Example</b>\n",
    "<p>\n",
    "1. An Ivy League university selects only the students who placed in the top 5th percentile of SAT scores for admission.\n",
    "<p>\n",
    "2. A regional manager identifies low-performing stores by selecting all stores whose revenue for 2017 falls within the 1st quartile in the company's annual sales data set.\n",
    "</div>"
   ]
  },
  {
   "cell_type": "markdown",
   "metadata": {
    "slideshow": {
     "slide_type": "subslide"
    }
   },
   "source": [
    "#### Interquartile Range\n",
    "The interquartile range (IQR for short) is a measure of spread for the **middle 50%** of data. As extreme values occur at the low/high end of the spectrum, the interquartile range gives a good approximation for a distribution as it quantifies the dispersion for only the central portion of the data, making this measure robust to outliers.\n",
    "\n",
    "The IQR can be computed by taking the difference between the 1st and 3rd quartiles, as summarized in the figure below:\n",
    "\n",
    "![Figure 5: Interquartile Range (IQR)](../images/IQR.png)\n",
    "\n",
    "Computation of this measure can be done using the `scipy` function ``scipy.stats.iqr``. The code segments below illustrate the use of both manual computation and the `scipy` function, comparing the results obtained."
   ]
  },
  {
   "cell_type": "code",
   "execution_count": 69,
   "metadata": {},
   "outputs": [
    {
     "data": {
      "text/plain": [
       "'The IQR of no_siblings by manual compuation is 2.0'"
      ]
     },
     "execution_count": 69,
     "metadata": {},
     "output_type": "execute_result"
    }
   ],
   "source": [
    "q1, q3 = np.quantile(no_siblings,[.25, .75])\n",
    "manual_iqr = q3 - q1\n",
    "f\"The IQR of no_siblings by manual compuation is {manual_iqr}\""
   ]
  },
  {
   "cell_type": "code",
   "execution_count": 70,
   "metadata": {},
   "outputs": [
    {
     "data": {
      "text/plain": [
       "'The IQR of no_siblings using the scipy function is 2.0'"
      ]
     },
     "execution_count": 70,
     "metadata": {},
     "output_type": "execute_result"
    }
   ],
   "source": [
    "scipy_iqr = iqr(no_siblings)\n",
    "f\"The IQR of no_siblings using the scipy function is {scipy_iqr}\""
   ]
  },
  {
   "cell_type": "code",
   "execution_count": 71,
   "metadata": {},
   "outputs": [
    {
     "data": {
      "text/plain": [
       "'Is manual_iqr = scipy_iqr? True'"
      ]
     },
     "execution_count": 71,
     "metadata": {},
     "output_type": "execute_result"
    }
   ],
   "source": [
    "f\"Is manual_iqr = scipy_iqr? {manual_iqr == scipy_iqr}\""
   ]
  },
  {
   "cell_type": "markdown",
   "metadata": {
    "slideshow": {
     "slide_type": "subslide"
    }
   },
   "source": [
    "#### Determination of Outliers using Tukey's Method\n",
    "As mentioned in previous sections, an outlier is a value which is extremely small/large in comparison to the other values in a data set. Though removing outliers is context-sensitive, there exist systematic processes to identify outliers using measures of dispersion. In this course, we choose to highlight one commonly used technique called **Tukey's Method**.\n",
    "\n",
    "Tukey's Method defines outliers as values that fall outside the 1st and 3rd quartiles by 1.5 times the IQR. These boundaries are known as lower and upper **fences** and represent the outer limits of reasonable value to be included in the data set. The fences can be computed using the following formulae:\n",
    "\n",
    "$$LF = Q1 - 1.5 \\times IQR$$\n",
    "$$UF = Q3 + 1.5 \\times IQR$$\n",
    "\n",
    "![Figure 6: Outliers](../images/Outliers.png)"
   ]
  },
  {
   "cell_type": "markdown",
   "metadata": {},
   "source": [
    "To strengthen these concepts, let's practice computing the fences (and some other numerical measures)."
   ]
  },
  {
   "cell_type": "markdown",
   "metadata": {},
   "source": [
    "<div class = \"alert alert-block alert-warning\">\n",
    "<b>Guided Exercise</b>\n",
    "<p>\n",
    "Compute the following measures for the <code>no_siblings</code> data set:\n",
    "<p>\n",
    "1. Minimum\n",
    "<p>\n",
    "2. First quartile, $Q_1$\n",
    "<p>\n",
    "3. Median\n",
    "<p>\n",
    "4. Third quartile, $Q_3$\n",
    "<p>\n",
    "5. Maximum\n",
    "<p>\n",
    "6. Range\n",
    "<p>\n",
    "7. IQR\n",
    "<p>\n",
    "8. Lower Fence\n",
    "<p>\n",
    "9. Upper Fence\n",
    "</div>"
   ]
  },
  {
   "cell_type": "code",
   "execution_count": 72,
   "metadata": {},
   "outputs": [
    {
     "name": "stdout",
     "output_type": "stream",
     "text": [
      "None\n",
      "\n",
      "The minimum is 0\n",
      "The first quartile is 1.0\n",
      "The median is 2.0\n",
      "The third quartile is 3.0\n",
      "The maximum is 45\n",
      "The range is 45\n",
      "The IQR is 2.0\n",
      "The lower fence is -2.0\n",
      "The upper fence is 6.0\n",
      "\n"
     ]
    }
   ],
   "source": [
    "# MC\n",
    "\n",
    "print(no_siblings.sort())\n",
    "\n",
    "print(f\"\"\"\n",
    "The minimum is {min(no_siblings)}\n",
    "The first quartile is {np.quantile(no_siblings,.25)}\n",
    "The median is {np.median(no_siblings)}\n",
    "The third quartile is {np.quantile(no_siblings,.75)}\n",
    "The maximum is {max(no_siblings)}\n",
    "The range is {max(no_siblings) - min(no_siblings)}\n",
    "The IQR is {iqr(no_siblings)}\n",
    "The lower fence is {np.quantile(no_siblings,.25) - 1.5 * iqr(no_siblings)}\n",
    "The upper fence is {np.quantile(no_siblings,.75) + 1.5 * iqr(no_siblings)}\n",
    "\"\"\")"
   ]
  },
  {
   "cell_type": "markdown",
   "metadata": {},
   "source": [
    "Based on the fences computed, the value 7 should be classified as an **outlier**.\n",
    "\n",
    "**Note:**\n",
    "When presented together, the Minimum, 1st Quartile, Median, 3rd Quartile, and Maximum are known as a **Five Figure Summary**."
   ]
  },
  {
   "cell_type": "markdown",
   "metadata": {
    "slideshow": {
     "slide_type": "subslide"
    }
   },
   "source": [
    "<div class = \"alert alert-block alert-success\">\n",
    "<p>\n",
    "<b>Pros:</b>\n",
    "<p>\n",
    "1. Provides a clear boundary on which values should/shouldn't be classified as outliers.\n",
    "<p>\n",
    "<b>Cons:</b>\n",
    "<p>\n",
    "1. Fails for small sample sizes.\n",
    "</div>"
   ]
  },
  {
   "cell_type": "markdown",
   "metadata": {},
   "source": [
    "The code segment below illustrates a case in which Tukey's method fails to identify the value 20,000 as an outlier due to an extremely small sample size:"
   ]
  },
  {
   "cell_type": "code",
   "execution_count": 73,
   "metadata": {},
   "outputs": [
    {
     "name": "stdout",
     "output_type": "stream",
     "text": [
      "\n",
      "The IQR is 9999.5\n",
      "The lower fence is -14973.75\n",
      "The upper fence is 25024.25\n",
      "\n"
     ]
    }
   ],
   "source": [
    "small_sample = [1, 50, 20000]\n",
    "\n",
    "print(f\"\"\"\n",
    "The IQR is {iqr(small_sample)}\n",
    "The lower fence is {np.quantile(small_sample, .25) - 1.5 * iqr(small_sample)}\n",
    "The upper fence is {np.quantile(small_sample, .75) + 1.5 * iqr(small_sample)}\n",
    "\"\"\")\n"
   ]
  },
  {
   "cell_type": "markdown",
   "metadata": {},
   "source": [
    "<div class = \"alert alert-block alert-info\">\n",
    "<b>Example</b>\n",
    "<p>\n",
    "1. An automated early warning system can be programmed to flag abnormal behavior if sensors record values outside of the prescribed fences.\n",
    "<p>\n",
    "2. A schoolteacher can identify students who exhibit exceptional performance by flagging those whose scores are past the upper fence for the entire school.\n",
    "</div>"
   ]
  },
  {
   "cell_type": "markdown",
   "metadata": {
    "slideshow": {
     "slide_type": "subslide"
    }
   },
   "source": [
    "#### Variance\n",
    "The variance of a data set is a numerical representation of how much the data is spread out from the mean. For a **sample** of data, it is given by the formula:\n",
    "\n",
    "$$\\mathrm{Var}(x) =  \\frac{\\sum (x - \\bar{x})^2}{n - 1}$$\n",
    "\n",
    "where $\\bar{x}$ is the mean and $n$ is the sample size, i.e. number of elements in the data set."
   ]
  },
  {
   "cell_type": "code",
   "execution_count": 74,
   "metadata": {},
   "outputs": [],
   "source": [
    "def variance(x): \n",
    "    series_mean = np.mean(x)            # Calculate our mean\n",
    "    deviation = x - series_mean         # Subtract mean from all observations\n",
    "    squared_dev = deviation ** 2        # Square these values\n",
    "    sum_squared_dev = sum(squared_dev)  # Sum the squares\n",
    "    var = sum_squared_dev / (len(x)-1)  # divide by number of observations\n",
    "    return var"
   ]
  },
  {
   "cell_type": "markdown",
   "metadata": {},
   "source": [
    "\n",
    "From the formula, we can see that the variance is simply the average squared distance from the mean of the data set. A larger variance indicates that the data is more spread out from the mean, whereas a smaller variance indicates that the data is concentrated around the mean value.\n",
    "\n",
    "Let's take another look at the `iris` data set."
   ]
  },
  {
   "cell_type": "code",
   "execution_count": 75,
   "metadata": {
    "slideshow": {
     "slide_type": "subslide"
    }
   },
   "outputs": [
    {
     "data": {
      "text/html": [
       "<div>\n",
       "<style scoped>\n",
       "    .dataframe tbody tr th:only-of-type {\n",
       "        vertical-align: middle;\n",
       "    }\n",
       "\n",
       "    .dataframe tbody tr th {\n",
       "        vertical-align: top;\n",
       "    }\n",
       "\n",
       "    .dataframe thead th {\n",
       "        text-align: right;\n",
       "    }\n",
       "</style>\n",
       "<table border=\"1\" class=\"dataframe\">\n",
       "  <thead>\n",
       "    <tr style=\"text-align: right;\">\n",
       "      <th></th>\n",
       "      <th>Sepal.Length</th>\n",
       "      <th>Sepal.Width</th>\n",
       "      <th>Petal.Length</th>\n",
       "      <th>Petal.Width</th>\n",
       "      <th>Species</th>\n",
       "    </tr>\n",
       "  </thead>\n",
       "  <tbody>\n",
       "    <tr>\n",
       "      <th>0</th>\n",
       "      <td>5.1</td>\n",
       "      <td>3.5</td>\n",
       "      <td>1.4</td>\n",
       "      <td>0.2</td>\n",
       "      <td>setosa</td>\n",
       "    </tr>\n",
       "    <tr>\n",
       "      <th>1</th>\n",
       "      <td>4.9</td>\n",
       "      <td>3.0</td>\n",
       "      <td>1.4</td>\n",
       "      <td>0.2</td>\n",
       "      <td>setosa</td>\n",
       "    </tr>\n",
       "    <tr>\n",
       "      <th>2</th>\n",
       "      <td>4.7</td>\n",
       "      <td>3.2</td>\n",
       "      <td>1.3</td>\n",
       "      <td>0.2</td>\n",
       "      <td>setosa</td>\n",
       "    </tr>\n",
       "    <tr>\n",
       "      <th>3</th>\n",
       "      <td>4.6</td>\n",
       "      <td>3.1</td>\n",
       "      <td>1.5</td>\n",
       "      <td>0.2</td>\n",
       "      <td>setosa</td>\n",
       "    </tr>\n",
       "    <tr>\n",
       "      <th>4</th>\n",
       "      <td>5.0</td>\n",
       "      <td>3.6</td>\n",
       "      <td>1.4</td>\n",
       "      <td>0.2</td>\n",
       "      <td>setosa</td>\n",
       "    </tr>\n",
       "  </tbody>\n",
       "</table>\n",
       "</div>"
      ],
      "text/plain": [
       "   Sepal.Length  Sepal.Width  Petal.Length  Petal.Width Species\n",
       "0           5.1          3.5           1.4          0.2  setosa\n",
       "1           4.9          3.0           1.4          0.2  setosa\n",
       "2           4.7          3.2           1.3          0.2  setosa\n",
       "3           4.6          3.1           1.5          0.2  setosa\n",
       "4           5.0          3.6           1.4          0.2  setosa"
      ]
     },
     "execution_count": 75,
     "metadata": {},
     "output_type": "execute_result"
    }
   ],
   "source": [
    "# Take a look at the dataset\n",
    "iris.head() # head() shows us the first few observations"
   ]
  },
  {
   "cell_type": "markdown",
   "metadata": {
    "slideshow": {
     "slide_type": "fragment"
    }
   },
   "source": [
    "Using the formula, we can manually compute the variance of `Sepal.Length` for all observations in our dataset."
   ]
  },
  {
   "cell_type": "code",
   "execution_count": 76,
   "metadata": {},
   "outputs": [
    {
     "data": {
      "text/plain": [
       "0.6856935123042507"
      ]
     },
     "execution_count": 76,
     "metadata": {},
     "output_type": "execute_result"
    }
   ],
   "source": [
    "sepal_mean = np.mean(iris.loc[:, \"Sepal.Length\"])\n",
    "subtracted_mean = iris.loc[:, \"Sepal.Length\"] - sepal_mean\n",
    "square_diff = subtracted_mean ** 2\n",
    "var_manual = np.sum(square_diff)/(len(square_diff) - 1)\n",
    "var_manual"
   ]
  },
  {
   "cell_type": "code",
   "execution_count": 77,
   "metadata": {},
   "outputs": [],
   "source": [
    "var_manual = variance(iris.loc[:, \"Sepal.Length\"])"
   ]
  },
  {
   "cell_type": "markdown",
   "metadata": {},
   "source": [
    "`pandas` Series has a method `var()` that computes the sample variance: "
   ]
  },
  {
   "cell_type": "code",
   "execution_count": 78,
   "metadata": {},
   "outputs": [
    {
     "data": {
      "text/plain": [
       "0.6856935123042505"
      ]
     },
     "execution_count": 78,
     "metadata": {},
     "output_type": "execute_result"
    }
   ],
   "source": [
    "pd_var = iris.loc[:, \"Sepal.Length\"].var()\n",
    "pd_var"
   ]
  },
  {
   "cell_type": "markdown",
   "metadata": {},
   "source": [
    "`numpy` also provides a function to compute the variance, namely `var`. By default, `np.var` calculates the variance with 0 Delta degrees of freedom. As we are concerned with the **sample** variance, we need to set the `ddof` argument equal to 1. "
   ]
  },
  {
   "cell_type": "code",
   "execution_count": 79,
   "metadata": {},
   "outputs": [
    {
     "data": {
      "text/plain": [
       "0.6856935123042505"
      ]
     },
     "execution_count": 79,
     "metadata": {},
     "output_type": "execute_result"
    }
   ],
   "source": [
    "np_var = np.var(iris.loc[:, \"Sepal.Length\"], ddof = 1)\n",
    "np_var"
   ]
  },
  {
   "cell_type": "markdown",
   "metadata": {},
   "source": [
    "Let's compare the values generated by our manual computations and the built-in function."
   ]
  },
  {
   "cell_type": "code",
   "execution_count": 80,
   "metadata": {},
   "outputs": [],
   "source": [
    "# numpy and formula-based methods may not be equal because of precision \n",
    "from math import isclose"
   ]
  },
  {
   "cell_type": "code",
   "execution_count": 81,
   "metadata": {},
   "outputs": [
    {
     "name": "stdout",
     "output_type": "stream",
     "text": [
      "\n",
      "Is pd_var = built_var? True\n",
      "Is np_var = built_var? True\n",
      "\n"
     ]
    }
   ],
   "source": [
    "print(f\"\"\"\n",
    "Is pd_var = built_var? {isclose(pd_var, var_manual)}\n",
    "Is np_var = built_var? {isclose(np_var, var_manual)}\n",
    "\"\"\")"
   ]
  },
  {
   "cell_type": "markdown",
   "metadata": {
    "slideshow": {
     "slide_type": "subslide"
    }
   },
   "source": [
    "#### Standard Deviation\n",
    "The standard deviation is the most commonly used measure of dispersion due to its easy interpretability. It is defined as the square root of the variance:\n",
    "\n",
    "$$s = \\sqrt{\\mathrm{Var}(x)}$$\n",
    "\n",
    "The standard deviation is usually in the same units as the observations in a data set, and hence it tends to be used more often than the variance itself. \n",
    "\n",
    "Let's compare the results of using the formula and the built-in function."
   ]
  },
  {
   "cell_type": "markdown",
   "metadata": {},
   "source": [
    "Again, `pandas` objects have a `std()` method to calculate the sample standard deviation: "
   ]
  },
  {
   "cell_type": "code",
   "execution_count": 82,
   "metadata": {},
   "outputs": [
    {
     "data": {
      "text/plain": [
       "'Is sd_manual = sd_built? True'"
      ]
     },
     "execution_count": 82,
     "metadata": {},
     "output_type": "execute_result"
    }
   ],
   "source": [
    "sd_manual = np.sqrt(var_manual)\n",
    "sd_built = iris.loc[:, 'Sepal.Length'].std()\n",
    "\n",
    "f\"Is sd_manual = sd_built? {isclose(sd_manual, sd_built)}\""
   ]
  },
  {
   "cell_type": "markdown",
   "metadata": {},
   "source": [
    "In `numpy`, the standard deviation can be computed using the `std` function. Note that the `numpy` function computes the **population** standard deviation by default, i.e. there is no degrees-of-freedom adjustment. To estimate the **sample** standard deviation, do the following: "
   ]
  },
  {
   "cell_type": "code",
   "execution_count": 83,
   "metadata": {},
   "outputs": [
    {
     "data": {
      "text/plain": [
       "0.8280661279778629"
      ]
     },
     "execution_count": 83,
     "metadata": {},
     "output_type": "execute_result"
    }
   ],
   "source": [
    "np.std(iris.loc[:, 'Sepal.Length'], ddof = 1)"
   ]
  },
  {
   "cell_type": "markdown",
   "metadata": {},
   "source": [
    "### Visual Tools"
   ]
  },
  {
   "cell_type": "markdown",
   "metadata": {
    "slideshow": {
     "slide_type": "subslide"
    }
   },
   "source": [
    "#### Boxplot\n",
    "The Five Figure Summary is often visualized using a **box and whisker plot** (or **boxplot** for short). Boxplots allow us to view the distribution of the entire variable in terms of its quartiles and decide on cutoff points for outliers.\n",
    "\n",
    "A boxplot consists of a body with 3 lines representing the 1st, 2nd, and 3rd quartiles of the data set. Whiskers protrude from the boxplot up to the smallest/largest values *within* the upper and lower fences, with outliers indicated as disconnected points. The length of the boxplot's body is that of the IQR, so comparing boxplots side-by-side allows us to compare distributions in terms of both their central tendency and variation.\n",
    "\n",
    "Let's start with a simple example - a boxplot for the data set `no_siblings`:"
   ]
  },
  {
   "cell_type": "code",
   "execution_count": 84,
   "metadata": {
    "slideshow": {
     "slide_type": "fragment"
    }
   },
   "outputs": [],
   "source": [
    "# Lets pretend we have collected data on the number of siblings \n",
    "# everyone in the classroom has. This is saved as no_siblings\n",
    "\n",
    "no_siblings = [1, 0, 2, 0, 3, 1, 2, 4, 2, \n",
    "              2, 0, 1, 2, 5, 2, 1, 2, 5, 7, 2, \n",
    "              3, 0, 0, 1, 3]"
   ]
  },
  {
   "cell_type": "code",
   "execution_count": 85,
   "metadata": {},
   "outputs": [
    {
     "data": {
      "image/png": "[encoded data removed]",
      "text/plain": [
       "<Figure size 432x288 with 1 Axes>"
      ]
     },
     "metadata": {},
     "output_type": "display_data"
    }
   ],
   "source": [
    "# Lets plot a boxplot with our sibling data from before\n",
    "plt.boxplot(no_siblings)\n",
    "plt.show()"
   ]
  },
  {
   "cell_type": "markdown",
   "metadata": {},
   "source": [
    "We can clearly see from our boxplot that the median is 2, the 1st and 3rd quartiles are 1 and 3 respectively, and there exists an outlier, 7, in our data set.\n",
    "\n",
    "Now let's compare two distributions side-by-side using `array_1` and `array_3`:"
   ]
  },
  {
   "cell_type": "code",
   "execution_count": 86,
   "metadata": {},
   "outputs": [
    {
     "data": {
      "image/png": "[encoded data removed]",
      "text/plain": [
       "<Figure size 432x288 with 2 Axes>"
      ]
     },
     "metadata": {},
     "output_type": "display_data"
    }
   ],
   "source": [
    "fg, ax = plt.subplots(ncols = 2)\n",
    "\n",
    "ax[0].boxplot(array_1)\n",
    "ax[0].set_title('array_1')\n",
    "ax[1].boxplot(array_3)\n",
    "ax[1].set_title('array_3')\n",
    "plt.show()"
   ]
  },
  {
   "cell_type": "markdown",
   "metadata": {},
   "source": [
    "Here we see that there is a stark difference between the distributions for `array_1` and `array_3`. They are both centered at different (median) values, and the spread is dissimilar. `array_3` also contains an outlier, something that is not present in `array_1`."
   ]
  },
  {
   "cell_type": "markdown",
   "metadata": {
    "slideshow": {
     "slide_type": "subslide"
    }
   },
   "source": [
    "#### Histogram\n",
    "\n",
    "A **histogram** is similar to a bar chart, but works by separating numeric values according to their count/frequency. In lieu of categories, we use equal-sized intervals called **bins** to group values together. `pandas` Series have a method for histograms, `hist()`: "
   ]
  },
  {
   "cell_type": "code",
   "execution_count": 87,
   "metadata": {
    "scrolled": true
   },
   "outputs": [
    {
     "data": {
      "image/png": "[encoded data removed]",
      "text/plain": [
       "<Figure size 432x288 with 1 Axes>"
      ]
     },
     "metadata": {},
     "output_type": "display_data"
    }
   ],
   "source": [
    "iris.loc[:, 'Petal.Length'].hist(bins = 30)\n",
    "plt.title('Histogram for iris Petal.Length, bins = 30' )\n",
    "plt.show()"
   ]
  },
  {
   "cell_type": "code",
   "execution_count": 88,
   "metadata": {},
   "outputs": [
    {
     "data": {
      "image/png": "[encoded data removed]",
      "text/plain": [
       "<Figure size 432x288 with 1 Axes>"
      ]
     },
     "metadata": {},
     "output_type": "display_data"
    }
   ],
   "source": [
    "iris.loc[:, 'Petal.Length'].hist(bins = 100)\n",
    "plt.title('Histogram for iris Petal.Length, bins = 100' )\n",
    "plt.show()"
   ]
  },
  {
   "cell_type": "markdown",
   "metadata": {},
   "source": [
    "Selection of an optimal bin width is subjective - a smaller width gives more detail but results in a messier output, whereas a larger width can result in cleaner output but loses visual detail. Try experiment with the bin widths in the above code to see how it affects the output."
   ]
  },
  {
   "cell_type": "markdown",
   "metadata": {
    "slideshow": {
     "slide_type": "subslide"
    }
   },
   "source": [
    "<div class = \"alert alert-block alert-danger\">\n",
    "<b>Exercise</b>\n",
    "<p>\n",
    "Using the <code>iris</code> dataset:\n",
    "<p>\n",
    "1. Calculate the Range, Quartiles, IQR, number of outliers, variance & standard deviation for <code>Petal.Length</code>.\n",
    "<p>\n",
    "2. Draw a boxplot for <code>Petal.Length</code>.\n",
    "<p>\n",
    "3. Draw a histogram for <code>Petal.Length</code>.\n",
    "</div>"
   ]
  },
  {
   "cell_type": "code",
   "execution_count": 89,
   "metadata": {},
   "outputs": [],
   "source": [
    "pl = iris.loc[:, 'Petal.Length']"
   ]
  },
  {
   "cell_type": "code",
   "execution_count": 90,
   "metadata": {},
   "outputs": [
    {
     "data": {
      "text/plain": [
       "count    150.000000\n",
       "mean       3.758000\n",
       "std        1.765298\n",
       "min        1.000000\n",
       "25%        1.600000\n",
       "50%        4.350000\n",
       "75%        5.100000\n",
       "max        6.900000\n",
       "Name: Petal.Length, dtype: float64"
      ]
     },
     "execution_count": 90,
     "metadata": {},
     "output_type": "execute_result"
    }
   ],
   "source": [
    "pl.describe()"
   ]
  },
  {
   "cell_type": "code",
   "execution_count": 91,
   "metadata": {},
   "outputs": [],
   "source": [
    "# MC\n",
    "\n",
    "q1_pl, q3_pl = pl.quantile((.25, .75))\n",
    "range_pl = q3_pl - q1_pl\n",
    "iqr_pl = iqr(pl)\n",
    "lf_pl = q1_pl - 1.5 * iqr_pl\n",
    "uf_pl = q3_pl + 1.5 * iqr_pl\n",
    "outliers_pl = pl[(pl < lf_pl) & (pl > uf_pl)]\n",
    "n_outliers_pl=len(outliers_pl)"
   ]
  },
  {
   "cell_type": "code",
   "execution_count": 92,
   "metadata": {},
   "outputs": [
    {
     "name": "stdout",
     "output_type": "stream",
     "text": [
      "\n",
      "The range of Petal.Length is 5.9\n",
      "The first quartile of Petal.Length is 1.6\n",
      "The third quartile of Petal.Length is 5.1\n",
      "The IQR of Petal.Length is 3.4999999999999996\n",
      "The lower fence of Petal.Length is -3.649999999999999\n",
      "The upper fence of Petal.Length is 10.349999999999998\n",
      "The number of outliers of Petal.Length is 0\n",
      "The outliers of Petal.Length are []\n",
      "The variance of Petal.Length is 3.1162778523489942\n",
      "The standard deviation of Petal.Length is 1.7652982332594667\n",
      "\n"
     ]
    }
   ],
   "source": [
    "# MC\n",
    "\n",
    "print(f\"\"\"\n",
    "The range of Petal.Length is {pl.max() - pl.min()}\n",
    "The first quartile of Petal.Length is {pl.quantile(.25)}\n",
    "The third quartile of Petal.Length is {pl.quantile(.75)}\n",
    "The IQR of Petal.Length is {iqr_pl}\n",
    "The lower fence of Petal.Length is {lf_pl}\n",
    "The upper fence of Petal.Length is {uf_pl}\n",
    "The number of outliers of Petal.Length is {n_outliers_pl}\n",
    "The outliers of Petal.Length are {outliers_pl.values}\n",
    "The variance of Petal.Length is {pl.var()}\n",
    "The standard deviation of Petal.Length is {pl.std()}\n",
    "\"\"\")"
   ]
  },
  {
   "cell_type": "code",
   "execution_count": 93,
   "metadata": {},
   "outputs": [
    {
     "data": {
      "text/plain": [
       "<matplotlib.axes._subplots.AxesSubplot at 0x1a1f8b31d0>"
      ]
     },
     "execution_count": 93,
     "metadata": {},
     "output_type": "execute_result"
    },
    {
     "data": {
      "image/png": "[encoded data removed]",
      "text/plain": [
       "<Figure size 432x288 with 2 Axes>"
      ]
     },
     "metadata": {},
     "output_type": "display_data"
    }
   ],
   "source": [
    "# MC \n",
    "\n",
    "fg, ax = plt.subplots(ncols = 2)\n",
    "pl.plot.hist(bins = 12, title = \"Petal.Length Histogram\", ax = ax[0])\n",
    "pl.plot.box(title = \"Petal.Length Box Plot\", ax = ax[1])"
   ]
  },
  {
   "cell_type": "markdown",
   "metadata": {
    "slideshow": {
     "slide_type": "slide"
    }
   },
   "source": [
    "# 3. Data Exploration: Examining Relationships <a name=\"data_relationship\"></a>\n",
    "One of the core skills in exploratory data analysis is examining the relationships between variables in a data set. In many cases, we wish to establish a basis for cause and effect that can be further investigated. By examining the relationship between variables we can develop a clearer understanding of how one affects the other, allowing us to narrow down on interesting portions of our data.\n",
    "\n",
    "In this section, we will look at pairs of variables and explore their relationship (or lack thereof) using numerical summaries and visual displays. For each pair, we designate one variable as explanatory (cause) and one as response (effect). In practice, the choice of these designations is subject to the context of the business problem in question."
   ]
  },
  {
   "cell_type": "markdown",
   "metadata": {},
   "source": [
    "## A. Categorical Explanatory and Response Variables <a name=\"ctoc\"></a>\n",
    "If both the explanatory and response variables are categorical in nature, we can utilize **two-way tables**, **conditional percentage tables**, or **multibar charts** to compare the variables head-to-head."
   ]
  },
  {
   "cell_type": "markdown",
   "metadata": {},
   "source": [
    "<div class = \"alert alert-block alert-info\">\n",
    "<b>Example</b>\n",
    "<p>\n",
    "1. Are the smoking habits of a person (Yes/No) related to the person's gender?\n",
    "<p>\n",
    "2. Is there a relationship between the type of light a baby sleeps with (No Light/Night light/Lamp) and whether or not the child develops nearsightedness?\n",
    "</div>"
   ]
  },
  {
   "cell_type": "markdown",
   "metadata": {},
   "source": [
    "Let's use the `nightlight` data set to see if we can answer the 2nd question in our example above."
   ]
  },
  {
   "cell_type": "markdown",
   "metadata": {
    "slideshow": {
     "slide_type": "subslide"
    }
   },
   "source": [
    "### Two-way Tables (Cross-tabulation)\n",
    "**Cross-tabulation** involves forming tables where one the responses of one variable is sorted by columns, and the other is sorted by rows. The observations in each cell then become the count for the categories in a specific row & column combination. These tables, also known as **two-way tables** can be formed using `pd.crosstab()`. "
   ]
  },
  {
   "cell_type": "code",
   "execution_count": 94,
   "metadata": {},
   "outputs": [
    {
     "data": {
      "text/html": [
       "<div>\n",
       "<style scoped>\n",
       "    .dataframe tbody tr th:only-of-type {\n",
       "        vertical-align: middle;\n",
       "    }\n",
       "\n",
       "    .dataframe tbody tr th {\n",
       "        vertical-align: top;\n",
       "    }\n",
       "\n",
       "    .dataframe thead th {\n",
       "        text-align: right;\n",
       "    }\n",
       "</style>\n",
       "<table border=\"1\" class=\"dataframe\">\n",
       "  <thead>\n",
       "    <tr style=\"text-align: right;\">\n",
       "      <th></th>\n",
       "      <th>Light</th>\n",
       "      <th>Nearsightedness</th>\n",
       "    </tr>\n",
       "  </thead>\n",
       "  <tbody>\n",
       "    <tr>\n",
       "      <th>0</th>\n",
       "      <td>no light</td>\n",
       "      <td>No</td>\n",
       "    </tr>\n",
       "    <tr>\n",
       "      <th>1</th>\n",
       "      <td>night light</td>\n",
       "      <td>No</td>\n",
       "    </tr>\n",
       "    <tr>\n",
       "      <th>2</th>\n",
       "      <td>lamp</td>\n",
       "      <td>No</td>\n",
       "    </tr>\n",
       "    <tr>\n",
       "      <th>3</th>\n",
       "      <td>no light</td>\n",
       "      <td>No</td>\n",
       "    </tr>\n",
       "    <tr>\n",
       "      <th>4</th>\n",
       "      <td>no light</td>\n",
       "      <td>No</td>\n",
       "    </tr>\n",
       "  </tbody>\n",
       "</table>\n",
       "</div>"
      ],
      "text/plain": [
       "         Light Nearsightedness\n",
       "0     no light              No\n",
       "1  night light              No\n",
       "2         lamp              No\n",
       "3     no light              No\n",
       "4     no light              No"
      ]
     },
     "execution_count": 94,
     "metadata": {},
     "output_type": "execute_result"
    }
   ],
   "source": [
    "nightlight = pd.read_csv('../data/nightlight.csv')\n",
    "nightlight.head()"
   ]
  },
  {
   "cell_type": "code",
   "execution_count": 95,
   "metadata": {
    "slideshow": {
     "slide_type": "fragment"
    }
   },
   "outputs": [
    {
     "data": {
      "text/html": [
       "<div>\n",
       "<style scoped>\n",
       "    .dataframe tbody tr th:only-of-type {\n",
       "        vertical-align: middle;\n",
       "    }\n",
       "\n",
       "    .dataframe tbody tr th {\n",
       "        vertical-align: top;\n",
       "    }\n",
       "\n",
       "    .dataframe thead th {\n",
       "        text-align: right;\n",
       "    }\n",
       "</style>\n",
       "<table border=\"1\" class=\"dataframe\">\n",
       "  <thead>\n",
       "    <tr style=\"text-align: right;\">\n",
       "      <th>Nearsightedness</th>\n",
       "      <th>No</th>\n",
       "      <th>Yes</th>\n",
       "    </tr>\n",
       "    <tr>\n",
       "      <th>Light</th>\n",
       "      <th></th>\n",
       "      <th></th>\n",
       "    </tr>\n",
       "  </thead>\n",
       "  <tbody>\n",
       "    <tr>\n",
       "      <th>lamp</th>\n",
       "      <td>34</td>\n",
       "      <td>41</td>\n",
       "    </tr>\n",
       "    <tr>\n",
       "      <th>night light</th>\n",
       "      <td>153</td>\n",
       "      <td>79</td>\n",
       "    </tr>\n",
       "    <tr>\n",
       "      <th>no light</th>\n",
       "      <td>155</td>\n",
       "      <td>17</td>\n",
       "    </tr>\n",
       "  </tbody>\n",
       "</table>\n",
       "</div>"
      ],
      "text/plain": [
       "Nearsightedness   No  Yes\n",
       "Light                    \n",
       "lamp              34   41\n",
       "night light      153   79\n",
       "no light         155   17"
      ]
     },
     "execution_count": 95,
     "metadata": {},
     "output_type": "execute_result"
    }
   ],
   "source": [
    "nightlight_tab = pd.crosstab(nightlight.loc[:, \"Light\"], \n",
    "                             nightlight.loc[:, \"Nearsightedness\"])\n",
    "nightlight_tab"
   ]
  },
  {
   "cell_type": "markdown",
   "metadata": {
    "slideshow": {
     "slide_type": "subslide"
    }
   },
   "source": [
    "### Conditional Percentage Tables\n",
    "**Conditional percentage tables** are similar to two-way tables, with the counts converted into percentages. They are useful for highlighting disparities in proportions between categories as illustrated in the following examples. Using `pd.crosstab()`, they can be constructed by setting the `normalize` argument to `index`, `columns`, or `\"all\"`: "
   ]
  },
  {
   "cell_type": "code",
   "execution_count": 96,
   "metadata": {},
   "outputs": [
    {
     "data": {
      "text/html": [
       "<div>\n",
       "<style scoped>\n",
       "    .dataframe tbody tr th:only-of-type {\n",
       "        vertical-align: middle;\n",
       "    }\n",
       "\n",
       "    .dataframe tbody tr th {\n",
       "        vertical-align: top;\n",
       "    }\n",
       "\n",
       "    .dataframe thead th {\n",
       "        text-align: right;\n",
       "    }\n",
       "</style>\n",
       "<table border=\"1\" class=\"dataframe\">\n",
       "  <thead>\n",
       "    <tr style=\"text-align: right;\">\n",
       "      <th>Nearsightedness</th>\n",
       "      <th>No</th>\n",
       "      <th>Yes</th>\n",
       "    </tr>\n",
       "    <tr>\n",
       "      <th>Light</th>\n",
       "      <th></th>\n",
       "      <th></th>\n",
       "    </tr>\n",
       "  </thead>\n",
       "  <tbody>\n",
       "    <tr>\n",
       "      <th>lamp</th>\n",
       "      <td>7.098121</td>\n",
       "      <td>8.559499</td>\n",
       "    </tr>\n",
       "    <tr>\n",
       "      <th>night light</th>\n",
       "      <td>31.941545</td>\n",
       "      <td>16.492693</td>\n",
       "    </tr>\n",
       "    <tr>\n",
       "      <th>no light</th>\n",
       "      <td>32.359081</td>\n",
       "      <td>3.549061</td>\n",
       "    </tr>\n",
       "  </tbody>\n",
       "</table>\n",
       "</div>"
      ],
      "text/plain": [
       "Nearsightedness         No        Yes\n",
       "Light                                \n",
       "lamp              7.098121   8.559499\n",
       "night light      31.941545  16.492693\n",
       "no light         32.359081   3.549061"
      ]
     },
     "execution_count": 96,
     "metadata": {},
     "output_type": "execute_result"
    }
   ],
   "source": [
    "pd.crosstab(nightlight.loc[:, \"Light\"], \n",
    "            nightlight.loc[:, \"Nearsightedness\"], \n",
    "            normalize = \"all\") * 100"
   ]
  },
  {
   "cell_type": "markdown",
   "metadata": {},
   "source": [
    "To calculate row-wise percentages, normalize by `\"index\"`:"
   ]
  },
  {
   "cell_type": "code",
   "execution_count": 97,
   "metadata": {},
   "outputs": [
    {
     "data": {
      "text/html": [
       "<div>\n",
       "<style scoped>\n",
       "    .dataframe tbody tr th:only-of-type {\n",
       "        vertical-align: middle;\n",
       "    }\n",
       "\n",
       "    .dataframe tbody tr th {\n",
       "        vertical-align: top;\n",
       "    }\n",
       "\n",
       "    .dataframe thead th {\n",
       "        text-align: right;\n",
       "    }\n",
       "</style>\n",
       "<table border=\"1\" class=\"dataframe\">\n",
       "  <thead>\n",
       "    <tr style=\"text-align: right;\">\n",
       "      <th>Nearsightedness</th>\n",
       "      <th>No</th>\n",
       "      <th>Yes</th>\n",
       "    </tr>\n",
       "    <tr>\n",
       "      <th>Light</th>\n",
       "      <th></th>\n",
       "      <th></th>\n",
       "    </tr>\n",
       "  </thead>\n",
       "  <tbody>\n",
       "    <tr>\n",
       "      <th>lamp</th>\n",
       "      <td>45.333333</td>\n",
       "      <td>54.666667</td>\n",
       "    </tr>\n",
       "    <tr>\n",
       "      <th>night light</th>\n",
       "      <td>65.948276</td>\n",
       "      <td>34.051724</td>\n",
       "    </tr>\n",
       "    <tr>\n",
       "      <th>no light</th>\n",
       "      <td>90.116279</td>\n",
       "      <td>9.883721</td>\n",
       "    </tr>\n",
       "  </tbody>\n",
       "</table>\n",
       "</div>"
      ],
      "text/plain": [
       "Nearsightedness         No        Yes\n",
       "Light                                \n",
       "lamp             45.333333  54.666667\n",
       "night light      65.948276  34.051724\n",
       "no light         90.116279   9.883721"
      ]
     },
     "execution_count": 97,
     "metadata": {},
     "output_type": "execute_result"
    }
   ],
   "source": [
    "pd.crosstab(nightlight.loc[:, \"Light\"], \n",
    "            nightlight.loc[:, \"Nearsightedness\"], \n",
    "            normalize = \"index\") * 100"
   ]
  },
  {
   "cell_type": "markdown",
   "metadata": {},
   "source": [
    "and for column-wise percentages, normalize by `\"column\"`: "
   ]
  },
  {
   "cell_type": "code",
   "execution_count": 98,
   "metadata": {},
   "outputs": [
    {
     "data": {
      "text/html": [
       "<div>\n",
       "<style scoped>\n",
       "    .dataframe tbody tr th:only-of-type {\n",
       "        vertical-align: middle;\n",
       "    }\n",
       "\n",
       "    .dataframe tbody tr th {\n",
       "        vertical-align: top;\n",
       "    }\n",
       "\n",
       "    .dataframe thead th {\n",
       "        text-align: right;\n",
       "    }\n",
       "</style>\n",
       "<table border=\"1\" class=\"dataframe\">\n",
       "  <thead>\n",
       "    <tr style=\"text-align: right;\">\n",
       "      <th>Nearsightedness</th>\n",
       "      <th>No</th>\n",
       "      <th>Yes</th>\n",
       "    </tr>\n",
       "    <tr>\n",
       "      <th>Light</th>\n",
       "      <th></th>\n",
       "      <th></th>\n",
       "    </tr>\n",
       "  </thead>\n",
       "  <tbody>\n",
       "    <tr>\n",
       "      <th>lamp</th>\n",
       "      <td>9.941520</td>\n",
       "      <td>29.927007</td>\n",
       "    </tr>\n",
       "    <tr>\n",
       "      <th>night light</th>\n",
       "      <td>44.736842</td>\n",
       "      <td>57.664234</td>\n",
       "    </tr>\n",
       "    <tr>\n",
       "      <th>no light</th>\n",
       "      <td>45.321637</td>\n",
       "      <td>12.408759</td>\n",
       "    </tr>\n",
       "  </tbody>\n",
       "</table>\n",
       "</div>"
      ],
      "text/plain": [
       "Nearsightedness         No        Yes\n",
       "Light                                \n",
       "lamp              9.941520  29.927007\n",
       "night light      44.736842  57.664234\n",
       "no light         45.321637  12.408759"
      ]
     },
     "execution_count": 98,
     "metadata": {},
     "output_type": "execute_result"
    }
   ],
   "source": [
    "pd.crosstab(nightlight.loc[:, \"Light\"], \n",
    "            nightlight.loc[:, \"Nearsightedness\"], \n",
    "            normalize = \"columns\") * 100"
   ]
  },
  {
   "cell_type": "markdown",
   "metadata": {
    "slideshow": {
     "slide_type": "subslide"
    }
   },
   "source": [
    "### Multibar Chart\n",
    "A **multibar chart** is a paired bar chart where one variable is used as the x-axis, and the other is overlaid as categories spanning the first variable. This can be done using the `plot.bar()` method on the resulting DataFrame from `pd.crosstab()`. "
   ]
  },
  {
   "cell_type": "code",
   "execution_count": 99,
   "metadata": {},
   "outputs": [
    {
     "data": {
      "text/plain": [
       "<matplotlib.axes._subplots.AxesSubplot at 0x1a1f98e780>"
      ]
     },
     "execution_count": 99,
     "metadata": {},
     "output_type": "execute_result"
    },
    {
     "data": {
      "image/png": "[encoded data removed]",
      "text/plain": [
       "<Figure size 432x288 with 1 Axes>"
      ]
     },
     "metadata": {},
     "output_type": "display_data"
    }
   ],
   "source": [
    "nightlight_tab.plot.bar(title = \"Nearsightedness by Light Type\")"
   ]
  },
  {
   "cell_type": "markdown",
   "metadata": {
    "slideshow": {
     "slide_type": "subslide"
    }
   },
   "source": [
    "## B. Quantitative explanatory and categorical response variables <a name=\"ctoq\"></a>\n",
    "\n",
    "In the case of categorical explanatory variables with quantitative response variables, we can use numerical summaries and boxplots as we previously in the section on numerical variables. Here however, the focus will be on relating the relationship between the categorical and quantitative variables, and not just examining a single distribution."
   ]
  },
  {
   "cell_type": "markdown",
   "metadata": {},
   "source": [
    "<div class = \"alert alert-block alert-info\">\n",
    "<b>Example</b>\n",
    "<p>\n",
    "1. Is there a relationship between gender (Male/Female) and test scores on a particular standardized test?\n",
    "<p>\n",
    "2. How is the number of calories in a hot dog related to (or affected by) the type of hot dog (Beef/Meat/Poultry)? In other words, are there differences in the number of calories between the three types of hot dogs?\n",
    "</div>"
   ]
  },
  {
   "cell_type": "markdown",
   "metadata": {
    "slideshow": {
     "slide_type": "subslide"
    }
   },
   "source": [
    "### Numerical Summaries\n",
    "To explore the concept of using a numerical summary, let's take a look at the `RedWine_quality` data set to see if the residual sugar content and a wine's rated quality are related."
   ]
  },
  {
   "cell_type": "code",
   "execution_count": 100,
   "metadata": {},
   "outputs": [
    {
     "data": {
      "text/html": [
       "<div>\n",
       "<style scoped>\n",
       "    .dataframe tbody tr th:only-of-type {\n",
       "        vertical-align: middle;\n",
       "    }\n",
       "\n",
       "    .dataframe tbody tr th {\n",
       "        vertical-align: top;\n",
       "    }\n",
       "\n",
       "    .dataframe thead th {\n",
       "        text-align: right;\n",
       "    }\n",
       "</style>\n",
       "<table border=\"1\" class=\"dataframe\">\n",
       "  <thead>\n",
       "    <tr style=\"text-align: right;\">\n",
       "      <th></th>\n",
       "      <th>residual sugar</th>\n",
       "      <th>quality</th>\n",
       "    </tr>\n",
       "  </thead>\n",
       "  <tbody>\n",
       "    <tr>\n",
       "      <th>0</th>\n",
       "      <td>1.9</td>\n",
       "      <td>Poor</td>\n",
       "    </tr>\n",
       "    <tr>\n",
       "      <th>1</th>\n",
       "      <td>2.6</td>\n",
       "      <td>Poor</td>\n",
       "    </tr>\n",
       "    <tr>\n",
       "      <th>2</th>\n",
       "      <td>2.3</td>\n",
       "      <td>Poor</td>\n",
       "    </tr>\n",
       "    <tr>\n",
       "      <th>3</th>\n",
       "      <td>1.9</td>\n",
       "      <td>Poor</td>\n",
       "    </tr>\n",
       "    <tr>\n",
       "      <th>4</th>\n",
       "      <td>1.9</td>\n",
       "      <td>Poor</td>\n",
       "    </tr>\n",
       "    <tr>\n",
       "      <th>5</th>\n",
       "      <td>1.8</td>\n",
       "      <td>Poor</td>\n",
       "    </tr>\n",
       "    <tr>\n",
       "      <th>6</th>\n",
       "      <td>1.6</td>\n",
       "      <td>Poor</td>\n",
       "    </tr>\n",
       "    <tr>\n",
       "      <th>7</th>\n",
       "      <td>1.2</td>\n",
       "      <td>Poor</td>\n",
       "    </tr>\n",
       "    <tr>\n",
       "      <th>8</th>\n",
       "      <td>2.0</td>\n",
       "      <td>Poor</td>\n",
       "    </tr>\n",
       "    <tr>\n",
       "      <th>9</th>\n",
       "      <td>6.1</td>\n",
       "      <td>Good</td>\n",
       "    </tr>\n",
       "  </tbody>\n",
       "</table>\n",
       "</div>"
      ],
      "text/plain": [
       "   residual sugar quality\n",
       "0             1.9    Poor\n",
       "1             2.6    Poor\n",
       "2             2.3    Poor\n",
       "3             1.9    Poor\n",
       "4             1.9    Poor\n",
       "5             1.8    Poor\n",
       "6             1.6    Poor\n",
       "7             1.2    Poor\n",
       "8             2.0    Poor\n",
       "9             6.1    Good"
      ]
     },
     "execution_count": 100,
     "metadata": {},
     "output_type": "execute_result"
    }
   ],
   "source": [
    "wine = pd.read_csv('../data/RedWine_quality.csv')\n",
    "wine.head(10)"
   ]
  },
  {
   "cell_type": "markdown",
   "metadata": {},
   "source": [
    "Using the `describe()` method in conjunction with `groupby()` we can generate a table that summarizes the numerical results associated with each category of our explanatory variable: "
   ]
  },
  {
   "cell_type": "code",
   "execution_count": 101,
   "metadata": {},
   "outputs": [
    {
     "data": {
      "text/html": [
       "<div>\n",
       "<style scoped>\n",
       "    .dataframe tbody tr th:only-of-type {\n",
       "        vertical-align: middle;\n",
       "    }\n",
       "\n",
       "    .dataframe tbody tr th {\n",
       "        vertical-align: top;\n",
       "    }\n",
       "\n",
       "    .dataframe thead tr th {\n",
       "        text-align: left;\n",
       "    }\n",
       "\n",
       "    .dataframe thead tr:last-of-type th {\n",
       "        text-align: right;\n",
       "    }\n",
       "</style>\n",
       "<table border=\"1\" class=\"dataframe\">\n",
       "  <thead>\n",
       "    <tr>\n",
       "      <th></th>\n",
       "      <th colspan=\"8\" halign=\"left\">residual sugar</th>\n",
       "    </tr>\n",
       "    <tr>\n",
       "      <th></th>\n",
       "      <th>count</th>\n",
       "      <th>mean</th>\n",
       "      <th>std</th>\n",
       "      <th>min</th>\n",
       "      <th>25%</th>\n",
       "      <th>50%</th>\n",
       "      <th>75%</th>\n",
       "      <th>max</th>\n",
       "    </tr>\n",
       "    <tr>\n",
       "      <th>quality</th>\n",
       "      <th></th>\n",
       "      <th></th>\n",
       "      <th></th>\n",
       "      <th></th>\n",
       "      <th></th>\n",
       "      <th></th>\n",
       "      <th></th>\n",
       "      <th></th>\n",
       "    </tr>\n",
       "  </thead>\n",
       "  <tbody>\n",
       "    <tr>\n",
       "      <th>Fair</th>\n",
       "      <td>4.0</td>\n",
       "      <td>6.000000</td>\n",
       "      <td>0.000000</td>\n",
       "      <td>6.0</td>\n",
       "      <td>6.0000</td>\n",
       "      <td>6.00</td>\n",
       "      <td>6.000</td>\n",
       "      <td>6.0</td>\n",
       "    </tr>\n",
       "    <tr>\n",
       "      <th>Good</th>\n",
       "      <td>48.0</td>\n",
       "      <td>8.641667</td>\n",
       "      <td>2.850575</td>\n",
       "      <td>6.1</td>\n",
       "      <td>6.5125</td>\n",
       "      <td>7.85</td>\n",
       "      <td>8.925</td>\n",
       "      <td>15.5</td>\n",
       "    </tr>\n",
       "    <tr>\n",
       "      <th>Poor</th>\n",
       "      <td>1547.0</td>\n",
       "      <td>2.340498</td>\n",
       "      <td>0.762238</td>\n",
       "      <td>0.9</td>\n",
       "      <td>1.9000</td>\n",
       "      <td>2.20</td>\n",
       "      <td>2.500</td>\n",
       "      <td>5.9</td>\n",
       "    </tr>\n",
       "  </tbody>\n",
       "</table>\n",
       "</div>"
      ],
      "text/plain": [
       "        residual sugar                                                    \n",
       "                 count      mean       std  min     25%   50%    75%   max\n",
       "quality                                                                   \n",
       "Fair               4.0  6.000000  0.000000  6.0  6.0000  6.00  6.000   6.0\n",
       "Good              48.0  8.641667  2.850575  6.1  6.5125  7.85  8.925  15.5\n",
       "Poor            1547.0  2.340498  0.762238  0.9  1.9000  2.20  2.500   5.9"
      ]
     },
     "execution_count": 101,
     "metadata": {},
     "output_type": "execute_result"
    }
   ],
   "source": [
    "wine.groupby('quality').describe()"
   ]
  },
  {
   "cell_type": "markdown",
   "metadata": {},
   "source": [
    "We see here that the average residual sugar content is higher for wines that rate higher on the quality scale. The distribution of values however is heavy to one side for the `Good` and `Poor` categories, which indicates that we may want to have a closer look at these two to see if there are any outliers affecting what we see."
   ]
  },
  {
   "cell_type": "markdown",
   "metadata": {
    "slideshow": {
     "slide_type": "subslide"
    }
   },
   "source": [
    "### Side-by-Side Boxplots\n",
    "As we saw in the comparison of `array_1` and `array_3`, we can compare boxplots side-by-side to see if their distributions are similar. If your data set includes a categorical explanatory variable, setting this variable as the x axis will automatically yield a **side-by-side boxplot** without the need to stack the boxplots together manually.\n",
    "\n",
    "Let's have another look at the residual sugar data:"
   ]
  },
  {
   "cell_type": "code",
   "execution_count": 102,
   "metadata": {},
   "outputs": [
    {
     "data": {
      "text/html": [
       "<div>\n",
       "<style scoped>\n",
       "    .dataframe tbody tr th:only-of-type {\n",
       "        vertical-align: middle;\n",
       "    }\n",
       "\n",
       "    .dataframe tbody tr th {\n",
       "        vertical-align: top;\n",
       "    }\n",
       "\n",
       "    .dataframe thead th {\n",
       "        text-align: right;\n",
       "    }\n",
       "</style>\n",
       "<table border=\"1\" class=\"dataframe\">\n",
       "  <thead>\n",
       "    <tr style=\"text-align: right;\">\n",
       "      <th></th>\n",
       "      <th>residual sugar</th>\n",
       "      <th>quality</th>\n",
       "    </tr>\n",
       "  </thead>\n",
       "  <tbody>\n",
       "    <tr>\n",
       "      <th>0</th>\n",
       "      <td>1.9</td>\n",
       "      <td>Poor</td>\n",
       "    </tr>\n",
       "    <tr>\n",
       "      <th>1</th>\n",
       "      <td>2.6</td>\n",
       "      <td>Poor</td>\n",
       "    </tr>\n",
       "    <tr>\n",
       "      <th>2</th>\n",
       "      <td>2.3</td>\n",
       "      <td>Poor</td>\n",
       "    </tr>\n",
       "    <tr>\n",
       "      <th>3</th>\n",
       "      <td>1.9</td>\n",
       "      <td>Poor</td>\n",
       "    </tr>\n",
       "    <tr>\n",
       "      <th>4</th>\n",
       "      <td>1.9</td>\n",
       "      <td>Poor</td>\n",
       "    </tr>\n",
       "  </tbody>\n",
       "</table>\n",
       "</div>"
      ],
      "text/plain": [
       "   residual sugar quality\n",
       "0             1.9    Poor\n",
       "1             2.6    Poor\n",
       "2             2.3    Poor\n",
       "3             1.9    Poor\n",
       "4             1.9    Poor"
      ]
     },
     "execution_count": 102,
     "metadata": {},
     "output_type": "execute_result"
    }
   ],
   "source": [
    "wine.head()"
   ]
  },
  {
   "cell_type": "code",
   "execution_count": 103,
   "metadata": {},
   "outputs": [
    {
     "data": {
      "image/png": "[encoded data removed]",
      "text/plain": [
       "<Figure size 360x360 with 1 Axes>"
      ]
     },
     "metadata": {},
     "output_type": "display_data"
    }
   ],
   "source": [
    "wine.boxplot(by = \"quality\",fontsize=12, figsize = (5, 5))\n",
    "plt.show()"
   ]
  },
  {
   "cell_type": "code",
   "execution_count": 104,
   "metadata": {},
   "outputs": [
    {
     "data": {
      "text/plain": [
       "Text(0.5, 1.0, 'Residual Sugar by Wine Quality')"
      ]
     },
     "execution_count": 104,
     "metadata": {},
     "output_type": "execute_result"
    },
    {
     "data": {
      "image/png": "[encoded data removed]",
      "text/plain": [
       "<Figure size 432x288 with 1 Axes>"
      ]
     },
     "metadata": {},
     "output_type": "display_data"
    }
   ],
   "source": [
    "sns.boxplot(x = \"quality\", y = \"residual sugar\", data = wine).set_title(\"Residual Sugar by Wine Quality\")"
   ]
  },
  {
   "cell_type": "markdown",
   "metadata": {},
   "source": [
    "Aha! We see that although there seems to be a marked difference in the residual sugar content of each category, there also seem to be quite a few outliers in our set. How do you think removing these outliers will affect our data set?"
   ]
  },
  {
   "cell_type": "markdown",
   "metadata": {
    "slideshow": {
     "slide_type": "subslide"
    }
   },
   "source": [
    "## C. Quantitative Explanatory and Quantitative Response<a name=\"qtoq\"></a>\n",
    "If both our explanatory and response variables are quantitative, we can investigate the existince of a relationship by gauging the increment/decrement in the response variable with respect to changes in the explanatory variable. This is best gauged using a **scatter plot**, and can further be refined using **Pearson's correlation coefficient**."
   ]
  },
  {
   "cell_type": "markdown",
   "metadata": {},
   "source": [
    "<div class = \"alert alert-block alert-info\">\n",
    "<b>Example</b>\n",
    "<p>\n",
    "1. Can we predict a student's freshman year GPA from his/her SAT score?\n",
    "<p>\n",
    "2. What is the relationship between driver's age and the legibility distance of a sign (the maximum distance at which the driver can read a sign)?\n",
    "</div>"
   ]
  },
  {
   "cell_type": "markdown",
   "metadata": {
    "slideshow": {
     "slide_type": "subslide"
    }
   },
   "source": [
    "### Scatter Plots\n",
    "**Scatter plots** are the go-to tool for determining the nature of relationship between two quantitative variables. They are obtained by plotting one variable against another on the Cartesian plane, with points scattered across the xy-coordinates according to the data set.\n",
    "\n",
    "Let's examine if there is any relationship between a student's math score and his/her reading score for a group of students as given in the `exams` data set. First and foremost, let's have a quick look around at the data to see what we're working with:"
   ]
  },
  {
   "cell_type": "code",
   "execution_count": 105,
   "metadata": {},
   "outputs": [
    {
     "name": "stdout",
     "output_type": "stream",
     "text": [
      "<class 'pandas.core.frame.DataFrame'>\n",
      "RangeIndex: 100 entries, 0 to 99\n",
      "Data columns (total 3 columns):\n",
      "math.score       100 non-null int64\n",
      "reading.score    100 non-null int64\n",
      "writing.score    100 non-null int64\n",
      "dtypes: int64(3)\n",
      "memory usage: 2.4 KB\n"
     ]
    }
   ],
   "source": [
    "examScore = pd.read_csv(\"../data/exams.csv\")\n",
    "examScore = examScore.loc[:,(\"math.score\", \"reading.score\", \"writing.score\")]\n",
    "examScore.info()"
   ]
  },
  {
   "cell_type": "code",
   "execution_count": 106,
   "metadata": {},
   "outputs": [
    {
     "data": {
      "text/html": [
       "<div>\n",
       "<style scoped>\n",
       "    .dataframe tbody tr th:only-of-type {\n",
       "        vertical-align: middle;\n",
       "    }\n",
       "\n",
       "    .dataframe tbody tr th {\n",
       "        vertical-align: top;\n",
       "    }\n",
       "\n",
       "    .dataframe thead th {\n",
       "        text-align: right;\n",
       "    }\n",
       "</style>\n",
       "<table border=\"1\" class=\"dataframe\">\n",
       "  <thead>\n",
       "    <tr style=\"text-align: right;\">\n",
       "      <th></th>\n",
       "      <th>math.score</th>\n",
       "      <th>reading.score</th>\n",
       "      <th>writing.score</th>\n",
       "    </tr>\n",
       "  </thead>\n",
       "  <tbody>\n",
       "    <tr>\n",
       "      <th>0</th>\n",
       "      <td>75</td>\n",
       "      <td>85</td>\n",
       "      <td>88</td>\n",
       "    </tr>\n",
       "    <tr>\n",
       "      <th>1</th>\n",
       "      <td>42</td>\n",
       "      <td>58</td>\n",
       "      <td>50</td>\n",
       "    </tr>\n",
       "    <tr>\n",
       "      <th>2</th>\n",
       "      <td>43</td>\n",
       "      <td>43</td>\n",
       "      <td>30</td>\n",
       "    </tr>\n",
       "    <tr>\n",
       "      <th>3</th>\n",
       "      <td>70</td>\n",
       "      <td>57</td>\n",
       "      <td>56</td>\n",
       "    </tr>\n",
       "    <tr>\n",
       "      <th>4</th>\n",
       "      <td>63</td>\n",
       "      <td>75</td>\n",
       "      <td>78</td>\n",
       "    </tr>\n",
       "  </tbody>\n",
       "</table>\n",
       "</div>"
      ],
      "text/plain": [
       "   math.score  reading.score  writing.score\n",
       "0          75             85             88\n",
       "1          42             58             50\n",
       "2          43             43             30\n",
       "3          70             57             56\n",
       "4          63             75             78"
      ]
     },
     "execution_count": 106,
     "metadata": {},
     "output_type": "execute_result"
    }
   ],
   "source": [
    "examScore.head()"
   ]
  },
  {
   "cell_type": "markdown",
   "metadata": {},
   "source": [
    "Alright. So we see that there are three variables - `math.score`, `reading.score`, and `writing.score`. Let's have a look at the math and reading scores."
   ]
  },
  {
   "cell_type": "code",
   "execution_count": 107,
   "metadata": {},
   "outputs": [
    {
     "data": {
      "text/plain": [
       "Text(0.5, 1.0, 'Math Score by Reading Score')"
      ]
     },
     "execution_count": 107,
     "metadata": {},
     "output_type": "execute_result"
    },
    {
     "data": {
      "image/png": "[encoded data removed]",
      "text/plain": [
       "<Figure size 432x288 with 1 Axes>"
      ]
     },
     "metadata": {},
     "output_type": "display_data"
    }
   ],
   "source": [
    "plt.scatter(x = \"math.score\", y = \"reading.score\", data = examScore)\n",
    "plt.title(\"Math Score by Reading Score\")"
   ]
  },
  {
   "cell_type": "code",
   "execution_count": 108,
   "metadata": {},
   "outputs": [
    {
     "data": {
      "text/plain": [
       "Text(0.5, 1.0, 'Math Score by Reading Score')"
      ]
     },
     "execution_count": 108,
     "metadata": {},
     "output_type": "execute_result"
    },
    {
     "data": {
      "image/png": "[encoded data removed]",
      "text/plain": [
       "<Figure size 432x288 with 1 Axes>"
      ]
     },
     "metadata": {},
     "output_type": "display_data"
    }
   ],
   "source": [
    "sns.scatterplot(x = \"reading.score\", y = \"math.score\", data = examScore)\n",
    "plt.title(\"Math Score by Reading Score\")"
   ]
  },
  {
   "cell_type": "markdown",
   "metadata": {
    "slideshow": {
     "slide_type": "subslide"
    }
   },
   "source": [
    "We see that as the reading scores go higher, so do the math scores. This makes sense - a student who's poorer at reading may not be able to understand the exam questions, translating to a lower math score. We don't have enough information to verify this theory just yet, but examining the relationship using a scatter plot has given us some insight into how the two are related!\n",
    "\n",
    "When describing the distribution of a single quantitative variable with a histogram, we describe the overall pattern of the distribution (shape, center, spread) and any deviations from that pattern (outliers). The scatter plot here does the same thing, albeit with 2 variables. Two important pieces of information that the scatter plot gives us is the nature (linear/non-linear) of relationship and its direction (positive/negative).\n",
    "\n",
    "![](../images/linear_nonlinear.png)\n",
    "\n",
    "A relationship between two variables is classified as **linear** if the pattern of distribution for our data is centered about a straight line, i.e. we can plot a straight line that cuts through the data such that the points are evenly distributed across the line. If the pattern is distributed along some other form of curve, we say it is **non-linear**. If the points appear to be randomly strewn across the plot, we say that no relationship between the variables exist.\n",
    "\n",
    "![](../images/positive_negative.png)\n",
    "\n",
    "On the other hand, the direction of a relationship between two quantitative variables can be **positive** or **negative**. A positive (or **increasing**) relationship means that an increase in one of the variables is associated with an increase in the other. A negative (or **decreasing**) relationship means that an increase in one of the variables is associated with a decrease in the other. One important thing to note here is that not all relationships can be classified as either positive or negative - you can encounter cases where the values swing back and forth in both directions."
   ]
  },
  {
   "cell_type": "markdown",
   "metadata": {
    "slideshow": {
     "slide_type": "subslide"
    }
   },
   "source": [
    "### Linear Relationships and Pearson's Correlation Coefficient\n",
    "Although a scatter plot gives us valuable information in terms of the nature and direction of a relationship between two quantitative variables, what it fails to do is quantify the **strength** of said relationship. To that extent, we would like to utilize some numerical measure to assess *how much* of an impact one variable has on another.\n",
    "\n",
    "Recall the case of a **linear relationship** - a relationship between two quantitative variables such that the pattern of distribution for our data is centered about a **straight line**. The plot below shows that we can indeed see somewhat of a linear pattern in our selected data."
   ]
  },
  {
   "cell_type": "code",
   "execution_count": 109,
   "metadata": {},
   "outputs": [
    {
     "name": "stderr",
     "output_type": "stream",
     "text": [
      "/anaconda3/lib/python3.6/site-packages/scipy/stats/stats.py:1713: FutureWarning: Using a non-tuple sequence for multidimensional indexing is deprecated; use `arr[tuple(seq)]` instead of `arr[seq]`. In the future this will be interpreted as an array index, `arr[np.array(seq)]`, which will result either in an error or a different result.\n",
      "  return np.add.reduce(sorted[indexer] * weights, axis=axis) / sumval\n"
     ]
    },
    {
     "data": {
      "image/png": "[encoded data removed]",
      "text/plain": [
       "<Figure size 360x360 with 1 Axes>"
      ]
     },
     "metadata": {},
     "output_type": "display_data"
    }
   ],
   "source": [
    "sns.lmplot(x = \"reading.score\", y  = \"math.score\", data = examScore, \n",
    "           ci = False).fig.suptitle(\"Math Score by Reading Score\", y=1.01)\n",
    "plt.show()"
   ]
  },
  {
   "cell_type": "markdown",
   "metadata": {
    "slideshow": {
     "slide_type": "subslide"
    }
   },
   "source": [
    "The **strength** of a linear relationship can be assessed using a numerical measure called **Pearson's correlation coefficient**, or **Pearson's r** for short.\n",
    "\n",
    "For any two quantitative variables $X$ and $Y$, Pearson's correlation coefficient (denoted by $\\mathrm{cor}(X,Y)$ or $r_{xy}$) measures on average, how much an increase (decrease) in $X$ is related to an increase (decrease) in $Y$. The sign of the correlation value (+/-) designates the direction of the relationship, i.e. positive or negative.\n",
    "\n",
    "Mathematically, Pearson's correlation coefficient is defined as:\n",
    "$$\\mathrm{cor}(X,Y) = r_{xy} = \\frac{\\sum_i (x_i - \\bar x)(y_i - \\bar y)}{s_x * s_y}$$\n",
    "\n",
    "\n",
    "where $\\bar x$ and $\\bar y$ are the means of $X$ and $Y$, and $s_x$ and $s_y$ are the standard deviation of $X$ and $Y$ respectively.\n",
    "\n",
    "The correlation coefficient takes values **only** between -1 and 1, with +/-1 denoting a perfect positive/negative linear relationship and 0 denoting the absence of any relationship. Any other values taken within the $(-1, 1)$ interval indicate the strength of the relationship in a given direction (+/-). The figure below gives a summary of how we classify these relationships:\n",
    "\n",
    "![](../images/corr.jpg)\n",
    "\n",
    "Unfortunately, there are no clear rules on what values of the correlation coefficient constitute \"Strong\", \"Moderate\", or \"Weak\" correlations as various authors have been known prescribe arbitrary limits for their respective fields. For the purpose of this course, we'll use the following definition:\n",
    "\n",
    "| Strength of Relationship | Correlation        |\n",
    "|:------------------------:|:-------------------|\n",
    "| Very Weak                | 0.01 - 0.20        |\n",
    "| Weak                     | 0.21 - 0.40        |\n",
    "| Moderate                 | 0.41 - 0.60        |\n",
    "| Strong                   | 0.61 - 0.80        |\n",
    "| Very Strong              | 0.81 - 0.99        |\n",
    "\n",
    "Now let's have a look at quantifying the correlation for the relationship we examined earlier between the math and reading scores. In `numpy`, this can be done using the `corrcoef` function, which calculates the correlation between any two specified variables."
   ]
  },
  {
   "cell_type": "code",
   "execution_count": 110,
   "metadata": {},
   "outputs": [
    {
     "data": {
      "text/plain": [
       "array([[1.        , 0.78919751],\n",
       "       [0.78919751, 1.        ]])"
      ]
     },
     "execution_count": 110,
     "metadata": {},
     "output_type": "execute_result"
    }
   ],
   "source": [
    "np.corrcoef(examScore.loc[:, \"math.score\"], examScore.loc[:, \"reading.score\"])"
   ]
  },
  {
   "cell_type": "markdown",
   "metadata": {},
   "source": [
    "or alternatively, using the `corr()` method of `pandas` DataFrame objects:"
   ]
  },
  {
   "cell_type": "code",
   "execution_count": 111,
   "metadata": {},
   "outputs": [
    {
     "data": {
      "text/html": [
       "<div>\n",
       "<style scoped>\n",
       "    .dataframe tbody tr th:only-of-type {\n",
       "        vertical-align: middle;\n",
       "    }\n",
       "\n",
       "    .dataframe tbody tr th {\n",
       "        vertical-align: top;\n",
       "    }\n",
       "\n",
       "    .dataframe thead th {\n",
       "        text-align: right;\n",
       "    }\n",
       "</style>\n",
       "<table border=\"1\" class=\"dataframe\">\n",
       "  <thead>\n",
       "    <tr style=\"text-align: right;\">\n",
       "      <th></th>\n",
       "      <th>math.score</th>\n",
       "      <th>reading.score</th>\n",
       "      <th>writing.score</th>\n",
       "    </tr>\n",
       "  </thead>\n",
       "  <tbody>\n",
       "    <tr>\n",
       "      <th>math.score</th>\n",
       "      <td>1.000000</td>\n",
       "      <td>0.789198</td>\n",
       "      <td>0.770559</td>\n",
       "    </tr>\n",
       "    <tr>\n",
       "      <th>reading.score</th>\n",
       "      <td>0.789198</td>\n",
       "      <td>1.000000</td>\n",
       "      <td>0.939860</td>\n",
       "    </tr>\n",
       "    <tr>\n",
       "      <th>writing.score</th>\n",
       "      <td>0.770559</td>\n",
       "      <td>0.939860</td>\n",
       "      <td>1.000000</td>\n",
       "    </tr>\n",
       "  </tbody>\n",
       "</table>\n",
       "</div>"
      ],
      "text/plain": [
       "               math.score  reading.score  writing.score\n",
       "math.score       1.000000       0.789198       0.770559\n",
       "reading.score    0.789198       1.000000       0.939860\n",
       "writing.score    0.770559       0.939860       1.000000"
      ]
     },
     "execution_count": 111,
     "metadata": {},
     "output_type": "execute_result"
    }
   ],
   "source": [
    "examScore.corr()"
   ]
  },
  {
   "cell_type": "markdown",
   "metadata": {},
   "source": [
    "These functions generate a correlation matrix, i.e. a table of all possible pairs of variables and their related correlations. The diagonal of this matrix is always 1 as the correlation between any variable and itself must be perfect. Additionally, correlation is also symmetric, i.e. corr(𝑋,𝑌)=corr(𝑌,𝑋). This can be seen in the table as values above the diagonal are \"reflected\" to the bottom half."
   ]
  },
  {
   "cell_type": "markdown",
   "metadata": {
    "slideshow": {
     "slide_type": "subslide"
    }
   },
   "source": [
    "Now let's have a look at the scatter plot for the reading and writing scores to verify if the strong positive relationship between these 2 variables that we see in the table is true."
   ]
  },
  {
   "cell_type": "code",
   "execution_count": 112,
   "metadata": {},
   "outputs": [
    {
     "data": {
      "image/png": "[encoded data removed]",
      "text/plain": [
       "<Figure size 360x360 with 1 Axes>"
      ]
     },
     "metadata": {},
     "output_type": "display_data"
    }
   ],
   "source": [
    "sns.lmplot(x = \"reading.score\", y = \"writing.score\", data = examScore, \n",
    "           ci = False)\n",
    "\n",
    "ax = plt.gca() # get current axis \n",
    "ax.set_title(\"There is a strong positive correlation between reading and writing scores\", fontsize=14)\n",
    "ax.set_xlabel(\"Reading score\")\n",
    "ax.set_ylabel(\"Writing score\")\n",
    "plt.show()"
   ]
  },
  {
   "cell_type": "markdown",
   "metadata": {},
   "source": [
    "Yup, it does!"
   ]
  },
  {
   "cell_type": "markdown",
   "metadata": {
    "slideshow": {
     "slide_type": "subslide"
    }
   },
   "source": [
    "<div class = \"alert alert-block alert-danger\">\n",
    "<b>Exercise</b>\n",
    "<p>\n",
    "Explore all two-way relationships between variables in the <code>iris</code> dataset.\n",
    "</div>"
   ]
  },
  {
   "cell_type": "code",
   "execution_count": 113,
   "metadata": {},
   "outputs": [
    {
     "data": {
      "text/html": [
       "<div>\n",
       "<style scoped>\n",
       "    .dataframe tbody tr th:only-of-type {\n",
       "        vertical-align: middle;\n",
       "    }\n",
       "\n",
       "    .dataframe tbody tr th {\n",
       "        vertical-align: top;\n",
       "    }\n",
       "\n",
       "    .dataframe thead th {\n",
       "        text-align: right;\n",
       "    }\n",
       "</style>\n",
       "<table border=\"1\" class=\"dataframe\">\n",
       "  <thead>\n",
       "    <tr style=\"text-align: right;\">\n",
       "      <th></th>\n",
       "      <th>Sepal.Length</th>\n",
       "      <th>Sepal.Width</th>\n",
       "      <th>Petal.Length</th>\n",
       "      <th>Petal.Width</th>\n",
       "      <th>Species</th>\n",
       "    </tr>\n",
       "  </thead>\n",
       "  <tbody>\n",
       "    <tr>\n",
       "      <th>0</th>\n",
       "      <td>5.1</td>\n",
       "      <td>3.5</td>\n",
       "      <td>1.4</td>\n",
       "      <td>0.2</td>\n",
       "      <td>setosa</td>\n",
       "    </tr>\n",
       "    <tr>\n",
       "      <th>1</th>\n",
       "      <td>4.9</td>\n",
       "      <td>3.0</td>\n",
       "      <td>1.4</td>\n",
       "      <td>0.2</td>\n",
       "      <td>setosa</td>\n",
       "    </tr>\n",
       "    <tr>\n",
       "      <th>2</th>\n",
       "      <td>4.7</td>\n",
       "      <td>3.2</td>\n",
       "      <td>1.3</td>\n",
       "      <td>0.2</td>\n",
       "      <td>setosa</td>\n",
       "    </tr>\n",
       "    <tr>\n",
       "      <th>3</th>\n",
       "      <td>4.6</td>\n",
       "      <td>3.1</td>\n",
       "      <td>1.5</td>\n",
       "      <td>0.2</td>\n",
       "      <td>setosa</td>\n",
       "    </tr>\n",
       "    <tr>\n",
       "      <th>4</th>\n",
       "      <td>5.0</td>\n",
       "      <td>3.6</td>\n",
       "      <td>1.4</td>\n",
       "      <td>0.2</td>\n",
       "      <td>setosa</td>\n",
       "    </tr>\n",
       "  </tbody>\n",
       "</table>\n",
       "</div>"
      ],
      "text/plain": [
       "   Sepal.Length  Sepal.Width  Petal.Length  Petal.Width Species\n",
       "0           5.1          3.5           1.4          0.2  setosa\n",
       "1           4.9          3.0           1.4          0.2  setosa\n",
       "2           4.7          3.2           1.3          0.2  setosa\n",
       "3           4.6          3.1           1.5          0.2  setosa\n",
       "4           5.0          3.6           1.4          0.2  setosa"
      ]
     },
     "execution_count": 113,
     "metadata": {},
     "output_type": "execute_result"
    }
   ],
   "source": [
    "iris.head()"
   ]
  },
  {
   "cell_type": "code",
   "execution_count": 114,
   "metadata": {},
   "outputs": [
    {
     "data": {
      "text/html": [
       "<div>\n",
       "<style scoped>\n",
       "    .dataframe tbody tr th:only-of-type {\n",
       "        vertical-align: middle;\n",
       "    }\n",
       "\n",
       "    .dataframe tbody tr th {\n",
       "        vertical-align: top;\n",
       "    }\n",
       "\n",
       "    .dataframe thead th {\n",
       "        text-align: right;\n",
       "    }\n",
       "</style>\n",
       "<table border=\"1\" class=\"dataframe\">\n",
       "  <thead>\n",
       "    <tr style=\"text-align: right;\">\n",
       "      <th></th>\n",
       "      <th>Sepal.Length</th>\n",
       "      <th>Sepal.Width</th>\n",
       "      <th>Petal.Length</th>\n",
       "      <th>Petal.Width</th>\n",
       "    </tr>\n",
       "  </thead>\n",
       "  <tbody>\n",
       "    <tr>\n",
       "      <th>count</th>\n",
       "      <td>150.000000</td>\n",
       "      <td>150.000000</td>\n",
       "      <td>150.000000</td>\n",
       "      <td>150.000000</td>\n",
       "    </tr>\n",
       "    <tr>\n",
       "      <th>mean</th>\n",
       "      <td>5.843333</td>\n",
       "      <td>3.057333</td>\n",
       "      <td>3.758000</td>\n",
       "      <td>1.199333</td>\n",
       "    </tr>\n",
       "    <tr>\n",
       "      <th>std</th>\n",
       "      <td>0.828066</td>\n",
       "      <td>0.435866</td>\n",
       "      <td>1.765298</td>\n",
       "      <td>0.762238</td>\n",
       "    </tr>\n",
       "    <tr>\n",
       "      <th>min</th>\n",
       "      <td>4.300000</td>\n",
       "      <td>2.000000</td>\n",
       "      <td>1.000000</td>\n",
       "      <td>0.100000</td>\n",
       "    </tr>\n",
       "    <tr>\n",
       "      <th>25%</th>\n",
       "      <td>5.100000</td>\n",
       "      <td>2.800000</td>\n",
       "      <td>1.600000</td>\n",
       "      <td>0.300000</td>\n",
       "    </tr>\n",
       "    <tr>\n",
       "      <th>50%</th>\n",
       "      <td>5.800000</td>\n",
       "      <td>3.000000</td>\n",
       "      <td>4.350000</td>\n",
       "      <td>1.300000</td>\n",
       "    </tr>\n",
       "    <tr>\n",
       "      <th>75%</th>\n",
       "      <td>6.400000</td>\n",
       "      <td>3.300000</td>\n",
       "      <td>5.100000</td>\n",
       "      <td>1.800000</td>\n",
       "    </tr>\n",
       "    <tr>\n",
       "      <th>max</th>\n",
       "      <td>7.900000</td>\n",
       "      <td>4.400000</td>\n",
       "      <td>6.900000</td>\n",
       "      <td>2.500000</td>\n",
       "    </tr>\n",
       "  </tbody>\n",
       "</table>\n",
       "</div>"
      ],
      "text/plain": [
       "       Sepal.Length  Sepal.Width  Petal.Length  Petal.Width\n",
       "count    150.000000   150.000000    150.000000   150.000000\n",
       "mean       5.843333     3.057333      3.758000     1.199333\n",
       "std        0.828066     0.435866      1.765298     0.762238\n",
       "min        4.300000     2.000000      1.000000     0.100000\n",
       "25%        5.100000     2.800000      1.600000     0.300000\n",
       "50%        5.800000     3.000000      4.350000     1.300000\n",
       "75%        6.400000     3.300000      5.100000     1.800000\n",
       "max        7.900000     4.400000      6.900000     2.500000"
      ]
     },
     "execution_count": 114,
     "metadata": {},
     "output_type": "execute_result"
    }
   ],
   "source": [
    "iris.describe()"
   ]
  },
  {
   "cell_type": "code",
   "execution_count": 115,
   "metadata": {
    "slideshow": {
     "slide_type": "subslide"
    }
   },
   "outputs": [],
   "source": [
    "# Species ---> Petal.Length ,  Petal.Width , etc. (Categorical ---> Quantitative)\n",
    "\n",
    "# Numerical Summaries\n",
    "# Side by Side Box Plot"
   ]
  },
  {
   "cell_type": "code",
   "execution_count": 116,
   "metadata": {},
   "outputs": [
    {
     "data": {
      "text/html": [
       "<div>\n",
       "<style scoped>\n",
       "    .dataframe tbody tr th:only-of-type {\n",
       "        vertical-align: middle;\n",
       "    }\n",
       "\n",
       "    .dataframe tbody tr th {\n",
       "        vertical-align: top;\n",
       "    }\n",
       "\n",
       "    .dataframe thead th {\n",
       "        text-align: right;\n",
       "    }\n",
       "</style>\n",
       "<table border=\"1\" class=\"dataframe\">\n",
       "  <thead>\n",
       "    <tr style=\"text-align: right;\">\n",
       "      <th></th>\n",
       "      <th>Species</th>\n",
       "      <th>setosa</th>\n",
       "      <th>versicolor</th>\n",
       "      <th>virginica</th>\n",
       "    </tr>\n",
       "  </thead>\n",
       "  <tbody>\n",
       "    <tr>\n",
       "      <th rowspan=\"8\" valign=\"top\">Petal.Length</th>\n",
       "      <th>count</th>\n",
       "      <td>50.000000</td>\n",
       "      <td>50.000000</td>\n",
       "      <td>50.000000</td>\n",
       "    </tr>\n",
       "    <tr>\n",
       "      <th>mean</th>\n",
       "      <td>1.462000</td>\n",
       "      <td>4.260000</td>\n",
       "      <td>5.552000</td>\n",
       "    </tr>\n",
       "    <tr>\n",
       "      <th>std</th>\n",
       "      <td>0.173664</td>\n",
       "      <td>0.469911</td>\n",
       "      <td>0.551895</td>\n",
       "    </tr>\n",
       "    <tr>\n",
       "      <th>min</th>\n",
       "      <td>1.000000</td>\n",
       "      <td>3.000000</td>\n",
       "      <td>4.500000</td>\n",
       "    </tr>\n",
       "    <tr>\n",
       "      <th>25%</th>\n",
       "      <td>1.400000</td>\n",
       "      <td>4.000000</td>\n",
       "      <td>5.100000</td>\n",
       "    </tr>\n",
       "    <tr>\n",
       "      <th>50%</th>\n",
       "      <td>1.500000</td>\n",
       "      <td>4.350000</td>\n",
       "      <td>5.550000</td>\n",
       "    </tr>\n",
       "    <tr>\n",
       "      <th>75%</th>\n",
       "      <td>1.575000</td>\n",
       "      <td>4.600000</td>\n",
       "      <td>5.875000</td>\n",
       "    </tr>\n",
       "    <tr>\n",
       "      <th>max</th>\n",
       "      <td>1.900000</td>\n",
       "      <td>5.100000</td>\n",
       "      <td>6.900000</td>\n",
       "    </tr>\n",
       "    <tr>\n",
       "      <th rowspan=\"8\" valign=\"top\">Petal.Width</th>\n",
       "      <th>count</th>\n",
       "      <td>50.000000</td>\n",
       "      <td>50.000000</td>\n",
       "      <td>50.000000</td>\n",
       "    </tr>\n",
       "    <tr>\n",
       "      <th>mean</th>\n",
       "      <td>0.246000</td>\n",
       "      <td>1.326000</td>\n",
       "      <td>2.026000</td>\n",
       "    </tr>\n",
       "    <tr>\n",
       "      <th>std</th>\n",
       "      <td>0.105386</td>\n",
       "      <td>0.197753</td>\n",
       "      <td>0.274650</td>\n",
       "    </tr>\n",
       "    <tr>\n",
       "      <th>min</th>\n",
       "      <td>0.100000</td>\n",
       "      <td>1.000000</td>\n",
       "      <td>1.400000</td>\n",
       "    </tr>\n",
       "    <tr>\n",
       "      <th>25%</th>\n",
       "      <td>0.200000</td>\n",
       "      <td>1.200000</td>\n",
       "      <td>1.800000</td>\n",
       "    </tr>\n",
       "    <tr>\n",
       "      <th>50%</th>\n",
       "      <td>0.200000</td>\n",
       "      <td>1.300000</td>\n",
       "      <td>2.000000</td>\n",
       "    </tr>\n",
       "    <tr>\n",
       "      <th>75%</th>\n",
       "      <td>0.300000</td>\n",
       "      <td>1.500000</td>\n",
       "      <td>2.300000</td>\n",
       "    </tr>\n",
       "    <tr>\n",
       "      <th>max</th>\n",
       "      <td>0.600000</td>\n",
       "      <td>1.800000</td>\n",
       "      <td>2.500000</td>\n",
       "    </tr>\n",
       "    <tr>\n",
       "      <th rowspan=\"8\" valign=\"top\">Sepal.Length</th>\n",
       "      <th>count</th>\n",
       "      <td>50.000000</td>\n",
       "      <td>50.000000</td>\n",
       "      <td>50.000000</td>\n",
       "    </tr>\n",
       "    <tr>\n",
       "      <th>mean</th>\n",
       "      <td>5.006000</td>\n",
       "      <td>5.936000</td>\n",
       "      <td>6.588000</td>\n",
       "    </tr>\n",
       "    <tr>\n",
       "      <th>std</th>\n",
       "      <td>0.352490</td>\n",
       "      <td>0.516171</td>\n",
       "      <td>0.635880</td>\n",
       "    </tr>\n",
       "    <tr>\n",
       "      <th>min</th>\n",
       "      <td>4.300000</td>\n",
       "      <td>4.900000</td>\n",
       "      <td>4.900000</td>\n",
       "    </tr>\n",
       "    <tr>\n",
       "      <th>25%</th>\n",
       "      <td>4.800000</td>\n",
       "      <td>5.600000</td>\n",
       "      <td>6.225000</td>\n",
       "    </tr>\n",
       "    <tr>\n",
       "      <th>50%</th>\n",
       "      <td>5.000000</td>\n",
       "      <td>5.900000</td>\n",
       "      <td>6.500000</td>\n",
       "    </tr>\n",
       "    <tr>\n",
       "      <th>75%</th>\n",
       "      <td>5.200000</td>\n",
       "      <td>6.300000</td>\n",
       "      <td>6.900000</td>\n",
       "    </tr>\n",
       "    <tr>\n",
       "      <th>max</th>\n",
       "      <td>5.800000</td>\n",
       "      <td>7.000000</td>\n",
       "      <td>7.900000</td>\n",
       "    </tr>\n",
       "    <tr>\n",
       "      <th rowspan=\"8\" valign=\"top\">Sepal.Width</th>\n",
       "      <th>count</th>\n",
       "      <td>50.000000</td>\n",
       "      <td>50.000000</td>\n",
       "      <td>50.000000</td>\n",
       "    </tr>\n",
       "    <tr>\n",
       "      <th>mean</th>\n",
       "      <td>3.428000</td>\n",
       "      <td>2.770000</td>\n",
       "      <td>2.974000</td>\n",
       "    </tr>\n",
       "    <tr>\n",
       "      <th>std</th>\n",
       "      <td>0.379064</td>\n",
       "      <td>0.313798</td>\n",
       "      <td>0.322497</td>\n",
       "    </tr>\n",
       "    <tr>\n",
       "      <th>min</th>\n",
       "      <td>2.300000</td>\n",
       "      <td>2.000000</td>\n",
       "      <td>2.200000</td>\n",
       "    </tr>\n",
       "    <tr>\n",
       "      <th>25%</th>\n",
       "      <td>3.200000</td>\n",
       "      <td>2.525000</td>\n",
       "      <td>2.800000</td>\n",
       "    </tr>\n",
       "    <tr>\n",
       "      <th>50%</th>\n",
       "      <td>3.400000</td>\n",
       "      <td>2.800000</td>\n",
       "      <td>3.000000</td>\n",
       "    </tr>\n",
       "    <tr>\n",
       "      <th>75%</th>\n",
       "      <td>3.675000</td>\n",
       "      <td>3.000000</td>\n",
       "      <td>3.175000</td>\n",
       "    </tr>\n",
       "    <tr>\n",
       "      <th>max</th>\n",
       "      <td>4.400000</td>\n",
       "      <td>3.400000</td>\n",
       "      <td>3.800000</td>\n",
       "    </tr>\n",
       "  </tbody>\n",
       "</table>\n",
       "</div>"
      ],
      "text/plain": [
       "Species                setosa  versicolor  virginica\n",
       "Petal.Length count  50.000000   50.000000  50.000000\n",
       "             mean    1.462000    4.260000   5.552000\n",
       "             std     0.173664    0.469911   0.551895\n",
       "             min     1.000000    3.000000   4.500000\n",
       "             25%     1.400000    4.000000   5.100000\n",
       "             50%     1.500000    4.350000   5.550000\n",
       "             75%     1.575000    4.600000   5.875000\n",
       "             max     1.900000    5.100000   6.900000\n",
       "Petal.Width  count  50.000000   50.000000  50.000000\n",
       "             mean    0.246000    1.326000   2.026000\n",
       "             std     0.105386    0.197753   0.274650\n",
       "             min     0.100000    1.000000   1.400000\n",
       "             25%     0.200000    1.200000   1.800000\n",
       "             50%     0.200000    1.300000   2.000000\n",
       "             75%     0.300000    1.500000   2.300000\n",
       "             max     0.600000    1.800000   2.500000\n",
       "Sepal.Length count  50.000000   50.000000  50.000000\n",
       "             mean    5.006000    5.936000   6.588000\n",
       "             std     0.352490    0.516171   0.635880\n",
       "             min     4.300000    4.900000   4.900000\n",
       "             25%     4.800000    5.600000   6.225000\n",
       "             50%     5.000000    5.900000   6.500000\n",
       "             75%     5.200000    6.300000   6.900000\n",
       "             max     5.800000    7.000000   7.900000\n",
       "Sepal.Width  count  50.000000   50.000000  50.000000\n",
       "             mean    3.428000    2.770000   2.974000\n",
       "             std     0.379064    0.313798   0.322497\n",
       "             min     2.300000    2.000000   2.200000\n",
       "             25%     3.200000    2.525000   2.800000\n",
       "             50%     3.400000    2.800000   3.000000\n",
       "             75%     3.675000    3.000000   3.175000\n",
       "             max     4.400000    3.400000   3.800000"
      ]
     },
     "execution_count": 116,
     "metadata": {},
     "output_type": "execute_result"
    }
   ],
   "source": [
    "# MC\n",
    "iris.groupby(\"Species\").describe().transpose()"
   ]
  },
  {
   "cell_type": "code",
   "execution_count": 118,
   "metadata": {},
   "outputs": [
    {
     "data": {
      "text/plain": [
       "array([[<matplotlib.axes._subplots.AxesSubplot object at 0x1a1f648828>,\n",
       "        <matplotlib.axes._subplots.AxesSubplot object at 0x1a1f8c7048>],\n",
       "       [<matplotlib.axes._subplots.AxesSubplot object at 0x1a1f8f3400>,\n",
       "        <matplotlib.axes._subplots.AxesSubplot object at 0x1a1f7397b8>]],\n",
       "      dtype=object)"
      ]
     },
     "execution_count": 118,
     "metadata": {},
     "output_type": "execute_result"
    },
    {
     "data": {
      "image/png": "[encoded data removed]",
      "text/plain": [
       "<Figure size 1080x1080 with 4 Axes>"
      ]
     },
     "metadata": {},
     "output_type": "display_data"
    }
   ],
   "source": [
    "# MC\n",
    "iris.boxplot(by='Species',figsize=(15, 15))"
   ]
  },
  {
   "cell_type": "code",
   "execution_count": null,
   "metadata": {},
   "outputs": [],
   "source": [
    "# Petal.Length ---> Petal.Width ,  Setal.Length , etc. (Categorical ---> Quantitative)\n",
    "\n",
    "# Pearson Correlation Coefficient\n",
    "# Scatter Plot"
   ]
  },
  {
   "cell_type": "code",
   "execution_count": null,
   "metadata": {},
   "outputs": [],
   "source": [
    "# MC\n",
    "sns.pairplot(iris)"
   ]
  },
  {
   "cell_type": "code",
   "execution_count": null,
   "metadata": {},
   "outputs": [],
   "source": [
    "# MC\n",
    "sns.pairplot(iris,hue=\"Species\")"
   ]
  },
  {
   "cell_type": "code",
   "execution_count": null,
   "metadata": {
    "slideshow": {
     "slide_type": "skip"
    }
   },
   "outputs": [],
   "source": [
    "# MC\n",
    "pair_iris = sns.pairplot(iris, kind = \"reg\", hue='Species')"
   ]
  }
 ],
 "metadata": {
  "kernelspec": {
   "display_name": "Python 3",
   "language": "python",
   "name": "python3"
  },
  "language_info": {
   "codemirror_mode": {
    "name": "ipython",
    "version": 3
   },
   "file_extension": ".py",
   "mimetype": "text/x-python",
   "name": "python",
   "nbconvert_exporter": "python",
   "pygments_lexer": "ipython3",
   "version": "3.6.7"
  }
 },
 "nbformat": 4,
 "nbformat_minor": 2
}
