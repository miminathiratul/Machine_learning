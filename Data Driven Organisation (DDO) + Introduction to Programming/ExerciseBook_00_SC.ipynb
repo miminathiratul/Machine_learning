{
 "cells": [
  {
   "cell_type": "markdown",
   "metadata": {},
   "source": [
    "### 1-Write a Python program that inputs a series of 10 positive numbers and displays maximum and minimum values.\n",
    "#### For example, the output looks like this:\n",
    "```\n",
    "Enter 1st number:5\n",
    "Enter 2nd number:13\n",
    "Enter 3rd number:9\n",
    "Enter 4th number:10\n",
    "Enter 5th number:15\n",
    "Maximum=15 and Minimum=5.\n",
    "```"
   ]
  },
  {
   "cell_type": "code",
   "execution_count": 1,
   "metadata": {},
   "outputs": [],
   "source": [
    "import sys\n",
    "minValue=sys.maxsize\n",
    "maxValue=0"
   ]
  },
  {
   "cell_type": "markdown",
   "metadata": {},
   "source": [
    "### 2- write a program to print out a 10x10 multiplication table."
   ]
  },
  {
   "cell_type": "code",
   "execution_count": null,
   "metadata": {},
   "outputs": [],
   "source": []
  },
  {
   "cell_type": "markdown",
   "metadata": {},
   "source": [
    "### 3- Write a program to display this output on the screen:\n",
    "```\n",
    "1 \n",
    "1 2 \n",
    "1 2 3 \n",
    "1 2 3 4 \n",
    "1 2 3 4 5 \n",
    "1 2 3 4 5 6 \n",
    "1 2 3 4 5 6 7 \n",
    "1 2 3 4 5 6 7 8 \n",
    "1 2 3 4 5 6 7 8 9 \n",
    "```"
   ]
  },
  {
   "cell_type": "code",
   "execution_count": null,
   "metadata": {},
   "outputs": [],
   "source": []
  },
  {
   "cell_type": "markdown",
   "metadata": {},
   "source": [
    "### 4- Write a program to display this output on the screen:\n",
    "```\n",
    "9 8 7 6 5 4 3 2 1 \n",
    "8 7 6 5 4 3 2 1 \n",
    "7 6 5 4 3 2 1 \n",
    "6 5 4 3 2 1 \n",
    "5 4 3 2 1 \n",
    "4 3 2 1 \n",
    "3 2 1 \n",
    "2 1 \n",
    "1  \n",
    "```"
   ]
  },
  {
   "cell_type": "code",
   "execution_count": null,
   "metadata": {},
   "outputs": [],
   "source": []
  },
  {
   "cell_type": "markdown",
   "metadata": {},
   "source": [
    "### 5- Write a program to display this output on the screen:\n",
    "```\n",
    "9 \n",
    "9 8 \n",
    "9 8 7 \n",
    "9 8 7 6 \n",
    "9 8 7 6 5 \n",
    "9 8 7 6 5 4 \n",
    "9 8 7 6 5 4 3 \n",
    "9 8 7 6 5 4 3 2 \n",
    "9 8 7 6 5 4 3 2 1\n",
    "```"
   ]
  },
  {
   "cell_type": "code",
   "execution_count": null,
   "metadata": {},
   "outputs": [],
   "source": []
  }
 ],
 "metadata": {
  "kernelspec": {
   "display_name": "Python 3",
   "language": "python",
   "name": "python3"
  },
  "language_info": {
   "codemirror_mode": {
    "name": "ipython",
    "version": 3
   },
   "file_extension": ".py",
   "mimetype": "text/x-python",
   "name": "python",
   "nbconvert_exporter": "python",
   "pygments_lexer": "ipython3",
   "version": "3.6.8"
  }
 },
 "nbformat": 4,
 "nbformat_minor": 2
}
