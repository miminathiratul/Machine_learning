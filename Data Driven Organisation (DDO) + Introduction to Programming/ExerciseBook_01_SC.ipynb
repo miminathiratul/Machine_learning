{
 "cells": [
  {
   "cell_type": "markdown",
   "metadata": {},
   "source": [
    "# Python Exercise Book 01"
   ]
  },
  {
   "cell_type": "markdown",
   "metadata": {},
   "source": [
    "The exercises in this notebook are provided to help you develop your analysis skills by\n",
    "giving you the opportunity to practice breaking small problems down into\n",
    "sequences of steps. Also, completing these exercises will help you become\n",
    "familiar with Python’s syntax."
   ]
  },
  {
   "cell_type": "markdown",
   "metadata": {},
   "source": [
    "### 1- Area of a Room in Square Meters"
   ]
  },
  {
   "cell_type": "markdown",
   "metadata": {},
   "source": [
    "### 2- Area of a Field in Acre"
   ]
  },
  {
   "cell_type": "markdown",
   "metadata": {},
   "source": [
    "### 3- Tax and Tip"
   ]
  },
  {
   "cell_type": "markdown",
   "metadata": {},
   "source": [
    "### 4- Sum of the First n Positive Integers"
   ]
  },
  {
   "cell_type": "markdown",
   "metadata": {},
   "source": [
    "### 5- What Color is that Square?"
   ]
  },
  {
   "cell_type": "markdown",
   "metadata": {},
   "source": [
    "### 6- Average"
   ]
  },
  {
   "cell_type": "markdown",
   "metadata": {},
   "source": [
    "### 7- Write a Python program to calculate the below series:\n",
    "\n",
    "$$\n",
    "S = \\frac{1}{2^0}+\\frac{1}{2^1}+\\frac{1}{2^2}+\\dotsm+\\frac{1}{2^n}\n",
    "$$\n"
   ]
  },
  {
   "cell_type": "markdown",
   "metadata": {},
   "source": [
    "### 8- Write a Python program to calculate the below series:\n",
    "\n",
    "$$\n",
    "S = \\frac{1}{2^0}-\\frac{1}{2^1}+\\frac{1}{2^2}-\\dotsm\\pm\\frac{1}{2^n}\n",
    "$$"
   ]
  },
  {
   "cell_type": "markdown",
   "metadata": {},
   "source": [
    "### 9- Write a program to find factorial of a number:\n",
    "The factorial of a positive integer n is equal to:\n",
    "$$ \n",
    "n!=1\\times 2 \\times 3 \\times 4\\dotsm \\times n.\n",
    "$$\n",
    "Hint: The factorial of a negative number doesn't exist. And, the factorial of 0 is 1, 0! = 1"
   ]
  },
  {
   "cell_type": "markdown",
   "metadata": {},
   "source": [
    "### 10- Write a program to generate the Fibonacci series less than a given number N.\n",
    "\n",
    "The Fibonacci numbers are the numbers in the following integer sequence.\n",
    "$$\n",
    "0, 1, 1, 2, 3, 5, 8, 13, 21, 34, 55, 89, 144,\\dotsm\n",
    "$$\n"
   ]
  }
 ],
 "metadata": {
  "kernelspec": {
   "display_name": "Python 3",
   "language": "python",
   "name": "python3"
  },
  "language_info": {
   "codemirror_mode": {
    "name": "ipython",
    "version": 3
   },
   "file_extension": ".py",
   "mimetype": "text/x-python",
   "name": "python",
   "nbconvert_exporter": "python",
   "pygments_lexer": "ipython3",
   "version": "3.6.8"
  }
 },
 "nbformat": 4,
 "nbformat_minor": 2
}
