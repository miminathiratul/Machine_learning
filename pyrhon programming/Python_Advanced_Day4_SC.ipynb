{
 "cells": [
  {
   "cell_type": "markdown",
   "metadata": {},
   "source": [
    "<img src=\"images/cads-logo.png\" width=200 align=left>\n",
    "<img src=\"images/python-logo.png\" width=200 align=right>"
   ]
  },
  {
   "cell_type": "code",
   "execution_count": null,
   "metadata": {},
   "outputs": [],
   "source": [
    "import numpy as np\n",
    "import matplotlib.pyplot as plt\n",
    "%matplotlib inline\n",
    "%config InlineBackend.figure_format = 'svg' # plot are sharper in svg"
   ]
  },
  {
   "cell_type": "markdown",
   "metadata": {},
   "source": [
    "# NumPy\n",
    "- [Introduction to NumPy](#Introduction-to-NumPy)\n",
    "- [Creating Arrays](#Creating-Arrays)\n",
    "    - [Nested Lists](#Nested-Lists)\n",
    "    - [Array-Generating Functions](#Array-Generating-Functions)\n",
    "        - [Empty Arrays](#Empty-Arrays)\n",
    "        - [Ranges](#Ranges)\n",
    "        - [Random Data](#Random-Data)\n",
    "        - [Matrix Creation](#Matrix-Creation)\n",
    "        - [Data Types](#Data-Types)\n",
    "        - [Shapes](#Shapes)\n",
    "    - [Exercises](#Exercises)\n",
    "        - [Exercise 1](#Exercise-1)\n",
    "        - [Exercise 2](#Exercise-2)\n",
    "        - [Exercise 3](#Exercise-3)\n",
    "        - [Exercise 4](#Exercise-4)\n",
    "        - [Exercise 5](#Exercise-5)\n",
    "- [Manipulating arrays](#Manipulating-arrays)\n",
    "    - [Indexing](#Indexing)\n",
    "    - [Slicing](#Slicing)\n",
    "    - [Fancy Indexing](#Fancy-Indexing)\n",
    "    - [Assigning Values to Subarrays](#Assigning-Values-to-Subarrays)\n",
    "    - [Exercises](#Exercises)\n",
    "        - [Exercise 1](#Exercise-1)\n",
    "        - [Exercise 2](#Exercise-2)\n",
    "        - [Exercise 3](#Exercise-3)\n",
    "        - [Exercise 4](#Exercise-4)\n",
    "- [Array Operations](#Array-Operations)\n",
    "    - [Logical Operations](#Logical-Operations)\n",
    "    - [Arithmetic](#Arithmetic)\n",
    "    - [Aggregative Functions](#Aggregative-Functions)\n",
    "    - [Vectorization](#Vectorization)\n",
    "    - [Exercises](#Exercises)\n",
    "        - [Exercise 1](#Exercise-1)\n",
    "        - [Exercise 2](#Exercise-2)\n",
    "        - [Exercise 3](#Exercise-3)\n",
    "        - [Exercise 4](#Exercise-4)\n",
    "- [Advanced Manipulation](#Advanced-Manipulation)\n",
    "    - [Reshaping and Transposing](#Reshaping-and-Transposing)\n",
    "    - [Exercises](#Exercises)\n",
    "        - [Exercise 1](#Exercise-1)\n",
    "        - [Exercise 2](#Exercise-2)\n",
    "- [Additional Resources:](#Additional-Resources:)\n"
   ]
  },
  {
   "cell_type": "markdown",
   "metadata": {},
   "source": [
    "## Introduction to NumPy\n",
    "\n",
    "Datasets can include collections of documents, images, sound clips, numerical measurements, or, really anything. Despite the heterogeneity, it will help us to think of all data fundamentally as arrays of numbers.\n",
    "\n",
    "| Data type\t    | Arrays of Numbers? |\n",
    "|---------------|-------------|\n",
    "|Images | Pixel brightness across different channels|\n",
    "|Videos | Pixels brightness across different channels for each frame | \n",
    "|Sound | Intensity over time |\n",
    "|Numbers | No need for transformation | \n",
    "|Tables | Mapping from strings to numbers |\n",
    "\n",
    "\n",
    "Therefore, the efficient storage and manipulation of large arrays of numbers is fundamental to the process of doing data science. NumPy is a library specially designed to handle arrays of numerical data.\n",
    "\n",
    "[NumPy](http://www.numpy.org/) is short for _numerical python_, and provides functions that are especially useful when you have to work with large arrays and matrices of numeric data, like matrix multiplications.  \n",
    "\n",
    "The array object class is the foundation of NumPy, and NumPy arrays are much like nested lists in base Python. However, NumPy supports _vectorization_. This means that many operations in NumPy are written and compiled in C code rather than Python, making it much faster as we will see."
   ]
  },
  {
   "cell_type": "markdown",
   "metadata": {},
   "source": [
    "## Creating Arrays"
   ]
  },
  {
   "cell_type": "markdown",
   "metadata": {},
   "source": [
    "### Nested Lists"
   ]
  },
  {
   "cell_type": "markdown",
   "metadata": {},
   "source": [
    "Arrays can be created from nested lists. The nesting determines the dimensions of the resulting array."
   ]
  },
  {
   "cell_type": "code",
   "execution_count": null,
   "metadata": {},
   "outputs": [],
   "source": [
    "# Create array from lists:\n",
    "lis = [[1,2,3,4,5],[6,7,8,9,10]]\n",
    "ary = np.array(lis)\n",
    "ary"
   ]
  },
  {
   "cell_type": "markdown",
   "metadata": {},
   "source": [
    "Note that dimensions must be consistent. If nested lists do not have the same lengths, NumPy will create a 1-D array in which the elements are the sublists."
   ]
  },
  {
   "cell_type": "code",
   "execution_count": null,
   "metadata": {},
   "outputs": [],
   "source": [
    "np.array([[1,2,3,4,5],[6,7,8,9]])"
   ]
  },
  {
   "cell_type": "markdown",
   "metadata": {},
   "source": [
    "The most important attributes of an array are its shape, the number of dimensions and data type."
   ]
  },
  {
   "cell_type": "code",
   "execution_count": null,
   "metadata": {},
   "outputs": [],
   "source": [
    "ary.shape"
   ]
  },
  {
   "cell_type": "code",
   "execution_count": null,
   "metadata": {},
   "outputs": [],
   "source": [
    "ary.ndim"
   ]
  },
  {
   "cell_type": "code",
   "execution_count": null,
   "metadata": {},
   "outputs": [],
   "source": [
    "ary.dtype"
   ]
  },
  {
   "cell_type": "markdown",
   "metadata": {},
   "source": [
    "### Array-Generating Functions\n",
    "For larger arrays it is inpractical to initialize the data manually. Instead we can use one of the many functions in numpy that generate arrays of different forms. Some of the more common are:"
   ]
  },
  {
   "cell_type": "markdown",
   "metadata": {},
   "source": [
    "#### Empty Arrays\n",
    "When the intended shape of an array is known in advance but its values are not, we can use various functions to generate empty arrays."
   ]
  },
  {
   "cell_type": "code",
   "execution_count": null,
   "metadata": {},
   "outputs": [],
   "source": [
    "np.zeros((2, 3))"
   ]
  },
  {
   "cell_type": "code",
   "execution_count": null,
   "metadata": {},
   "outputs": [],
   "source": [
    "np.ones((3, 4), dtype=np.int8)"
   ]
  },
  {
   "cell_type": "code",
   "execution_count": null,
   "metadata": {},
   "outputs": [],
   "source": [
    "np.full((3, 5), 3.14)"
   ]
  },
  {
   "cell_type": "markdown",
   "metadata": {},
   "source": [
    "A special case is the function `np.empty`, which does not initialize any values. It will reserve memory for the array but use whatever values are already stored there without reseting them. This can be a useful optimization for speed when creating extremely large arrays."
   ]
  },
  {
   "cell_type": "code",
   "execution_count": null,
   "metadata": {},
   "outputs": [],
   "source": [
    "print(np.empty((2, 3)))\n",
    "print(np.empty((7, 10)))"
   ]
  },
  {
   "cell_type": "markdown",
   "metadata": {},
   "source": [
    "#### Ranges\n",
    "Numpy also has a number of functions to support creating number ranges, such as:"
   ]
  },
  {
   "cell_type": "code",
   "execution_count": null,
   "metadata": {},
   "outputs": [],
   "source": [
    "# Define endpoints and step size\n",
    "np.arange(start=0, stop=10, step=1)"
   ]
  },
  {
   "cell_type": "code",
   "execution_count": null,
   "metadata": {},
   "outputs": [],
   "source": [
    "np.arange(start=6, stop=15, step=2)"
   ]
  },
  {
   "cell_type": "code",
   "execution_count": null,
   "metadata": {},
   "outputs": [],
   "source": [
    "# 'step' defaults to 1 and 'start' defaults to 0\n",
    "np.arange(8)"
   ]
  },
  {
   "cell_type": "code",
   "execution_count": null,
   "metadata": {},
   "outputs": [],
   "source": [
    "# get numbers in linear space\n",
    "# Define endpoints and the number of elements\n",
    "np.linspace(start=1, stop=10, num=15)"
   ]
  },
  {
   "cell_type": "code",
   "execution_count": null,
   "metadata": {},
   "outputs": [],
   "source": [
    "# Includes the endpoint by default (non-standard Python behavior!)\n",
    "np.linspace(start=1, stop=10, num=15, endpoint=False)"
   ]
  },
  {
   "cell_type": "markdown",
   "metadata": {},
   "source": [
    "#### Random Data\n",
    "Arrays can also be initialized with random values. NumPy supports many different probability distributions."
   ]
  },
  {
   "cell_type": "code",
   "execution_count": null,
   "metadata": {},
   "outputs": [],
   "source": [
    "# Uniform distribution, i.e. all values equally likely, \n",
    "# between low (inclusive) and high (exclusive)\n",
    "np.random.uniform(low=0, high=1, size=(3, 3))"
   ]
  },
  {
   "cell_type": "code",
   "execution_count": null,
   "metadata": {},
   "outputs": [],
   "source": [
    "plt.hist(np.random.uniform(low=0, high=1, size=10000));"
   ]
  },
  {
   "cell_type": "code",
   "execution_count": null,
   "metadata": {},
   "outputs": [],
   "source": [
    "# Alias for np.random.uniform(low=0, high=1, ...)\n",
    "np.random.random(size=(5, 5))"
   ]
  },
  {
   "cell_type": "code",
   "execution_count": null,
   "metadata": {},
   "outputs": [],
   "source": [
    "# Normal (Gaussian) distribution centered around 'loc' (mean)\n",
    "# with a standard deviation of 'scale'\n",
    "np.random.normal(loc=5, scale=2, size=(3, 3))"
   ]
  },
  {
   "cell_type": "code",
   "execution_count": null,
   "metadata": {},
   "outputs": [],
   "source": [
    "plt.hist(np.random.normal(loc=5, scale=2, size=10000));"
   ]
  },
  {
   "cell_type": "code",
   "execution_count": null,
   "metadata": {},
   "outputs": [],
   "source": [
    "# Beta distribution\n",
    "np.random.beta(a=5, b=2, size=(5, 3))"
   ]
  },
  {
   "cell_type": "code",
   "execution_count": null,
   "metadata": {},
   "outputs": [],
   "source": [
    "plt.hist(np.random.beta(a=5, b=2, size=1000))"
   ]
  },
  {
   "cell_type": "markdown",
   "metadata": {},
   "source": [
    "Beyond distributions of uniformly distributed floating point values, NumPy also lets us generate random integers."
   ]
  },
  {
   "cell_type": "code",
   "execution_count": null,
   "metadata": {},
   "outputs": [],
   "source": [
    "np.random.randint(low=1, high=100, size=(4, 4))"
   ]
  },
  {
   "cell_type": "code",
   "execution_count": null,
   "metadata": {},
   "outputs": [],
   "source": [
    "plt.hist(np.random.randint(low=1, high=100, size=10000));"
   ]
  },
  {
   "cell_type": "markdown",
   "metadata": {},
   "source": [
    "#### Matrix Creation\n",
    "Due to their ubiquity, NumPy also has several generating functions for 2-D arrays (matrices)"
   ]
  },
  {
   "cell_type": "code",
   "execution_count": null,
   "metadata": {},
   "outputs": [],
   "source": [
    "# Create an NxM identity matrix with 1 along the diagonal and 0 elsewhere\n",
    "np.eye(N=3, M=5)"
   ]
  },
  {
   "cell_type": "code",
   "execution_count": null,
   "metadata": {},
   "outputs": [],
   "source": [
    "# Offset the diagonal\n",
    "np.eye(N=4, M=4, k=1)"
   ]
  },
  {
   "cell_type": "code",
   "execution_count": null,
   "metadata": {},
   "outputs": [],
   "source": [
    "# a diagonal matrix with custom diagonal values\n",
    "np.diag([1,2,3])"
   ]
  },
  {
   "cell_type": "code",
   "execution_count": null,
   "metadata": {},
   "outputs": [],
   "source": [
    "# put the values on the offset diagonal of degree k\n",
    "# NumPy automatically generates a matrix of the necessary size\n",
    "np.diag([1,2,3], k=2)"
   ]
  },
  {
   "cell_type": "code",
   "execution_count": null,
   "metadata": {},
   "outputs": [],
   "source": [
    "# A matrix with 1's on the diagonal and all lower offset diagonals\n",
    "# Can also be offset with argument k=...\n",
    "np.tri(N=5, M=4)"
   ]
  },
  {
   "cell_type": "markdown",
   "metadata": {},
   "source": [
    "#### Data Types\n",
    "Most, if not all, of these functions allow us to determine the data type with the `dtype` function argument, e.g."
   ]
  },
  {
   "cell_type": "code",
   "execution_count": null,
   "metadata": {},
   "outputs": [],
   "source": [
    "np.zeros((2, 3), dtype=np.int32)"
   ]
  },
  {
   "cell_type": "markdown",
   "metadata": {},
   "source": [
    "Some of the most common supported data types are\n",
    "\n",
    "| Data Type | Description |\n",
    "| --------- | ----------- |\n",
    "| `np.bool_` or `np.bool` | Boolean (True or False) stored as a byte\n",
    "| `np.int8` | \tByte (-128 to 127)\n",
    "| `np.int16` | \tInteger (-32768 to 32767)\n",
    "| `np.int32` | \tInteger (-2147483648 to 2147483647)\n",
    "| `np.int64` | \tInteger (-9223372036854775808 to 9223372036854775807)\n",
    "| `np.int_` or `np.int` | Default integer type (normally either int64 or int32)\n",
    "| `np.uint8` | \tUnsigned integer (0 to 255)\n",
    "| `np.uint16` | Unsigned integer (0 to 65535)\n",
    "| `np.uint32` | Unsigned integer (0 to 4294967295)\n",
    "| `np.uint64` | Unsigned integer (0 to 18446744073709551615)\n",
    "| `np.float16` | Half precision float: sign bit, 5 bits exponent, 10 bits mantissa\n",
    "| `np.float32` | Single precision float: sign bit, 8 bits exponent, 23 bits mantissa\n",
    "| `np.float64` | Double precision float: sign bit, 11 bits exponent, 52 bits mantissa\n",
    "| `np.float_` or `np.float` | Default float type (normally either float64 or float32)"
   ]
  },
  {
   "cell_type": "markdown",
   "metadata": {},
   "source": [
    "#### Shapes\n",
    "Until now, we've always created 1-D or 2-D arrays but NumPy is in no way limited to this. Any time a shape or size parameter is used in a function, we can create an array with as many dimensions as we like, e.g."
   ]
  },
  {
   "cell_type": "code",
   "execution_count": null,
   "metadata": {},
   "outputs": [],
   "source": [
    "# Three 4x5 arrays stacked into a 3-D cube\n",
    "np.random.randint(low=1, high=10, size=(3, 4, 5))"
   ]
  },
  {
   "cell_type": "code",
   "execution_count": null,
   "metadata": {},
   "outputs": [],
   "source": [
    "# Two sets of three 4x5 arrays stacked into 3-D cubes. \n",
    "np.random.randint(low=1, high=10, size=(2, 3, 4, 5))"
   ]
  },
  {
   "cell_type": "markdown",
   "metadata": {},
   "source": [
    "### Exercises"
   ]
  },
  {
   "cell_type": "markdown",
   "metadata": {},
   "source": [
    "#### Exercise 1\n",
    "Create a new 2x2 array without initializing entries."
   ]
  },
  {
   "cell_type": "code",
   "execution_count": null,
   "metadata": {},
   "outputs": [],
   "source": [
    "### your code here"
   ]
  },
  {
   "cell_type": "code",
   "execution_count": null,
   "metadata": {},
   "outputs": [],
   "source": []
  },
  {
   "cell_type": "markdown",
   "metadata": {},
   "source": [
    "#### Exercise 2\n",
    "Create a new 3x2x4 array of ones and make sure they're floating point numbers."
   ]
  },
  {
   "cell_type": "code",
   "execution_count": null,
   "metadata": {},
   "outputs": [],
   "source": [
    "### your code here"
   ]
  },
  {
   "cell_type": "code",
   "execution_count": null,
   "metadata": {},
   "outputs": [],
   "source": []
  },
  {
   "cell_type": "markdown",
   "metadata": {},
   "source": [
    "#### Exercise 3\n",
    "Create a 1-D array of 20 evenly spaced elements between 3. (inclusive) and 10. (exclusive)."
   ]
  },
  {
   "cell_type": "code",
   "execution_count": null,
   "metadata": {},
   "outputs": [],
   "source": [
    "### your code here"
   ]
  },
  {
   "cell_type": "code",
   "execution_count": null,
   "metadata": {},
   "outputs": [],
   "source": []
  },
  {
   "cell_type": "markdown",
   "metadata": {},
   "source": [
    "#### Exercise 4\n",
    "Create a matrix with the values (2, 4, 9) on the third offset diagonal and 0 everywhere else."
   ]
  },
  {
   "cell_type": "code",
   "execution_count": null,
   "metadata": {},
   "outputs": [],
   "source": [
    "### your code here"
   ]
  },
  {
   "cell_type": "code",
   "execution_count": null,
   "metadata": {},
   "outputs": [],
   "source": []
  },
  {
   "cell_type": "markdown",
   "metadata": {},
   "source": [
    "#### Exercise 5\n",
    "You want to simulate a coin toss with a binomial distribution (`np.random.binomial`). If this is a fair coin, then the probability of getting heads is `p=0.5`. If you toss the coin `n=100` times, how often does your simulation toss heads?"
   ]
  },
  {
   "cell_type": "code",
   "execution_count": null,
   "metadata": {},
   "outputs": [],
   "source": [
    "### your code here"
   ]
  },
  {
   "cell_type": "markdown",
   "metadata": {},
   "source": [
    "## Manipulating arrays"
   ]
  },
  {
   "cell_type": "markdown",
   "metadata": {},
   "source": [
    "### Indexing\n",
    "We can index elements in an array using square brackets and indices:"
   ]
  },
  {
   "cell_type": "code",
   "execution_count": null,
   "metadata": {},
   "outputs": [],
   "source": [
    "# a vector: the argument to the array function is a Python list\n",
    "v = np.array([1,2,3,4])\n",
    "print(v)\n",
    "print(v[0])"
   ]
  },
  {
   "cell_type": "code",
   "execution_count": null,
   "metadata": {},
   "outputs": [],
   "source": [
    "M = np.random.randint(low=1, high=10, size=[3,3])\n",
    "print(M)\n",
    "# M is a matrix, or a 2 dimensional array, taking two indices \n",
    "print(M[1,1])"
   ]
  },
  {
   "cell_type": "code",
   "execution_count": null,
   "metadata": {},
   "outputs": [],
   "source": [
    "M = np.random.randint(low=1, high=10, size=[2,3,3])\n",
    "print(M)\n",
    "print(M[0, 2, 1])"
   ]
  },
  {
   "cell_type": "markdown",
   "metadata": {},
   "source": [
    "### Slicing\n",
    "Just as we can use square brackets to access individual array elements, we can also use them to access subarrays with the *slice* notation, marked by the colon (``:``) character.\n",
    "The NumPy slicing syntax follows that of the standard Python list; to access a slice of an array ``x``, use this:\n",
    "``` python\n",
    "x[start:stop:step]\n",
    "```\n",
    "\n",
    "Slicing follows the typical Python convention of excluding the stop-index. If any of these are unspecified, they default to the values ``start=0``, ``stop=<size_of_dimension>``, ``step=1``. "
   ]
  },
  {
   "cell_type": "code",
   "execution_count": null,
   "metadata": {},
   "outputs": [],
   "source": [
    "v = np.arange(10)\n",
    "print(v)\n",
    "print(v[3:7])\n",
    "print(v[5:])\n",
    "print(v[:6])\n",
    "print(v[1:10:3])\n",
    "print(v[::2])"
   ]
  },
  {
   "cell_type": "markdown",
   "metadata": {},
   "source": [
    "The second `:` is not unnecessary if no step is specified, i.e. `v[:]` is equivalent to `v[::]`"
   ]
  },
  {
   "cell_type": "code",
   "execution_count": null,
   "metadata": {},
   "outputs": [],
   "source": [
    "print(v[:])\n",
    "print(v[::])"
   ]
  },
  {
   "cell_type": "markdown",
   "metadata": {},
   "source": [
    "Like before, we can index multidimensional arrays by using slices for each dimension."
   ]
  },
  {
   "cell_type": "code",
   "execution_count": null,
   "metadata": {},
   "outputs": [],
   "source": [
    "M = np.random.randint(low=1, high=10, size=(5, 5))\n",
    "print(M)\n",
    "print()\n",
    "print(M[0:2, 3:5])\n",
    "print()\n",
    "print(M[::2, 0:2])"
   ]
  },
  {
   "cell_type": "markdown",
   "metadata": {},
   "source": [
    "If we omit an index of a multidimensional array, it assumes all of the following dimensions should be indexed fully. For example, indexing a 2-D matrix with only one index slice will return all columns of the specified rows."
   ]
  },
  {
   "cell_type": "code",
   "execution_count": null,
   "metadata": {},
   "outputs": [],
   "source": [
    "print(M[3])\n",
    "print(M[3, :])"
   ]
  },
  {
   "cell_type": "markdown",
   "metadata": {},
   "source": [
    "Note that this can get confusing as there is no way to reverse this, e.g. extracting all rows for specified columns must be done with a colon `:`."
   ]
  },
  {
   "cell_type": "code",
   "execution_count": null,
   "metadata": {},
   "outputs": [],
   "source": [
    "print(M[:, 4])"
   ]
  },
  {
   "cell_type": "markdown",
   "metadata": {},
   "source": [
    "It is clearer to indicate the slices for all dimensions. If you are ever in a situation in which you are unsure of how many dimensions your array may have at runtime, you can use the ellipses `...` to indicate \"Select all entries along all missing dimensions"
   ]
  },
  {
   "cell_type": "code",
   "execution_count": null,
   "metadata": {},
   "outputs": [],
   "source": [
    "M = np.random.randint(low=1, high=10, size=(3, 5, 5))\n",
    "print(M)\n",
    "print()\n",
    "# Print all rows and all columns of the second 2-D matrix in the 3-D stack\n",
    "print(\"All rows and all columns of the second 2-D matrix in the 3-D stack\")\n",
    "print(M[1, ...])\n",
    "print()\n",
    "# Print all rows of the third column of the first matrix\n",
    "print(\"All rows of the third column of the first matrix\")\n",
    "print(M[0, ..., 2])"
   ]
  },
  {
   "cell_type": "markdown",
   "metadata": {},
   "source": [
    "### Fancy Indexing\n",
    "NumPy permits several fancy indexing options. First, we can combine slices with indices or lists of indices."
   ]
  },
  {
   "cell_type": "code",
   "execution_count": null,
   "metadata": {},
   "outputs": [],
   "source": [
    "M = np.random.randint(low=1, high=10, size=(5, 5))\n",
    "print(M)\n",
    "print()\n",
    "print(M[2, 3:5])\n",
    "print()\n",
    "# Notice the preservation of dimensionality\n",
    "print(M[3:5, [2, 4]])"
   ]
  },
  {
   "cell_type": "markdown",
   "metadata": {},
   "source": [
    "We can also use multiple sets of indices to extract multiple values. For example, `M[[x1, x2], [y1, y2]]` will extract the values at coordinates (x1, y1) and (x2, y2) of the matrix M."
   ]
  },
  {
   "cell_type": "code",
   "execution_count": null,
   "metadata": {},
   "outputs": [],
   "source": [
    "print(M[[1, 2], [3, 4]])"
   ]
  },
  {
   "cell_type": "markdown",
   "metadata": {},
   "source": [
    "Note that we cannot use this method to extract entire rows and columns simultaneously. If we want, for example, columns 1 and 4 of rows 1 and 2 we need to index the matrix with multiple square bracket sets."
   ]
  },
  {
   "cell_type": "code",
   "execution_count": null,
   "metadata": {},
   "outputs": [],
   "source": [
    "print(M[[1, 2], :][:, [1, 4]])"
   ]
  },
  {
   "cell_type": "markdown",
   "metadata": {},
   "source": [
    "Lastly, we can use boolean masks to select specific values. Masks must have the same shape as the array itself. Note that NumPy will automatically convert base Python into NumPy arrays. That means that a mask can be anything that can be converted into an array, e.g. a (nested) list."
   ]
  },
  {
   "cell_type": "code",
   "execution_count": null,
   "metadata": {},
   "outputs": [],
   "source": [
    "v = np.linspace(start=1, stop=10, num=4, endpoint=True)\n",
    "print(v)\n",
    "print()\n",
    "print(v[[True, False, True, True]])"
   ]
  },
  {
   "cell_type": "markdown",
   "metadata": {},
   "source": [
    "Indexing with boolean masks will always flatten arrays, i.e. all shape information will be lost."
   ]
  },
  {
   "cell_type": "code",
   "execution_count": null,
   "metadata": {},
   "outputs": [],
   "source": [
    "mask = np.array([\n",
    "    [False, False, False, False, False], \n",
    "    [False, False, False, False, False], \n",
    "    [True,  False, True, False, False], \n",
    "    [True,  True,  False, False, False], \n",
    "    [False, False, False, False, False]])\n",
    "print(M)\n",
    "print()\n",
    "print(M[mask])"
   ]
  },
  {
   "cell_type": "markdown",
   "metadata": {},
   "source": [
    "We can negate boolean NumPy arrays with `~`"
   ]
  },
  {
   "cell_type": "code",
   "execution_count": null,
   "metadata": {},
   "outputs": [],
   "source": [
    "v = np.arange(5)\n",
    "mask = np.array([True, True, False, False, False])\n",
    "print(v[mask])\n",
    "print(v[~mask])"
   ]
  },
  {
   "cell_type": "markdown",
   "metadata": {},
   "source": [
    "### Assigning Values to Subarrays\n",
    "\n",
    "We can assign new values to elements in an array using any of the indexing methods shown above."
   ]
  },
  {
   "cell_type": "code",
   "execution_count": null,
   "metadata": {},
   "outputs": [],
   "source": [
    "M = np.zeros((5, 5), dtype=np.int)\n",
    "M[0,0] = 1\n",
    "print(M)"
   ]
  },
  {
   "cell_type": "code",
   "execution_count": null,
   "metadata": {},
   "outputs": [],
   "source": [
    "# also works for rows and columns\n",
    "M[1,:] = 2\n",
    "M[:,2] = 3\n",
    "print(M)"
   ]
  },
  {
   "cell_type": "code",
   "execution_count": null,
   "metadata": {},
   "outputs": [],
   "source": [
    "# simultaneous assignment of subarray\n",
    "M[3:5, 2:5] = 4\n",
    "print(M)"
   ]
  },
  {
   "cell_type": "markdown",
   "metadata": {},
   "source": [
    "Even though boolean masks flatten outputs when used for selection, they can be used to assign values while retaining the shape."
   ]
  },
  {
   "cell_type": "code",
   "execution_count": null,
   "metadata": {},
   "outputs": [],
   "source": [
    "mask = np.array([\n",
    "    [False, False, False, False, False], \n",
    "    [False, False, False, False, False], \n",
    "    [True,  False, True,  False, False], \n",
    "    [True,  True,  False, False, False], \n",
    "    [False, False, False, False, False]])\n",
    "M[mask] = 5\n",
    "print(M)"
   ]
  },
  {
   "cell_type": "markdown",
   "metadata": {},
   "source": [
    "Assigned values are broadcast to the necessary shape as per the broadcasting rules above. This means that for assignment with indices/slices, they are broadcast to the subarray shape"
   ]
  },
  {
   "cell_type": "code",
   "execution_count": null,
   "metadata": {},
   "outputs": [],
   "source": [
    "M[0:2, 3:5] = np.array([[-1, -2], [-3, -4]])\n",
    "print(M)"
   ]
  },
  {
   "cell_type": "markdown",
   "metadata": {},
   "source": [
    "For boolean masks, the values must be either a scalar value, i.e. a 0-D array, or a 1-D array. Note that after assignment, the original shape of the array is retained."
   ]
  },
  {
   "cell_type": "code",
   "execution_count": null,
   "metadata": {},
   "outputs": [],
   "source": [
    "mask = np.array([\n",
    "    [True,  False, True,  False, True ], \n",
    "    [False, True,  False, True,  False], \n",
    "    [False, False, False, False, False], \n",
    "    [False, False, False, False, False], \n",
    "    [False, False, False, False, False]])\n",
    "M[mask] = [10, 11, 12, 13, 14]\n",
    "print(M)"
   ]
  },
  {
   "cell_type": "markdown",
   "metadata": {},
   "source": [
    "We can extract the indices of a boolean mask with `np.where(...)`. This will return a tuple of arrays indicating the coordinates where the mask evaluates to `True`."
   ]
  },
  {
   "cell_type": "code",
   "execution_count": null,
   "metadata": {},
   "outputs": [],
   "source": [
    "mask = np.array([\n",
    "    [True,  False, True,  False, True ], \n",
    "    [False, True,  False, True,  False], \n",
    "    [False, False, False, False, False], \n",
    "    [False, False, False, False, False], \n",
    "    [False, False, False, False, False]])\n",
    "print(mask)\n",
    "print()\n",
    "print(np.where(mask))"
   ]
  },
  {
   "cell_type": "markdown",
   "metadata": {},
   "source": [
    "### Exercises\n",
    "Unless otherwise stated, the following exercises are based on the following array. Keep in mind, with regards to the phrasing, that Python begins indexing at 0, i.e. the 'first' element is the element with index 0."
   ]
  },
  {
   "cell_type": "code",
   "execution_count": null,
   "metadata": {},
   "outputs": [],
   "source": [
    "np.random.seed(100)\n",
    "M = np.random.randint(low=-5, high=5, size=(5, 5))\n",
    "print(M)"
   ]
  },
  {
   "cell_type": "markdown",
   "metadata": {},
   "source": [
    "#### Exercise 1\n",
    "Extract the third column of the matrix `M`"
   ]
  },
  {
   "cell_type": "code",
   "execution_count": null,
   "metadata": {},
   "outputs": [],
   "source": [
    "### your code here"
   ]
  },
  {
   "cell_type": "code",
   "execution_count": null,
   "metadata": {},
   "outputs": [],
   "source": []
  },
  {
   "cell_type": "markdown",
   "metadata": {},
   "source": [
    "#### Exercise 2\n",
    "Extract only the odd-indexed rows and columns, i.e. those with indices 1 and 3, of `M`"
   ]
  },
  {
   "cell_type": "code",
   "execution_count": null,
   "metadata": {},
   "outputs": [],
   "source": [
    "### your code here"
   ]
  },
  {
   "cell_type": "code",
   "execution_count": null,
   "metadata": {},
   "outputs": [],
   "source": []
  },
  {
   "cell_type": "markdown",
   "metadata": {},
   "source": [
    "#### Exercise 3\n",
    "Extract the positive values of the matrix `M`"
   ]
  },
  {
   "cell_type": "code",
   "execution_count": null,
   "metadata": {},
   "outputs": [],
   "source": [
    "### your code here"
   ]
  },
  {
   "cell_type": "code",
   "execution_count": null,
   "metadata": {},
   "outputs": [],
   "source": []
  },
  {
   "cell_type": "markdown",
   "metadata": {},
   "source": [
    "#### Exercise 4\n",
    "Replace all negative values of matrix `M` with 0"
   ]
  },
  {
   "cell_type": "code",
   "execution_count": null,
   "metadata": {},
   "outputs": [],
   "source": [
    "### your code here"
   ]
  },
  {
   "cell_type": "code",
   "execution_count": null,
   "metadata": {},
   "outputs": [],
   "source": []
  },
  {
   "cell_type": "markdown",
   "metadata": {},
   "source": [
    "## Array Operations\n",
    "Apart from just manipulating array contents directly, we can also perform operations on them, such a logical, arithmetical, or aggregative operations."
   ]
  },
  {
   "cell_type": "markdown",
   "metadata": {},
   "source": [
    "### Logical Operations\n",
    "Logical operations on NumPy arrays evaluate a condition on every individual entry and return boolean arrays of the same shape as the original array."
   ]
  },
  {
   "cell_type": "code",
   "execution_count": null,
   "metadata": {},
   "outputs": [],
   "source": [
    "M = np.random.randint(low=-10, high=10, size=(5, 5))\n",
    "print(M)\n",
    "print()\n",
    "print(M >= 0)"
   ]
  },
  {
   "cell_type": "markdown",
   "metadata": {},
   "source": [
    "We can, of course, use the resulting boolean array as a selection mask"
   ]
  },
  {
   "cell_type": "code",
   "execution_count": null,
   "metadata": {},
   "outputs": [],
   "source": [
    "print(M[M >= 0])"
   ]
  },
  {
   "cell_type": "markdown",
   "metadata": {},
   "source": [
    "and to assign new values"
   ]
  },
  {
   "cell_type": "code",
   "execution_count": null,
   "metadata": {},
   "outputs": [],
   "source": [
    "M[M > 0] = 20\n",
    "print(M)"
   ]
  },
  {
   "cell_type": "markdown",
   "metadata": {},
   "source": [
    "When using boolean arrays in conditions, for example `if` statements and other boolean expressions, one needs to use `any` or `all`, which requires that any or all elements in the array evalute to `True`:"
   ]
  },
  {
   "cell_type": "code",
   "execution_count": null,
   "metadata": {
    "scrolled": true
   },
   "outputs": [],
   "source": [
    "M = np.array([[ 1,  4],[ 9, 16]])\n",
    "print(M)\n",
    "print()\n",
    "print((M > 5).any())\n",
    "print()\n",
    "print((M > 5).all())"
   ]
  },
  {
   "cell_type": "code",
   "execution_count": null,
   "metadata": {},
   "outputs": [],
   "source": [
    "#any\n",
    "if (M > 5).any():\n",
    "    print(\"At least one element in M is larger than 5\")\n",
    "else:\n",
    "    print(\"No element in M is larger than 5\")"
   ]
  },
  {
   "cell_type": "code",
   "execution_count": null,
   "metadata": {
    "scrolled": true
   },
   "outputs": [],
   "source": [
    "#all\n",
    "if (M > 5).all():\n",
    "    print(\"All elements in M are larger than 5\")\n",
    "else:\n",
    "    print(\"Not all elements in M are larger than 5\")"
   ]
  },
  {
   "cell_type": "markdown",
   "metadata": {},
   "source": [
    "### Arithmetic\n",
    "Arithmetical operations on NumPy arrays are performed on an element-by-element basis. We can either perform this arithmetic between an array and a scalar, i.e. a single number, or between two arrays.\n",
    "\n",
    "In the case of a scalar, the identical operation is applied to every single array entry."
   ]
  },
  {
   "cell_type": "code",
   "execution_count": null,
   "metadata": {},
   "outputs": [],
   "source": [
    "v1 = np.arange(0, 5)\n",
    "v1"
   ]
  },
  {
   "cell_type": "code",
   "execution_count": null,
   "metadata": {},
   "outputs": [],
   "source": [
    "v1 * 2"
   ]
  },
  {
   "cell_type": "code",
   "execution_count": null,
   "metadata": {},
   "outputs": [],
   "source": [
    "v1 + 2"
   ]
  },
  {
   "cell_type": "code",
   "execution_count": null,
   "metadata": {},
   "outputs": [],
   "source": [
    "A = np.random.randint(low=-5, high=5, size=(3, 3))\n",
    "print(A)\n",
    "print()\n",
    "print(A * 2)\n",
    "print()\n",
    "print(A + 2)\n",
    "print()\n",
    "print(A ** 2)"
   ]
  },
  {
   "cell_type": "markdown",
   "metadata": {},
   "source": [
    "When we add, subtract, multiply and divide arrays with each other, the default behaviour is element-wise operations:"
   ]
  },
  {
   "cell_type": "code",
   "execution_count": null,
   "metadata": {},
   "outputs": [],
   "source": [
    "v1 = np.arange(start=5, stop=10)\n",
    "v2 = np.arange(start=0, stop=5)\n",
    "print(v1)\n",
    "print(v2)\n",
    "print(v1 + v2)\n",
    "print(v1 * v2)\n",
    "print(v1 ** v2)"
   ]
  },
  {
   "cell_type": "markdown",
   "metadata": {},
   "source": [
    "### Aggregative Functions\n",
    "We can also aggregate over arrays using several built-in functions. For example,"
   ]
  },
  {
   "cell_type": "code",
   "execution_count": null,
   "metadata": {},
   "outputs": [],
   "source": [
    "A = np.random.randint(low=0, high=10, size=(2, 2))\n",
    "print(A)\n",
    "print()\n",
    "print(np.sum(A))"
   ]
  },
  {
   "cell_type": "markdown",
   "metadata": {},
   "source": [
    "NumPy provides many aggregation functions, but we won't discuss them in detail here.\n",
    "Additionally, most aggregates have a ``NaN``-safe counterpart that computes the result while ignoring missing values, which are marked by the special IEEE floating-point ``NaN`` value.\n",
    "Some of these ``NaN``-safe functions were not added until NumPy 1.8, so they will not be available in older NumPy versions.\n",
    "\n",
    "The following table provides a list of useful aggregation functions available in NumPy:\n",
    "\n",
    "|Function Name      |   NaN-safe Version  | Description                                   |\n",
    "|-------------------|---------------------|-----------------------------------------------|\n",
    "| ``np.sum``        | ``np.nansum``       | Compute sum of elements                       |\n",
    "| ``np.prod``       | ``np.nanprod``      | Compute product of elements                   |\n",
    "| ``np.mean``       | ``np.nanmean``      | Compute mean of elements                      |\n",
    "| ``np.std``        | ``np.nanstd``       | Compute standard deviation                    |\n",
    "| ``np.var``        | ``np.nanvar``       | Compute variance                              |\n",
    "| ``np.min``        | ``np.nanmin``       | Find minimum value                            |\n",
    "| ``np.max``        | ``np.nanmax``       | Find maximum value                            |\n",
    "| ``np.argmin``     | ``np.nanargmin``    | Find index of minimum value                   |\n",
    "| ``np.argmax``     | ``np.nanargmax``    | Find index of maximum value                   |\n",
    "| ``np.median``     | ``np.nanmedian``    | Compute median of elements                    |\n",
    "| ``np.percentile`` | ``np.nanpercentile``| Compute rank-based statistics of elements     |\n",
    "| ``np.any``        | N/A                 | Evaluate whether any elements are true        |\n",
    "| ``np.all``        | N/A                 | Evaluate whether all elements are true        |"
   ]
  },
  {
   "cell_type": "markdown",
   "metadata": {},
   "source": [
    "\"`NaN`-safe\" means that the function ignores any missing values, e.g."
   ]
  },
  {
   "cell_type": "code",
   "execution_count": null,
   "metadata": {},
   "outputs": [],
   "source": [
    "A = np.array([[1, 2], [3, np.nan]])\n",
    "print(A)\n",
    "print()\n",
    "print(np.sum(A))\n",
    "print(np.nansum(A))"
   ]
  },
  {
   "cell_type": "markdown",
   "metadata": {},
   "source": [
    "We can apply these functions either to entire arrays or individual axes. To understand how the `axis` parameter works it's best to stop thinking of arrays as rows and columns but as nested lists. `axis=0` performs an operation along the outer-most dimension, e.g. if \n",
    "\n",
    "$$A = \\begin{matrix} [[1 & 5] \\\\ [2 & 2]] \\end{matrix}$$\n",
    "\n",
    "then the two arrays (1, 5) and (2, 2) would be added together elementwise, resulting in (3, 7). For `axis=1`, the individual elements of each array in the next layer would be added together, i.e. (1 + 5, 2 + 2) = (6, 4)."
   ]
  },
  {
   "cell_type": "code",
   "execution_count": null,
   "metadata": {},
   "outputs": [],
   "source": [
    "A = np.array([[1, 5], [2, 2]])\n",
    "print(A)\n",
    "print()\n",
    "print(np.sum(A, axis=0))\n",
    "print()\n",
    "print(np.sum(A, axis=1))"
   ]
  },
  {
   "cell_type": "markdown",
   "metadata": {},
   "source": [
    "### Vectorization\n",
    "\n",
    "Vectorization in NumPy refers to the implementation of mathematical operations in compiled C code rather than interpreted Python code. This provides a substantial performance boost. Furthermore, due to NumPy's more intuitive treatment of array arithmetic, as much of a program's math should be formulated in terms of NumPy operations. Many packages, like Pandas, SciPy, and Scikit-Learn make use of this vectorization."
   ]
  },
  {
   "cell_type": "code",
   "execution_count": null,
   "metadata": {
    "scrolled": true
   },
   "outputs": [],
   "source": [
    "# More intuitive treatment of lists versus arrays\n",
    "lis = [1,2,3,4,5]\n",
    "print(lis + lis)\n",
    "\n",
    "ary = np.array(lis)\n",
    "print(ary + ary)"
   ]
  },
  {
   "cell_type": "markdown",
   "metadata": {},
   "source": [
    "Achieving the same result in base Python requires loops"
   ]
  },
  {
   "cell_type": "code",
   "execution_count": null,
   "metadata": {},
   "outputs": [],
   "source": [
    "[x+x for x in lis]"
   ]
  },
  {
   "cell_type": "markdown",
   "metadata": {},
   "source": [
    "NumPy is much faster by a factor than list."
   ]
  },
  {
   "cell_type": "code",
   "execution_count": null,
   "metadata": {},
   "outputs": [],
   "source": [
    "lis = [i for i in range(5000)]\n",
    "ary = np.array(lis)\n",
    "%timeit [x**2 for x in lis]\n",
    "%timeit ary ** 2"
   ]
  },
  {
   "cell_type": "markdown",
   "metadata": {},
   "source": [
    "We call operations on numpy arrays **vectorized**. This feature is the reason NumPy sits at the base of so many numerical and scientific Python libraries, e.g. scipy, scikit-learn and Pandas."
   ]
  },
  {
   "cell_type": "markdown",
   "metadata": {},
   "source": [
    "### Exercises"
   ]
  },
  {
   "cell_type": "markdown",
   "metadata": {},
   "source": [
    "#### Exercise 1\n",
    "Create two 8x8 arrays of random integers. The first should have only negative numbers between -10 and -1 (inclusive) and the second should have only positive numbers between 1 and 10 (inclusive). Add them together and save the result as a variable `A`."
   ]
  },
  {
   "cell_type": "code",
   "execution_count": null,
   "metadata": {},
   "outputs": [],
   "source": [
    "### Your code here"
   ]
  },
  {
   "cell_type": "code",
   "execution_count": null,
   "metadata": {},
   "outputs": [],
   "source": []
  },
  {
   "cell_type": "markdown",
   "metadata": {},
   "source": [
    "#### Exercise 2\n",
    "Calculate the mean of the entire matrix `A`."
   ]
  },
  {
   "cell_type": "code",
   "execution_count": null,
   "metadata": {},
   "outputs": [],
   "source": [
    "### Your code here"
   ]
  },
  {
   "cell_type": "code",
   "execution_count": null,
   "metadata": {},
   "outputs": [],
   "source": []
  },
  {
   "cell_type": "markdown",
   "metadata": {},
   "source": [
    "#### Exercise 3\n",
    "How many of the entries of the resulting matrix `A` are positive, negative, and zero?"
   ]
  },
  {
   "cell_type": "code",
   "execution_count": null,
   "metadata": {},
   "outputs": [],
   "source": [
    "### Your code here"
   ]
  },
  {
   "cell_type": "code",
   "execution_count": null,
   "metadata": {},
   "outputs": [],
   "source": []
  },
  {
   "cell_type": "markdown",
   "metadata": {},
   "source": [
    "#### Exercise 4\n",
    "Calculate the mean of every row and column of the matrix `A`"
   ]
  },
  {
   "cell_type": "code",
   "execution_count": null,
   "metadata": {},
   "outputs": [],
   "source": [
    "### Your code here"
   ]
  },
  {
   "cell_type": "code",
   "execution_count": null,
   "metadata": {},
   "outputs": [],
   "source": []
  },
  {
   "cell_type": "markdown",
   "metadata": {},
   "source": [
    "## Advanced Manipulation "
   ]
  },
  {
   "cell_type": "markdown",
   "metadata": {},
   "source": [
    "### Reshaping and Transposing\n",
    "On disk, NumPy arrays are stored by their values and their shapes separately. That means we can change the shape of an array very quickly, regardless of the actual size. The array dimensions must match, i.e. the new shape must have space for exactly as many elements as the old shape. \n",
    "\n",
    "Elements are reshaped in an \"inside-out\" fashion. That means the inner-most dimensions are filled with values first and then combined in the outer dimensions. In the context of 2D matrices, this means that values are set rows-first."
   ]
  },
  {
   "cell_type": "code",
   "execution_count": null,
   "metadata": {},
   "outputs": [],
   "source": [
    "a = np.arange(12)\n",
    "print(a)\n",
    "print()\n",
    "print(a.reshape(3, 4))\n",
    "print()\n",
    "print(a.reshape(6, 2))"
   ]
  },
  {
   "cell_type": "markdown",
   "metadata": {},
   "source": [
    "Alternatively, we can also transpose matrices. Transposing means that the order of dimensions become flipped, i.e. the first dimensions becomes the last, the last the first, etc. Consequently, transposing 1D arrays has no effect."
   ]
  },
  {
   "cell_type": "code",
   "execution_count": null,
   "metadata": {},
   "outputs": [],
   "source": [
    "print(a)\n",
    "print(a.transpose())"
   ]
  },
  {
   "cell_type": "markdown",
   "metadata": {},
   "source": [
    "Transposing 2D arrays means that rows become columns and columns become rows."
   ]
  },
  {
   "cell_type": "code",
   "execution_count": null,
   "metadata": {},
   "outputs": [],
   "source": [
    "A = np.arange(15).reshape(3, 5)\n",
    "print(A)\n",
    "print()\n",
    "print(A.transpose())"
   ]
  },
  {
   "cell_type": "markdown",
   "metadata": {},
   "source": [
    "For higher-dimensional arrays, the order of the dimensions reverses. Within this new shape, values are then set in the same \"inside-out\" fashion."
   ]
  },
  {
   "cell_type": "code",
   "execution_count": null,
   "metadata": {},
   "outputs": [],
   "source": [
    "A = np.random.randint(low=-5, high=5, size=(2, 3, 4, 5, 6))\n",
    "print(A.shape)\n",
    "print()\n",
    "print(A.transpose().shape)"
   ]
  },
  {
   "cell_type": "markdown",
   "metadata": {},
   "source": [
    "### Exercises"
   ]
  },
  {
   "cell_type": "markdown",
   "metadata": {},
   "source": [
    "#### Exercise 1\n",
    "Let x be array\n",
    "    \n",
    "    [[1, 2, 3], \n",
    "     [4, 5, 6]].\n",
    "\n",
    "Convert it to \n",
    "    \n",
    "    [[1 4 2 5 3 6]]"
   ]
  },
  {
   "cell_type": "code",
   "execution_count": null,
   "metadata": {},
   "outputs": [],
   "source": [
    "### Your code here"
   ]
  },
  {
   "cell_type": "code",
   "execution_count": null,
   "metadata": {},
   "outputs": [],
   "source": []
  },
  {
   "cell_type": "markdown",
   "metadata": {},
   "source": [
    "#### Exercise 2\n",
    "Let x be an array\n",
    "\n",
    "    [[1, 2, 3]\n",
    "     [4, 5, 6]]\n",
    "\n",
    "and y be an array\n",
    "\n",
    "    [[ 7,  8,  9]\n",
    "     [10, 11, 12]]\n",
    "\n",
    "Concatenate x and y so that a new array looks like\n",
    "\n",
    "    [[1, 2, 3,  7,  8,  9]\n",
    "     [4, 5, 6, 10, 11, 12]]\n",
    "     \n",
    "Hint: `np.concatenate`"
   ]
  },
  {
   "cell_type": "code",
   "execution_count": null,
   "metadata": {},
   "outputs": [],
   "source": [
    "### Your code here"
   ]
  },
  {
   "cell_type": "code",
   "execution_count": null,
   "metadata": {},
   "outputs": [],
   "source": []
  },
  {
   "cell_type": "markdown",
   "metadata": {},
   "source": [
    "## Additional Resources:  \n",
    "- [numpy Quickstart Guide](https://docs.scipy.org/doc/numpy-dev/user/quickstart.html)  \n",
    "- [Rahul Dave's CS109 lab1 content at Harvard](https://github.com/cs109/2015lab1)  \n",
    "- [The Data Incubator](https://www.thedataincubator.com)  \n",
    "- [Python Data Science Handbook](https://github.com/jakevdp/PythonDataScienceHandbook)"
   ]
  }
 ],
 "metadata": {
  "anaconda-cloud": {},
  "kernelspec": {
   "display_name": "Python 3",
   "language": "python",
   "name": "python3"
  },
  "language_info": {
   "codemirror_mode": {
    "name": "ipython",
    "version": 3
   },
   "file_extension": ".py",
   "mimetype": "text/x-python",
   "name": "python",
   "nbconvert_exporter": "python",
   "pygments_lexer": "ipython3",
   "version": "3.7.1"
  }
 },
 "nbformat": 4,
 "nbformat_minor": 2
}
